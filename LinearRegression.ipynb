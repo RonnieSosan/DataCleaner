{
 "metadata": {
  "language_info": {
   "codemirror_mode": {
    "name": "ipython",
    "version": 3
   },
   "file_extension": ".py",
   "mimetype": "text/x-python",
   "name": "python",
   "nbconvert_exporter": "python",
   "pygments_lexer": "ipython3",
   "version": "3.7.6-final"
  },
  "orig_nbformat": 2,
  "kernelspec": {
   "name": "python_defaultSpec_1599435518178",
   "display_name": "Python 3.7.6 64-bit ('base': conda)"
  }
 },
 "nbformat": 4,
 "nbformat_minor": 2,
 "cells": [
  {
   "cell_type": "code",
   "execution_count": 9,
   "metadata": {},
   "outputs": [
    {
     "output_type": "execute_result",
     "data": {
      "text/plain": "                  Name                                           Image  \\\n0      Virgil van Dijk  https://cdn.sofifa.org/players/4/20/203376.png   \n1    Kalidou Koulibaly  https://cdn.sofifa.org/players/4/20/201024.png   \n2  Sergio Ramos García  https://cdn.sofifa.org/players/4/20/155862.png   \n3    Giorgio Chiellini  https://cdn.sofifa.org/players/4/20/138956.png   \n4          Diego Godín  https://cdn.sofifa.org/players/4/20/182493.png   \n\n       Country Position  Age  Overall  Potential         Club      ID  Height  \\\n0  Netherlands       CB   27       90         90    Liverpool  203376   193.0   \n1      Senegal       CB   28       89         89       Napoli  201024   188.0   \n2        Spain       CB   33       89         89  Real Madrid  155862   182.9   \n3        Italy       CB   34       89         89     Juventus  138956   188.0   \n4      Uruguay       CB   33       88         88        Inter  182493   188.0   \n\n   ...     A/W     D/W  IR PAC  SHO PAS DRI  DEF  PHY  Hits  \n0  ...  Medium  Medium   3  77   60  70  71   90   86   425  \n1  ...  Medium    High   3  71   28  54  67   89   87   303  \n2  ...    High  Medium   4  72   68  75  73   87   85   211  \n3  ...  Medium    High   4  68   46  58  60   90   82   106  \n4  ...  Medium    High   3  60   48  64  61   89   83   103  \n\n[5 rows x 75 columns]",
      "text/html": "<div>\n<style scoped>\n    .dataframe tbody tr th:only-of-type {\n        vertical-align: middle;\n    }\n\n    .dataframe tbody tr th {\n        vertical-align: top;\n    }\n\n    .dataframe thead th {\n        text-align: right;\n    }\n</style>\n<table border=\"1\" class=\"dataframe\">\n  <thead>\n    <tr style=\"text-align: right;\">\n      <th></th>\n      <th>Name</th>\n      <th>Image</th>\n      <th>Country</th>\n      <th>Position</th>\n      <th>Age</th>\n      <th>Overall</th>\n      <th>Potential</th>\n      <th>Club</th>\n      <th>ID</th>\n      <th>Height</th>\n      <th>...</th>\n      <th>A/W</th>\n      <th>D/W</th>\n      <th>IR</th>\n      <th>PAC</th>\n      <th>SHO</th>\n      <th>PAS</th>\n      <th>DRI</th>\n      <th>DEF</th>\n      <th>PHY</th>\n      <th>Hits</th>\n    </tr>\n  </thead>\n  <tbody>\n    <tr>\n      <th>0</th>\n      <td>Virgil van Dijk</td>\n      <td>https://cdn.sofifa.org/players/4/20/203376.png</td>\n      <td>Netherlands</td>\n      <td>CB</td>\n      <td>27</td>\n      <td>90</td>\n      <td>90</td>\n      <td>Liverpool</td>\n      <td>203376</td>\n      <td>193.0</td>\n      <td>...</td>\n      <td>Medium</td>\n      <td>Medium</td>\n      <td>3</td>\n      <td>77</td>\n      <td>60</td>\n      <td>70</td>\n      <td>71</td>\n      <td>90</td>\n      <td>86</td>\n      <td>425</td>\n    </tr>\n    <tr>\n      <th>1</th>\n      <td>Kalidou Koulibaly</td>\n      <td>https://cdn.sofifa.org/players/4/20/201024.png</td>\n      <td>Senegal</td>\n      <td>CB</td>\n      <td>28</td>\n      <td>89</td>\n      <td>89</td>\n      <td>Napoli</td>\n      <td>201024</td>\n      <td>188.0</td>\n      <td>...</td>\n      <td>Medium</td>\n      <td>High</td>\n      <td>3</td>\n      <td>71</td>\n      <td>28</td>\n      <td>54</td>\n      <td>67</td>\n      <td>89</td>\n      <td>87</td>\n      <td>303</td>\n    </tr>\n    <tr>\n      <th>2</th>\n      <td>Sergio Ramos García</td>\n      <td>https://cdn.sofifa.org/players/4/20/155862.png</td>\n      <td>Spain</td>\n      <td>CB</td>\n      <td>33</td>\n      <td>89</td>\n      <td>89</td>\n      <td>Real Madrid</td>\n      <td>155862</td>\n      <td>182.9</td>\n      <td>...</td>\n      <td>High</td>\n      <td>Medium</td>\n      <td>4</td>\n      <td>72</td>\n      <td>68</td>\n      <td>75</td>\n      <td>73</td>\n      <td>87</td>\n      <td>85</td>\n      <td>211</td>\n    </tr>\n    <tr>\n      <th>3</th>\n      <td>Giorgio Chiellini</td>\n      <td>https://cdn.sofifa.org/players/4/20/138956.png</td>\n      <td>Italy</td>\n      <td>CB</td>\n      <td>34</td>\n      <td>89</td>\n      <td>89</td>\n      <td>Juventus</td>\n      <td>138956</td>\n      <td>188.0</td>\n      <td>...</td>\n      <td>Medium</td>\n      <td>High</td>\n      <td>4</td>\n      <td>68</td>\n      <td>46</td>\n      <td>58</td>\n      <td>60</td>\n      <td>90</td>\n      <td>82</td>\n      <td>106</td>\n    </tr>\n    <tr>\n      <th>4</th>\n      <td>Diego Godín</td>\n      <td>https://cdn.sofifa.org/players/4/20/182493.png</td>\n      <td>Uruguay</td>\n      <td>CB</td>\n      <td>33</td>\n      <td>88</td>\n      <td>88</td>\n      <td>Inter</td>\n      <td>182493</td>\n      <td>188.0</td>\n      <td>...</td>\n      <td>Medium</td>\n      <td>High</td>\n      <td>3</td>\n      <td>60</td>\n      <td>48</td>\n      <td>64</td>\n      <td>61</td>\n      <td>89</td>\n      <td>83</td>\n      <td>103</td>\n    </tr>\n  </tbody>\n</table>\n<p>5 rows × 75 columns</p>\n</div>"
     },
     "metadata": {},
     "execution_count": 9
    }
   ],
   "source": [
    "import pandas as pd\n",
    "from sklearn.preprocessing import MinMaxScaler\n",
    "from sklearn.model_selection import cross_validate\n",
    "import numpy as np\n",
    "import matplotlib.pyplot as  plt\n",
    "%matplotlib inline\n",
    "\n",
    "defenders = pd.read_csv(r'C:\\Users\\sosan\\Documents\\Dissertation\\DataSets\\Fifa 20\\TransformedData\\Defenders.csv')\n",
    "midfielders = pd.read_csv(r'C:\\Users\\sosan\\Documents\\Dissertation\\DataSets\\Fifa 20\\TransformedData\\Midfielders.csv')\n",
    "fowards = pd.read_csv(r'C:\\Users\\sosan\\Documents\\Dissertation\\DataSets\\Fifa 20\\TransformedData\\Strikers.csv')\n",
    "defenders.head(5)"
   ]
  },
  {
   "cell_type": "code",
   "execution_count": 10,
   "metadata": {},
   "outputs": [],
   "source": [
    "def dropFeatures(data):\n",
    "    new_data =data.drop(['Image','ID','A/W','D/W','Release Clause','Hits','Joined', 'Base Stats','Total Stats','Loan Date End', 'Release Clause','Position','Wage','Value','Name', 'BOV', 'Potential','Club'], axis = 1)\n",
    "    return new_data\n",
    "\n",
    "defenders = dropFeatures(defenders)\n",
    "midfielders = dropFeatures(midfielders)\n",
    "fowards = dropFeatures(fowards)"
   ]
  },
  {
   "cell_type": "code",
   "execution_count": 11,
   "metadata": {},
   "outputs": [],
   "source": [
    "def convertFoot(playerData):\n",
    "    playerData.loc[playerData['foot'] == 'Right', 'foot'] = 1\n",
    "    playerData.loc[playerData['foot'] == 'Left', 'foot'] = 0\n",
    "    return playerData\n",
    "\n",
    "def convertDefenceLabels(data):\n",
    "    data.loc[data['BP'] == 'CB', 'BP'] = 0\n",
    "    data.loc[(data['BP'] == 'LB') | (data['BP'] == 'LWB'), 'BP'] = 1\n",
    "    data.loc[(data['BP'] == 'RB') | (data['BP'] == 'RWB'), 'BP'] = 2\n",
    "    return data\n",
    "\n",
    "def convertFowardLabels(data):\n",
    "    data.loc[data['BP'] == 'LW', 'BP'] = 0\n",
    "    data.loc[data['BP'] == 'RW', 'BP'] = 1\n",
    "    data.loc[(data['BP'] == 'ST') | (data['BP'] == 'CF'), 'BP'] = 2\n",
    "    return data\n",
    "\n",
    "def convertMidfieldLabels(data):\n",
    "    data.loc[data['BP'] == 'CM', 'BP'] = 1\n",
    "    data.loc[data['BP'] == 'CDM', 'BP'] = 0\n",
    "    data.loc[data['BP'] == 'CAM', 'BP'] = 2\n",
    "    data.loc[data['BP'] == 'RM' , 'BP'] = 4\n",
    "    data.loc[data['BP'] == 'LM', 'BP'] = 3\n",
    "    return data"
   ]
  },
  {
   "cell_type": "code",
   "execution_count": 12,
   "metadata": {},
   "outputs": [
    {
     "output_type": "execute_result",
     "data": {
      "text/plain": "    Country  Age  Overall  Height  Weight foot BP  Growth  Attacking  \\\n0  Portugal   34       93   188.0    83.2    1  2       0        437   \n1     Egypt   27       90   175.3    71.4    0  0       0        391   \n2    France   20       89   177.8    73.2    1  1       6        405   \n3   England   25       89   188.0    89.1    1  2       2        421   \n4    Poland   30       89   182.9    80.0    1  2       0        405   \n\n   Crossing  ...  GK Reflexes  W/F  SM  IR  PAC  SHO  PAS  DRI  DEF  PHY  \n0        84  ...           11    4   5   5   90   93   82   89   35   78  \n1        79  ...           14    3   4   3   93   86   81   89   45   74  \n2        78  ...            6    4   5   3   96   84   78   90   39   75  \n3        75  ...           11    4   3   3   70   91   79   81   47   83  \n4        62  ...           10    4   4   4   77   87   74   85   41   82  \n\n[5 rows x 58 columns]",
      "text/html": "<div>\n<style scoped>\n    .dataframe tbody tr th:only-of-type {\n        vertical-align: middle;\n    }\n\n    .dataframe tbody tr th {\n        vertical-align: top;\n    }\n\n    .dataframe thead th {\n        text-align: right;\n    }\n</style>\n<table border=\"1\" class=\"dataframe\">\n  <thead>\n    <tr style=\"text-align: right;\">\n      <th></th>\n      <th>Country</th>\n      <th>Age</th>\n      <th>Overall</th>\n      <th>Height</th>\n      <th>Weight</th>\n      <th>foot</th>\n      <th>BP</th>\n      <th>Growth</th>\n      <th>Attacking</th>\n      <th>Crossing</th>\n      <th>...</th>\n      <th>GK Reflexes</th>\n      <th>W/F</th>\n      <th>SM</th>\n      <th>IR</th>\n      <th>PAC</th>\n      <th>SHO</th>\n      <th>PAS</th>\n      <th>DRI</th>\n      <th>DEF</th>\n      <th>PHY</th>\n    </tr>\n  </thead>\n  <tbody>\n    <tr>\n      <th>0</th>\n      <td>Portugal</td>\n      <td>34</td>\n      <td>93</td>\n      <td>188.0</td>\n      <td>83.2</td>\n      <td>1</td>\n      <td>2</td>\n      <td>0</td>\n      <td>437</td>\n      <td>84</td>\n      <td>...</td>\n      <td>11</td>\n      <td>4</td>\n      <td>5</td>\n      <td>5</td>\n      <td>90</td>\n      <td>93</td>\n      <td>82</td>\n      <td>89</td>\n      <td>35</td>\n      <td>78</td>\n    </tr>\n    <tr>\n      <th>1</th>\n      <td>Egypt</td>\n      <td>27</td>\n      <td>90</td>\n      <td>175.3</td>\n      <td>71.4</td>\n      <td>0</td>\n      <td>0</td>\n      <td>0</td>\n      <td>391</td>\n      <td>79</td>\n      <td>...</td>\n      <td>14</td>\n      <td>3</td>\n      <td>4</td>\n      <td>3</td>\n      <td>93</td>\n      <td>86</td>\n      <td>81</td>\n      <td>89</td>\n      <td>45</td>\n      <td>74</td>\n    </tr>\n    <tr>\n      <th>2</th>\n      <td>France</td>\n      <td>20</td>\n      <td>89</td>\n      <td>177.8</td>\n      <td>73.2</td>\n      <td>1</td>\n      <td>1</td>\n      <td>6</td>\n      <td>405</td>\n      <td>78</td>\n      <td>...</td>\n      <td>6</td>\n      <td>4</td>\n      <td>5</td>\n      <td>3</td>\n      <td>96</td>\n      <td>84</td>\n      <td>78</td>\n      <td>90</td>\n      <td>39</td>\n      <td>75</td>\n    </tr>\n    <tr>\n      <th>3</th>\n      <td>England</td>\n      <td>25</td>\n      <td>89</td>\n      <td>188.0</td>\n      <td>89.1</td>\n      <td>1</td>\n      <td>2</td>\n      <td>2</td>\n      <td>421</td>\n      <td>75</td>\n      <td>...</td>\n      <td>11</td>\n      <td>4</td>\n      <td>3</td>\n      <td>3</td>\n      <td>70</td>\n      <td>91</td>\n      <td>79</td>\n      <td>81</td>\n      <td>47</td>\n      <td>83</td>\n    </tr>\n    <tr>\n      <th>4</th>\n      <td>Poland</td>\n      <td>30</td>\n      <td>89</td>\n      <td>182.9</td>\n      <td>80.0</td>\n      <td>1</td>\n      <td>2</td>\n      <td>0</td>\n      <td>405</td>\n      <td>62</td>\n      <td>...</td>\n      <td>10</td>\n      <td>4</td>\n      <td>4</td>\n      <td>4</td>\n      <td>77</td>\n      <td>87</td>\n      <td>74</td>\n      <td>85</td>\n      <td>41</td>\n      <td>82</td>\n    </tr>\n  </tbody>\n</table>\n<p>5 rows × 58 columns</p>\n</div>"
     },
     "metadata": {},
     "execution_count": 12
    }
   ],
   "source": [
    "#get a list of the numeric features in the dataset\n",
    "defenders = convertDefenceLabels(defenders)\n",
    "defenders = convertFoot(defenders)\n",
    "midfielders = convertMidfieldLabels(midfielders)\n",
    "midfielders = convertFoot(midfielders)\n",
    "fowards = convertFowardLabels(fowards)\n",
    "fowards = convertFoot(fowards)\n",
    "fowards.head(5)"
   ]
  },
  {
   "cell_type": "code",
   "execution_count": null,
   "metadata": {},
   "outputs": [],
   "source": [
    "def normalizeData(data):\n",
    "    min_max = MinMaxScaler()\n",
    "    data[player_features] =  min_max.fit_transform(data[player_features])\n",
    "    #df_scaled = pd.DataFrame(player, columns=numerical_Data.columns,index=numerical_Data.index)\n",
    "    return data"
   ]
  },
  {
   "cell_type": "code",
   "execution_count": null,
   "metadata": {},
   "outputs": [],
   "source": [
    "defenders = normalizeData(defenders)\n",
    "midfielders = normalizeData(midfielders)\n",
    "fowards = normalizeData(fowards)"
   ]
  },
  {
   "cell_type": "code",
   "execution_count": 13,
   "metadata": {},
   "outputs": [
    {
     "output_type": "execute_result",
     "data": {
      "text/plain": "   Age  Overall  Height  Weight foot BP  Growth  Attacking  Crossing  \\\n0   34       93   188.0    83.2    1  2       0        437        84   \n1   27       90   175.3    71.4    0  0       0        391        79   \n2   20       89   177.8    73.2    1  1       6        405        78   \n3   25       89   188.0    89.1    1  2       2        421        75   \n4   30       89   182.9    80.0    1  2       0        405        62   \n\n   Finishing  ...  W/F  SM  IR  PAC  SHO  PAS  DRI  DEF  PHY  Major_Nation  \n0         94  ...    4   5   5   90   93   82   89   35   78             0  \n1         90  ...    3   4   3   93   86   81   89   45   74             0  \n2         89  ...    4   5   3   96   84   78   90   39   75             1  \n3         94  ...    4   3   3   70   91   79   81   47   83             1  \n4         88  ...    4   4   4   77   87   74   85   41   82             0  \n\n[5 rows x 58 columns]",
      "text/html": "<div>\n<style scoped>\n    .dataframe tbody tr th:only-of-type {\n        vertical-align: middle;\n    }\n\n    .dataframe tbody tr th {\n        vertical-align: top;\n    }\n\n    .dataframe thead th {\n        text-align: right;\n    }\n</style>\n<table border=\"1\" class=\"dataframe\">\n  <thead>\n    <tr style=\"text-align: right;\">\n      <th></th>\n      <th>Age</th>\n      <th>Overall</th>\n      <th>Height</th>\n      <th>Weight</th>\n      <th>foot</th>\n      <th>BP</th>\n      <th>Growth</th>\n      <th>Attacking</th>\n      <th>Crossing</th>\n      <th>Finishing</th>\n      <th>...</th>\n      <th>W/F</th>\n      <th>SM</th>\n      <th>IR</th>\n      <th>PAC</th>\n      <th>SHO</th>\n      <th>PAS</th>\n      <th>DRI</th>\n      <th>DEF</th>\n      <th>PHY</th>\n      <th>Major_Nation</th>\n    </tr>\n  </thead>\n  <tbody>\n    <tr>\n      <th>0</th>\n      <td>34</td>\n      <td>93</td>\n      <td>188.0</td>\n      <td>83.2</td>\n      <td>1</td>\n      <td>2</td>\n      <td>0</td>\n      <td>437</td>\n      <td>84</td>\n      <td>94</td>\n      <td>...</td>\n      <td>4</td>\n      <td>5</td>\n      <td>5</td>\n      <td>90</td>\n      <td>93</td>\n      <td>82</td>\n      <td>89</td>\n      <td>35</td>\n      <td>78</td>\n      <td>0</td>\n    </tr>\n    <tr>\n      <th>1</th>\n      <td>27</td>\n      <td>90</td>\n      <td>175.3</td>\n      <td>71.4</td>\n      <td>0</td>\n      <td>0</td>\n      <td>0</td>\n      <td>391</td>\n      <td>79</td>\n      <td>90</td>\n      <td>...</td>\n      <td>3</td>\n      <td>4</td>\n      <td>3</td>\n      <td>93</td>\n      <td>86</td>\n      <td>81</td>\n      <td>89</td>\n      <td>45</td>\n      <td>74</td>\n      <td>0</td>\n    </tr>\n    <tr>\n      <th>2</th>\n      <td>20</td>\n      <td>89</td>\n      <td>177.8</td>\n      <td>73.2</td>\n      <td>1</td>\n      <td>1</td>\n      <td>6</td>\n      <td>405</td>\n      <td>78</td>\n      <td>89</td>\n      <td>...</td>\n      <td>4</td>\n      <td>5</td>\n      <td>3</td>\n      <td>96</td>\n      <td>84</td>\n      <td>78</td>\n      <td>90</td>\n      <td>39</td>\n      <td>75</td>\n      <td>1</td>\n    </tr>\n    <tr>\n      <th>3</th>\n      <td>25</td>\n      <td>89</td>\n      <td>188.0</td>\n      <td>89.1</td>\n      <td>1</td>\n      <td>2</td>\n      <td>2</td>\n      <td>421</td>\n      <td>75</td>\n      <td>94</td>\n      <td>...</td>\n      <td>4</td>\n      <td>3</td>\n      <td>3</td>\n      <td>70</td>\n      <td>91</td>\n      <td>79</td>\n      <td>81</td>\n      <td>47</td>\n      <td>83</td>\n      <td>1</td>\n    </tr>\n    <tr>\n      <th>4</th>\n      <td>30</td>\n      <td>89</td>\n      <td>182.9</td>\n      <td>80.0</td>\n      <td>1</td>\n      <td>2</td>\n      <td>0</td>\n      <td>405</td>\n      <td>62</td>\n      <td>88</td>\n      <td>...</td>\n      <td>4</td>\n      <td>4</td>\n      <td>4</td>\n      <td>77</td>\n      <td>87</td>\n      <td>74</td>\n      <td>85</td>\n      <td>41</td>\n      <td>82</td>\n      <td>0</td>\n    </tr>\n  </tbody>\n</table>\n<p>5 rows × 58 columns</p>\n</div>"
     },
     "metadata": {},
     "execution_count": 13
    }
   ],
   "source": [
    "#Get a count of Nationalities in the Dataset, make of list of those with over 250 Players (our Major Nations)\n",
    "nat_counts = defenders.Country.value_counts()\n",
    "nat_list = nat_counts[nat_counts > 250].index.tolist()\n",
    "\n",
    "#Replace Nationality with a binary indicator variable for 'Major Nation'\n",
    "def major_nation(df):\n",
    "    if (df.Country in nat_list):\n",
    "        return 1\n",
    "    else:\n",
    "        return 0\n",
    "\n",
    "#Create a copy of the original dataframe to avoid indexing errors\n",
    "defenders1 = defenders.copy()\n",
    "midfielders1 = midfielders.copy()\n",
    "fowards1 = fowards.copy()\n",
    "\n",
    "defenders1['Major_Nation'] = defenders1.apply(major_nation,axis = 1)\n",
    "midfielders1['Major_Nation'] = midfielders1.apply(major_nation,axis = 1)\n",
    "fowards1['Major_Nation'] = fowards1.apply(major_nation,axis = 1)\n",
    "\n",
    "#Drop original columns used\n",
    "defenders1 = defenders1.drop(['Country'], axis = 1)\n",
    "midfielders1 = midfielders1.drop(['Country'], axis = 1)\n",
    "fowards1 = fowards1.drop(['Country'], axis = 1)\n",
    "fowards1.head()\n",
    "\n"
   ]
  },
  {
   "cell_type": "code",
   "execution_count": 14,
   "metadata": {
    "tags": []
   },
   "outputs": [
    {
     "output_type": "stream",
     "name": "stdout",
     "text": "(3324, 57) (3324,)\n(831, 57) (831,)\n"
    }
   ],
   "source": [
    "#Split ID as a Target value\n",
    "target = defenders1.Overall\n",
    "explanatory_var = defenders1.drop(['Overall'], axis = 1)\n",
    "\n",
    "#Splitting into test and train\n",
    "from sklearn.model_selection import train_test_split\n",
    "x_train, x_test, y_train, y_test = train_test_split(explanatory_var, target, test_size=0.2)\n",
    "\n",
    "#new flow\n",
    "\n",
    "dictionaryOfTrain_Test = {}\n",
    "x_train, x_test, y_train, y_test = train_test_split( defenders1.drop(['Overall'], axis = 1), defenders1.Overall, test_size=0.2)\n",
    "dictionaryOfTrain_Test['defenders'] = {'x_train': x_train,  'x_test' : x_test, 'y_train':y_train, 'y_test': y_test}\n",
    "\n",
    "x_train, x_test, y_train, y_test = train_test_split( midfielders1.drop(['Overall'], axis = 1), midfielders1.Overall, test_size=0.2)\n",
    "dictionaryOfTrain_Test['midfielders'] = {'x_train': x_train,  'x_test' : x_test, 'y_train':y_train, 'y_test': y_test}\n",
    "\n",
    "x_train, x_test, y_train, y_test = train_test_split( fowards1.drop(['Overall'], axis = 1), fowards1.Overall, test_size=0.2)\n",
    "dictionaryOfTrain_Test['fowards'] = {'x_train': x_train,  'x_test' : x_test, 'y_train':y_train, 'y_test': y_test}\n",
    "\n",
    "#One Hot Encoding\n",
    "#x_train = pd.get_dummies(x_train)\n",
    "#x_test = pd.get_dummies(x_test)\n",
    "print(x_train.shape,y_train.shape)\n",
    "print(x_test.shape,y_test.shape)"
   ]
  },
  {
   "cell_type": "code",
   "execution_count": 15,
   "metadata": {
    "tags": []
   },
   "outputs": [],
   "source": [
    "#Applying Linear Regression\n",
    "from sklearn.linear_model import LinearRegression\n",
    "from sklearn.neural_network import MLPRegressor\n",
    "\n",
    "\n",
    "\n",
    "#Finding the r2 score and root mean squared error\n",
    "from sklearn.metrics import r2_score, mean_squared_error\n",
    "\n",
    "#import plotter\n",
    "import seaborn as sns\n",
    "\n",
    "import matplotlib.pyplot as  plt\n",
    "%matplotlib inline\n",
    "\n",
    "def applyModel(model, x_data, y_true, pltname):\n",
    "    y_pred = model.predict(x_data)\n",
    "\n",
    "    print('\\n\\nModel Name: ',type(model))\n",
    "    print(y_pred[:10])\n",
    "    print(y_true[:10])\n",
    "\n",
    "    print('r2 score: '+str(round(r2_score(y_true, y_pred),2)))\n",
    "    print('RMSE : '+str(round(np.sqrt(mean_squared_error(y_true, y_pred)),2)))\n",
    "\n",
    "    # # get importance\n",
    "    # importance = model.coef_\n",
    "    # # summarize feature importance\n",
    "    # for i,v in enumerate(importance):\n",
    "    #     print('Feature: %0d, Score: %.5f' % (i,v))\n",
    "    #     # plot feature importance\n",
    "    # plt.bar([x for x in range(len(importance))], importance)\n",
    "    # plt.show()\n",
    "\n",
    "    #Visualising the results\n",
    "    # plt.figure()\n",
    "    # plt.figure(figsize=(18,10))\n",
    "    # sns.regplot(y_pred, y_true,scatter_kws={'color':'red','edgecolor':'blue','linewidth':'0.7'},line_kws={'color':'black','alpha':0.5})\n",
    "    # plt.title(\"Linear Prediction of Player Rating\")\n",
    "    # plt.show()\n",
    "    #plt.figure(figsize=(18,10))\n",
    "    # sns.set(color_codes=True)\n",
    "    # sns.set(rc={'figure.figsize':(18, 10)})\n",
    "    #sns.regplot(x=y_pred, y=y_true, fit_reg=False,scatter_kws={'color':'red','edgecolor':'blue','linewidth': 0.7},line_kws={'color':'black','alpha':0.5});\n",
    "    #plt.savefig(pltname + '.png')\n",
    "    #sns.regplot(x=y_pred, y=y_true,scatter=False, ax=ax, scatter_kws={\"color\": \"green\"});"
   ]
  },
  {
   "cell_type": "code",
   "execution_count": 16,
   "metadata": {
    "tags": []
   },
   "outputs": [
    {
     "output_type": "stream",
     "name": "stdout",
     "text": "for the  defenders\n\n\nModel Name:  <class 'sklearn.linear_model._base.LinearRegression'>\n[62.59986037 68.62042888 73.91170186 65.85382867 65.08692722 67.44457193\n 62.07608153 69.95728492 61.10397024 66.54429056]\n3774    64\n1807    70\n494     75\n3306    66\n3678    65\n2653    67\n4015    64\n1795    70\n5196    60\n3077    66\nName: Overall, dtype: int64\nr2 score: 0.97\nRMSE : 1.08\n\n\nModel Name:  <class 'sklearn.neural_network._multilayer_perceptron.MLPRegressor'>\n[62.99351819 68.22548112 74.52141422 65.0818682  64.92672533 66.79321637\n 63.26677061 68.77891473 59.35713707 65.67088922]\n3774    64\n1807    70\n494     75\n3306    66\n3678    65\n2653    67\n4015    64\n1795    70\n5196    60\n3077    66\nName: Overall, dtype: int64\nr2 score: 0.98\nRMSE : 0.92\nfor the  midfielders\n\n\nModel Name:  <class 'sklearn.linear_model._base.LinearRegression'>\n[76.35312346 61.43712166 62.8215771  59.33658996 67.08366492 77.63538137\n 69.56805816 79.55938008 61.30038467 61.68918684]\n441     77\n3663    65\n4511    63\n5444    58\n3227    66\n274     79\n2618    68\n321     78\n4073    64\n3890    65\nName: Overall, dtype: int64\nr2 score: 0.95\nRMSE : 1.55\n\n\nModel Name:  <class 'sklearn.neural_network._multilayer_perceptron.MLPRegressor'>\n[75.63930033 61.10411806 62.20328654 58.95725748 66.3364343  76.7521324\n 69.02733381 78.91686416 61.38592763 59.85416518]\n441     77\n3663    65\n4511    63\n5444    58\n3227    66\n274     79\n2618    68\n321     78\n4073    64\n3890    65\nName: Overall, dtype: int64\nr2 score: 0.94\nRMSE : 1.71\nfor the  fowards\n\n\nModel Name:  <class 'sklearn.linear_model._base.LinearRegression'>\n[51.85606487 61.66144605 73.43773995 68.67214374 58.32476984 65.2863033\n 69.28611688 62.94643275 67.61980088 72.16867928]\n4088    52\n3153    62\n698     73\n1428    69\n3649    59\n1866    67\n946     71\n2821    63\n1625    68\n505     74\nName: Overall, dtype: int64\nr2 score: 0.97\nRMSE : 1.12\n\n\nModel Name:  <class 'sklearn.neural_network._multilayer_perceptron.MLPRegressor'>\n[51.30758885 61.17549151 72.83609647 68.25035505 58.19522104 65.93120076\n 70.22195255 62.0518433  67.05586287 72.86910572]\n4088    52\n3153    62\n698     73\n1428    69\n3649    59\n1866    67\n946     71\n2821    63\n1625    68\n505     74\nName: Overall, dtype: int64\nr2 score: 0.98\nRMSE : 1.02\n"
    }
   ],
   "source": [
    "reg_mdels = [LinearRegression(), MLPRegressor(random_state=1, max_iter=500, hidden_layer_sizes = (25, 11, 7))]\n",
    "\n",
    "positions = ['defenders','midfielders', 'fowards']\n",
    "for key,value in dictionaryOfTrain_Test.items():\n",
    "    print('for the ',key)\n",
    "    loop = 0\n",
    "    for model in reg_mdels:\n",
    "        model.fit(value['x_train'], value['y_train'])\n",
    "        if loop == 0:\n",
    "            pltname = key + 'LinearaReg'\n",
    "        else:\n",
    "            pltname = key + 'MLP'\n",
    "        applyModel(model, value['x_train'], value['y_train'], pltname)\n",
    "        loop = loop + 1"
   ]
  },
  {
   "cell_type": "code",
   "execution_count": 18,
   "metadata": {
    "tags": []
   },
   "outputs": [
    {
     "output_type": "stream",
     "name": "stdout",
     "text": "t statistic: -2.643\np value: 0.046\n"
    }
   ],
   "source": [
    "from mlxtend.evaluate import paired_ttest_5x2cv\n",
    "\n",
    "t, p = paired_ttest_5x2cv(estimator1=reg_mdels[0],\n",
    "                          estimator2=reg_mdels[1],\n",
    "                          X=explanatory_var, y=target,\n",
    "                          random_seed=1)\n",
    "\n",
    "print('t statistic: %.3f' % t)\n",
    "print('p value: %.3f' % p)"
   ]
  },
  {
   "cell_type": "code",
   "execution_count": null,
   "metadata": {},
   "outputs": [],
   "source": [
    "reg_mdels = [LinearRegression(), MLPRegressor(random_state=1, max_iter=500, hidden_layer_sizes = (25, 11, 7))]\n",
    "\n",
    "positions = ['defenders','midfielders', 'fowards']\n",
    "for key,value in dictionaryOfTrain_Test.items():\n",
    "    print('for the ',key)\n",
    "    loop = 0\n",
    "    for model in reg_mdels:\n",
    "        model.fit(value['x_train'], value['y_train'])\n",
    "        if loop == 0:\n",
    "            pltname = key + 'LinearaReg'\n",
    "        else:\n",
    "            pltname = key + 'MLP'\n",
    "        applyModel(model, value['x_train'], value['y_train'], pltname)"
   ]
  },
  {
   "cell_type": "code",
   "execution_count": null,
   "metadata": {
    "tags": []
   },
   "outputs": [],
   "source": [
    "import eli5\n",
    "from eli5.sklearn import PermutationImportance\n",
    "\n",
    "perm = PermutationImportance(reg_mdels[1], random_state=1).fit(dictionaryOfTrain_Test['fowards']['x_test'], dictionaryOfTrain_Test['fowards']['y_test'])\n",
    "eli5.show_weights(perm, feature_names = dictionaryOfTrain_Test['fowards']['x_test'].columns.tolist())\n",
    "\n",
    "# for key,value in dictionaryOfTrain_Test.items():\n",
    "#     print('for the ',key)\n",
    "#     loop = 0\n",
    "#     for model in reg_mdels:\n",
    "#         perm = PermutationImportance(model, random_state=1).fit(value['x_test'], value['y_test'])\n",
    "#         eli5.show_weights(perm, feature_names = value['x_test'].columns.tolist())"
   ]
  },
  {
   "cell_type": "code",
   "execution_count": null,
   "metadata": {},
   "outputs": [],
   "source": [
    "import eli5\n",
    "from eli5.sklearn import PermutationImportance"
   ]
  },
  {
   "cell_type": "code",
   "execution_count": null,
   "metadata": {
    "tags": []
   },
   "outputs": [],
   "source": [
    "from sklearn.ensemble import RandomForestRegressor\n",
    "from sklearn.linear_model import SGDRegressor\n",
    "from sklearn.inspection import permutation_importance\n",
    "\n",
    "rf_reg_model = RandomForestRegressor(random_state=1, max_depth=10)\n",
    "sgd_reg_model = SGDRegressor(random_state=1, max_iter=10)\n",
    "\n",
    "rf_reg_model.fit(x_train, y_train)\n",
    "sgd_reg_model.fit(x_train, y_train)\n",
    "\n",
    "important_feat = rf_reg_model.feature_importances_\n",
    "\n",
    "sgd_reg_model.fit(x_train, y_train)\n",
    "# perform permutation importance\n",
    "results = permutation_importance(sgd_reg_model, x_train, y_train, scoring='neg_mean_squared_error')\n",
    "\n",
    "# get importance\n",
    "importance = results.importances_mean.argsort()\n",
    "\n",
    "print(enumerate(importance))\n",
    "\n",
    "for i,v in enumerate(importance):\n",
    "\tprint('Feature: %0d, Score: %.5f' % (i,v))\n",
    "\n",
    "indices = np.argsort(important_feat)[-15:]  # top 10 features\n",
    "\n",
    "print(indices)"
   ]
  },
  {
   "cell_type": "code",
   "execution_count": null,
   "metadata": {
    "tags": []
   },
   "outputs": [],
   "source": [
    "indexes = defenders1._get_numeric_data().columns\n",
    "print(indexes)"
   ]
  },
  {
   "cell_type": "code",
   "execution_count": null,
   "metadata": {},
   "outputs": [],
   "source": [
    "defending_features = ['Age', 'Height', 'Weight', 'Growth', 'Attacking', 'Crossing',\n",
    "       'Finishing', 'Heading Accuracy', 'Short Passing', 'Volleys', 'Skill',\n",
    "       'Dribbling', 'Curve', 'FK Accuracy', 'Long Passing', 'Ball Control',\n",
    "       'Movement', 'Acceleration', 'Sprint Speed', 'Agility', 'Reactions',\n",
    "       'Balance', 'Power', 'Shot Power', 'Jumping', 'Stamina', 'Strength',\n",
    "       'Long Shots', 'Mentality', 'Aggression', 'Interceptions', 'Positioning',\n",
    "       'Vision', 'Penalties', 'Composure', 'Defending', 'Marking',\n",
    "       'Standing Tackle', 'Sliding Tackle', 'Goalkeeping', 'GK Diving',\n",
    "       'GK Handling', 'GK Kicking', 'GK Positioning', 'GK Reflexes', 'W/F', 'SM', 'IR', 'PAC', 'SHO', 'PAS', 'DRI', 'DEF',\n",
    "       'PHY']\n",
    "normalize_data = defenders1"
   ]
  },
  {
   "cell_type": "code",
   "execution_count": null,
   "metadata": {},
   "outputs": [],
   "source": [
    "from sklearn.preprocessing import MinMaxScaler\n",
    "\n",
    "min_max = MinMaxScaler()\n",
    "normalize_data[defending_features] =  min_max.fit_transform(normalize_data[defending_features])\n",
    "#df_scaled = pd.DataFrame(player, columns=numerical_Data.columns,index=numerical_Data.index)\n",
    "normalize_data.head(5)"
   ]
  },
  {
   "cell_type": "code",
   "execution_count": null,
   "metadata": {
    "tags": []
   },
   "outputs": [],
   "source": [
    "#Split ID as a Target value\n",
    "n_target = normalize_data.Overall\n",
    "n_explanatory_var = normalize_data.drop(['Overall'], axis = 1)\n",
    "\n",
    "#Splitting into test and train\n",
    "from sklearn.model_selection import train_test_split\n",
    "n_x_train, n_x_test, n_y_train, n_y_test = train_test_split(n_explanatory_var, n_target, test_size=0.2)\n",
    "\n",
    "#One Hot Encoding\n",
    "#x_train = pd.get_dummies(x_train)\n",
    "#x_test = pd.get_dummies(x_test)\n",
    "print(x_train.shape,y_train.shape)\n",
    "print(x_test.shape,y_test.shape)\n",
    "print(n_y_test.head(10))"
   ]
  },
  {
   "cell_type": "code",
   "execution_count": null,
   "metadata": {
    "tags": []
   },
   "outputs": [],
   "source": [
    "#Applying Linear Regression\n",
    "from sklearn.linear_model import LinearRegression\n",
    "n_model = LinearRegression()\n",
    "n_model.fit(n_x_train, n_y_train)\n",
    "n_predictions = n_model.predict(n_x_test)\n",
    "\n",
    "print(n_predictions[:10])\n",
    "print(n_y_test[:10])\n",
    "#Finding the r2 score and root mean squared error\n",
    "from sklearn.metrics import r2_score, mean_squared_error\n",
    "print('r2 score: '+str(r2_score(n_y_test, n_predictions)))\n",
    "print('RMSE : '+str(np.sqrt(mean_squared_error(n_y_test, n_predictions))))"
   ]
  },
  {
   "cell_type": "code",
   "execution_count": null,
   "metadata": {},
   "outputs": [],
   "source": [
    "n_perm = PermutationImportance(n_model, random_state=1).fit(n_x_test, n_y_test)\n",
    "eli5.show_weights(n_perm, feature_names = n_x_test.columns.tolist())"
   ]
  },
  {
   "cell_type": "code",
   "execution_count": null,
   "metadata": {
    "tags": []
   },
   "outputs": [],
   "source": [
    "rf_reg_model = RandomForestRegressor(random_state=1, max_depth=10)\n",
    "sgd_reg_model = SGDRegressor(random_state=1, max_iter=10)\n",
    "\n",
    "rf_reg_model.fit(n_x_train, n_y_train)\n",
    "sgd_reg_model.fit(n_x_train, n_y_train)\n",
    "\n",
    "important_feat = rf_reg_model.feature_importances_\n",
    "\n",
    "sgd_reg_model.fit(x_train, y_train)\n",
    "# perform permutation importance\n",
    "results = permutation_importance(sgd_reg_model, n_x_train, n_y_train, scoring='neg_mean_squared_error')\n",
    "\n",
    "# get importance\n",
    "importance = results.importances_mean.argsort()\n",
    "\n",
    "print(importance)\n",
    "\n",
    "for i,v in enumerate(importance):\n",
    "\tprint('Feature: %0d, Score: %.5f' % (i,v))\n",
    "\n",
    "indices = np.argsort(important_feat)[-15:]  # top 10 features\n",
    "\n",
    "print(indices)"
   ]
  },
  {
   "cell_type": "code",
   "execution_count": null,
   "metadata": {},
   "outputs": [],
   "source": [
    "plt.title('Feature Importances')\n",
    "plt.barh(range(len(indices)), important_feat[indices], color='b', align='center')\n",
    "plt.yticks(range(len(indices)), [n_x_test.columns[i] for i in indices])\n",
    "plt.xlabel('Relative Importance')\n",
    "plt.show()"
   ]
  },
  {
   "cell_type": "code",
   "execution_count": null,
   "metadata": {},
   "outputs": [],
   "source": [
    "x_fitted_variable = normalize_data[n_x_test.columns[indices]]\n",
    "x_fitted_variable.iloc[:5]"
   ]
  },
  {
   "cell_type": "code",
   "execution_count": null,
   "metadata": {
    "tags": []
   },
   "outputs": [],
   "source": [
    "x_fit_train, x_fit_test, y_fit_train, y_fit_test = train_test_split(x_fitted_variable, n_target, test_size=0.2)\n",
    "print (x_fit_train.shape, y_fit_train.shape)\n",
    "print (x_fit_test.shape, y_fit_test.shape)"
   ]
  },
  {
   "cell_type": "code",
   "execution_count": null,
   "metadata": {
    "tags": []
   },
   "outputs": [],
   "source": [
    "for model in reg_mdels:\n",
    "    model.fit(x_fit_train, y_fit_train)\n",
    "    applyModel(model, x_fit_train, y_fit_train)"
   ]
  },
  {
   "cell_type": "code",
   "execution_count": null,
   "metadata": {
    "tags": []
   },
   "outputs": [],
   "source": [
    "for model in reg_mdels:\n",
    "    model.fit(x_fit_train, y_fit_train)\n",
    "    applyModel(model, x_fit_test, y_fit_test)"
   ]
  },
  {
   "cell_type": "code",
   "execution_count": null,
   "metadata": {},
   "outputs": [],
   "source": []
  }
 ]
}