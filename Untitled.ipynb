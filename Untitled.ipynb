{
 "cells": [
  {
   "cell_type": "code",
   "execution_count": 16,
   "metadata": {},
   "outputs": [],
   "source": [
    "import pandas as pd\n",
    "from sklearn.preprocessing import MinMaxScaler\n",
    "from sklearn.model_selection import cross_validate\n",
    "\n",
    "defenders = pd.read_csv(r'C:\\Users\\sosan\\Documents\\Dissertation\\DataSets\\Fifa 20\\TransformedData\\Defenders.csv')"
   ]
  },
  {
   "cell_type": "code",
   "execution_count": 17,
   "metadata": {},
   "outputs": [
    {
     "output_type": "execute_result",
     "data": {
      "text/plain": "                  Name                                           Image  \\\n0      Virgil van Dijk  https://cdn.sofifa.org/players/4/20/203376.png   \n1    Kalidou Koulibaly  https://cdn.sofifa.org/players/4/20/201024.png   \n2  Sergio Ramos García  https://cdn.sofifa.org/players/4/20/155862.png   \n3    Giorgio Chiellini  https://cdn.sofifa.org/players/4/20/138956.png   \n4          Diego Godín  https://cdn.sofifa.org/players/4/20/182493.png   \n\n       Country Position  Age  Overall  Potential         Club      ID  Height  \\\n0  Netherlands       CB   27       90         90    Liverpool  203376   193.0   \n1      Senegal       CB   28       89         89       Napoli  201024   188.0   \n2        Spain       CB   33       89         89  Real Madrid  155862   182.9   \n3        Italy       CB   34       89         89     Juventus  138956   188.0   \n4      Uruguay       CB   33       88         88        Inter  182493   188.0   \n\n   ...     A/W     D/W  IR PAC  SHO PAS DRI  DEF  PHY  Hits  \n0  ...  Medium  Medium   3  77   60  70  71   90   86   425  \n1  ...  Medium    High   3  71   28  54  67   89   87   303  \n2  ...    High  Medium   4  72   68  75  73   87   85   211  \n3  ...  Medium    High   4  68   46  58  60   90   82   106  \n4  ...  Medium    High   3  60   48  64  61   89   83   103  \n\n[5 rows x 75 columns]",
      "text/html": "<div>\n<style scoped>\n    .dataframe tbody tr th:only-of-type {\n        vertical-align: middle;\n    }\n\n    .dataframe tbody tr th {\n        vertical-align: top;\n    }\n\n    .dataframe thead th {\n        text-align: right;\n    }\n</style>\n<table border=\"1\" class=\"dataframe\">\n  <thead>\n    <tr style=\"text-align: right;\">\n      <th></th>\n      <th>Name</th>\n      <th>Image</th>\n      <th>Country</th>\n      <th>Position</th>\n      <th>Age</th>\n      <th>Overall</th>\n      <th>Potential</th>\n      <th>Club</th>\n      <th>ID</th>\n      <th>Height</th>\n      <th>...</th>\n      <th>A/W</th>\n      <th>D/W</th>\n      <th>IR</th>\n      <th>PAC</th>\n      <th>SHO</th>\n      <th>PAS</th>\n      <th>DRI</th>\n      <th>DEF</th>\n      <th>PHY</th>\n      <th>Hits</th>\n    </tr>\n  </thead>\n  <tbody>\n    <tr>\n      <th>0</th>\n      <td>Virgil van Dijk</td>\n      <td>https://cdn.sofifa.org/players/4/20/203376.png</td>\n      <td>Netherlands</td>\n      <td>CB</td>\n      <td>27</td>\n      <td>90</td>\n      <td>90</td>\n      <td>Liverpool</td>\n      <td>203376</td>\n      <td>193.0</td>\n      <td>...</td>\n      <td>Medium</td>\n      <td>Medium</td>\n      <td>3</td>\n      <td>77</td>\n      <td>60</td>\n      <td>70</td>\n      <td>71</td>\n      <td>90</td>\n      <td>86</td>\n      <td>425</td>\n    </tr>\n    <tr>\n      <th>1</th>\n      <td>Kalidou Koulibaly</td>\n      <td>https://cdn.sofifa.org/players/4/20/201024.png</td>\n      <td>Senegal</td>\n      <td>CB</td>\n      <td>28</td>\n      <td>89</td>\n      <td>89</td>\n      <td>Napoli</td>\n      <td>201024</td>\n      <td>188.0</td>\n      <td>...</td>\n      <td>Medium</td>\n      <td>High</td>\n      <td>3</td>\n      <td>71</td>\n      <td>28</td>\n      <td>54</td>\n      <td>67</td>\n      <td>89</td>\n      <td>87</td>\n      <td>303</td>\n    </tr>\n    <tr>\n      <th>2</th>\n      <td>Sergio Ramos García</td>\n      <td>https://cdn.sofifa.org/players/4/20/155862.png</td>\n      <td>Spain</td>\n      <td>CB</td>\n      <td>33</td>\n      <td>89</td>\n      <td>89</td>\n      <td>Real Madrid</td>\n      <td>155862</td>\n      <td>182.9</td>\n      <td>...</td>\n      <td>High</td>\n      <td>Medium</td>\n      <td>4</td>\n      <td>72</td>\n      <td>68</td>\n      <td>75</td>\n      <td>73</td>\n      <td>87</td>\n      <td>85</td>\n      <td>211</td>\n    </tr>\n    <tr>\n      <th>3</th>\n      <td>Giorgio Chiellini</td>\n      <td>https://cdn.sofifa.org/players/4/20/138956.png</td>\n      <td>Italy</td>\n      <td>CB</td>\n      <td>34</td>\n      <td>89</td>\n      <td>89</td>\n      <td>Juventus</td>\n      <td>138956</td>\n      <td>188.0</td>\n      <td>...</td>\n      <td>Medium</td>\n      <td>High</td>\n      <td>4</td>\n      <td>68</td>\n      <td>46</td>\n      <td>58</td>\n      <td>60</td>\n      <td>90</td>\n      <td>82</td>\n      <td>106</td>\n    </tr>\n    <tr>\n      <th>4</th>\n      <td>Diego Godín</td>\n      <td>https://cdn.sofifa.org/players/4/20/182493.png</td>\n      <td>Uruguay</td>\n      <td>CB</td>\n      <td>33</td>\n      <td>88</td>\n      <td>88</td>\n      <td>Inter</td>\n      <td>182493</td>\n      <td>188.0</td>\n      <td>...</td>\n      <td>Medium</td>\n      <td>High</td>\n      <td>3</td>\n      <td>60</td>\n      <td>48</td>\n      <td>64</td>\n      <td>61</td>\n      <td>89</td>\n      <td>83</td>\n      <td>103</td>\n    </tr>\n  </tbody>\n</table>\n<p>5 rows × 75 columns</p>\n</div>"
     },
     "metadata": {},
     "execution_count": 17
    }
   ],
   "source": [
    "defenders.head(5)"
   ]
  },
  {
   "cell_type": "code",
   "execution_count": 18,
   "metadata": {},
   "outputs": [
    {
     "output_type": "execute_result",
     "data": {
      "text/plain": "0    0\n1    0\n2    0\n3    0\n4    0\n5    0\n6    0\n7    1\n8    0\n9    0\nName: BP, dtype: object"
     },
     "metadata": {},
     "execution_count": 18
    }
   ],
   "source": [
    "defenders.loc[defenders['BP'] != 'CB', 'BP'] = 1\n",
    "defenders.loc[defenders['BP'] == 'CB', 'BP'] = 0\n",
    "defenders['BP'].head(10)"
   ]
  },
  {
   "cell_type": "code",
   "execution_count": 19,
   "metadata": {
    "tags": []
   },
   "outputs": [
    {
     "output_type": "stream",
     "name": "stdout",
     "text": "Index(['Age', 'Overall', 'Potential', 'ID', 'Height', 'Weight', 'BOV',\n       'Growth', 'Value', 'Wage', 'Release Clause', 'Attacking', 'Crossing',\n       'Finishing', 'Heading Accuracy', 'Short Passing', 'Volleys', 'Skill',\n       'Dribbling', 'Curve', 'FK Accuracy', 'Long Passing', 'Ball Control',\n       'Movement', 'Acceleration', 'Sprint Speed', 'Agility', 'Reactions',\n       'Balance', 'Power', 'Shot Power', 'Jumping', 'Stamina', 'Strength',\n       'Long Shots', 'Mentality', 'Aggression', 'Interceptions', 'Positioning',\n       'Vision', 'Penalties', 'Composure', 'Defending', 'Marking',\n       'Standing Tackle', 'Sliding Tackle', 'Goalkeeping', 'GK Diving',\n       'GK Handling', 'GK Kicking', 'GK Positioning', 'GK Reflexes',\n       'Total Stats', 'Base Stats', 'W/F', 'SM', 'IR', 'PAC', 'SHO', 'PAS',\n       'DRI', 'DEF', 'PHY'],\n      dtype='object')\n"
    }
   ],
   "source": [
    "indexes = defenders._get_numeric_data().columns\n",
    "print(indexes)"
   ]
  },
  {
   "cell_type": "code",
   "execution_count": 20,
   "metadata": {},
   "outputs": [
    {
     "output_type": "execute_result",
     "data": {
      "text/plain": "    Age   Overall  Potential    Height    Weight       BOV  Growth     Value  \\\n0  0.44  1.000000   1.000000  0.776805  0.822957  1.000000    0.04  0.079055   \n1  0.48  0.976744   0.976744  0.667396  0.760700  0.976744    0.08  0.068275   \n2  0.68  0.976744   0.976744  0.555799  0.628405  1.000000    0.00  0.031314   \n3  0.72  0.976744   0.976744  0.667396  0.680934  0.976744    0.00  0.024127   \n4  0.68  0.953488   0.953488  0.667396  0.548638  0.976744    0.00  0.027721   \n\n       Wage  Release Clause  ...  Base Stats  W/F   SM        IR       PAC  \\\n0  0.665552        0.149649  ...    0.911765  0.5  0.0  0.666667  0.746479   \n1  0.498328        0.119157  ...    0.698529  0.5  0.0  0.666667  0.661972   \n2  1.000000        0.063791  ...    0.933824  0.5  0.5  1.000000  0.676056   \n3  0.715719        0.039519  ...    0.727941  0.5  0.0  1.000000  0.619718   \n4  0.448161        0.046740  ...    0.731618  0.5  0.0  0.666667  0.507042   \n\n        SHO       PAS       DRI       DEF       PHY  \n0  0.725806  0.766667  0.786885  1.000000  0.938776  \n1  0.209677  0.500000  0.721311  0.979592  0.959184  \n2  0.854839  0.850000  0.819672  0.938776  0.918367  \n3  0.500000  0.566667  0.606557  1.000000  0.857143  \n4  0.532258  0.666667  0.622951  0.979592  0.877551  \n\n[5 rows x 62 columns]",
      "text/html": "<div>\n<style scoped>\n    .dataframe tbody tr th:only-of-type {\n        vertical-align: middle;\n    }\n\n    .dataframe tbody tr th {\n        vertical-align: top;\n    }\n\n    .dataframe thead th {\n        text-align: right;\n    }\n</style>\n<table border=\"1\" class=\"dataframe\">\n  <thead>\n    <tr style=\"text-align: right;\">\n      <th></th>\n      <th>Age</th>\n      <th>Overall</th>\n      <th>Potential</th>\n      <th>Height</th>\n      <th>Weight</th>\n      <th>BOV</th>\n      <th>Growth</th>\n      <th>Value</th>\n      <th>Wage</th>\n      <th>Release Clause</th>\n      <th>...</th>\n      <th>Base Stats</th>\n      <th>W/F</th>\n      <th>SM</th>\n      <th>IR</th>\n      <th>PAC</th>\n      <th>SHO</th>\n      <th>PAS</th>\n      <th>DRI</th>\n      <th>DEF</th>\n      <th>PHY</th>\n    </tr>\n  </thead>\n  <tbody>\n    <tr>\n      <th>0</th>\n      <td>0.44</td>\n      <td>1.000000</td>\n      <td>1.000000</td>\n      <td>0.776805</td>\n      <td>0.822957</td>\n      <td>1.000000</td>\n      <td>0.04</td>\n      <td>0.079055</td>\n      <td>0.665552</td>\n      <td>0.149649</td>\n      <td>...</td>\n      <td>0.911765</td>\n      <td>0.5</td>\n      <td>0.0</td>\n      <td>0.666667</td>\n      <td>0.746479</td>\n      <td>0.725806</td>\n      <td>0.766667</td>\n      <td>0.786885</td>\n      <td>1.000000</td>\n      <td>0.938776</td>\n    </tr>\n    <tr>\n      <th>1</th>\n      <td>0.48</td>\n      <td>0.976744</td>\n      <td>0.976744</td>\n      <td>0.667396</td>\n      <td>0.760700</td>\n      <td>0.976744</td>\n      <td>0.08</td>\n      <td>0.068275</td>\n      <td>0.498328</td>\n      <td>0.119157</td>\n      <td>...</td>\n      <td>0.698529</td>\n      <td>0.5</td>\n      <td>0.0</td>\n      <td>0.666667</td>\n      <td>0.661972</td>\n      <td>0.209677</td>\n      <td>0.500000</td>\n      <td>0.721311</td>\n      <td>0.979592</td>\n      <td>0.959184</td>\n    </tr>\n    <tr>\n      <th>2</th>\n      <td>0.68</td>\n      <td>0.976744</td>\n      <td>0.976744</td>\n      <td>0.555799</td>\n      <td>0.628405</td>\n      <td>1.000000</td>\n      <td>0.00</td>\n      <td>0.031314</td>\n      <td>1.000000</td>\n      <td>0.063791</td>\n      <td>...</td>\n      <td>0.933824</td>\n      <td>0.5</td>\n      <td>0.5</td>\n      <td>1.000000</td>\n      <td>0.676056</td>\n      <td>0.854839</td>\n      <td>0.850000</td>\n      <td>0.819672</td>\n      <td>0.938776</td>\n      <td>0.918367</td>\n    </tr>\n    <tr>\n      <th>3</th>\n      <td>0.72</td>\n      <td>0.976744</td>\n      <td>0.976744</td>\n      <td>0.667396</td>\n      <td>0.680934</td>\n      <td>0.976744</td>\n      <td>0.00</td>\n      <td>0.024127</td>\n      <td>0.715719</td>\n      <td>0.039519</td>\n      <td>...</td>\n      <td>0.727941</td>\n      <td>0.5</td>\n      <td>0.0</td>\n      <td>1.000000</td>\n      <td>0.619718</td>\n      <td>0.500000</td>\n      <td>0.566667</td>\n      <td>0.606557</td>\n      <td>1.000000</td>\n      <td>0.857143</td>\n    </tr>\n    <tr>\n      <th>4</th>\n      <td>0.68</td>\n      <td>0.953488</td>\n      <td>0.953488</td>\n      <td>0.667396</td>\n      <td>0.548638</td>\n      <td>0.976744</td>\n      <td>0.00</td>\n      <td>0.027721</td>\n      <td>0.448161</td>\n      <td>0.046740</td>\n      <td>...</td>\n      <td>0.731618</td>\n      <td>0.5</td>\n      <td>0.0</td>\n      <td>0.666667</td>\n      <td>0.507042</td>\n      <td>0.532258</td>\n      <td>0.666667</td>\n      <td>0.622951</td>\n      <td>0.979592</td>\n      <td>0.877551</td>\n    </tr>\n  </tbody>\n</table>\n<p>5 rows × 62 columns</p>\n</div>"
     },
     "metadata": {},
     "execution_count": 20
    }
   ],
   "source": [
    "defenders = defenders[(defenders['BP'] != 'CB')]\n",
    "\n",
    "\n",
    "\n",
    "numerical_Data = defenders[['Age', 'Overall', 'Potential', 'Height', 'Weight', 'BOV',\n",
    "       'Growth', 'Value', 'Wage', 'Release Clause', 'Attacking', 'Crossing',\n",
    "       'Finishing', 'Heading Accuracy', 'Short Passing', 'Volleys', 'Skill',\n",
    "       'Dribbling', 'Curve', 'FK Accuracy', 'Long Passing', 'Ball Control',\n",
    "       'Movement', 'Acceleration', 'Sprint Speed', 'Agility', 'Reactions',\n",
    "       'Balance', 'Power', 'Shot Power', 'Jumping', 'Stamina', 'Strength',\n",
    "       'Long Shots', 'Mentality', 'Aggression', 'Interceptions', 'Positioning',\n",
    "       'Vision', 'Penalties', 'Composure', 'Defending', 'Marking',\n",
    "       'Standing Tackle', 'Sliding Tackle', 'Goalkeeping', 'GK Diving',\n",
    "       'GK Handling', 'GK Kicking', 'GK Positioning', 'GK Reflexes',\n",
    "       'Total Stats', 'Base Stats', 'W/F', 'SM', 'IR', 'PAC', 'SHO', 'PAS',\n",
    "       'DRI', 'DEF', 'PHY']]\n",
    "\n",
    "min_max = MinMaxScaler()\n",
    "player = min_max.fit_transform(numerical_Data)\n",
    "df_scaled = pd.DataFrame(player, columns=numerical_Data.columns,index=numerical_Data.index)\n",
    "df_scaled.head(5)"
   ]
  },
  {
   "cell_type": "code",
   "execution_count": 21,
   "metadata": {
    "tags": []
   },
   "outputs": [
    {
     "output_type": "stream",
     "name": "stdout",
     "text": "Overall           1.000000\nPotential         1.000000\nBOV               0.992123\nDEF               0.951440\nDefending         0.943572\n                    ...   \nGK Reflexes       0.046789\nBalance          -0.029860\nValue            -0.230731\nRelease Clause   -0.404690\nGrowth           -0.521768\nName: Overall, Length: 62, dtype: float64\n"
    }
   ],
   "source": [
    "DataFrame_Correlation_matrix = df_scaled.corr()\n",
    "print(DataFrame_Correlation_matrix['Overall'].sort_values(ascending=False))"
   ]
  },
  {
   "cell_type": "code",
   "execution_count": 22,
   "metadata": {},
   "outputs": [
    {
     "output_type": "execute_result",
     "data": {
      "text/plain": "    Age  Potential    Height    Weight       BOV  Growth     Value      Wage  \\\n0  0.44   1.000000  0.776805  0.822957  1.000000    0.04  0.079055  0.665552   \n1  0.48   0.976744  0.667396  0.760700  0.976744    0.08  0.068275  0.498328   \n2  0.68   0.976744  0.555799  0.628405  1.000000    0.00  0.031314  1.000000   \n3  0.72   0.976744  0.667396  0.680934  0.976744    0.00  0.024127  0.715719   \n4  0.68   0.953488  0.667396  0.548638  0.976744    0.00  0.027721  0.448161   \n\n   Release Clause  Attacking  ...  Base Stats  W/F   SM        IR       PAC  \\\n0        0.149649   0.704981  ...    0.911765  0.5  0.0  0.666667  0.746479   \n1        0.119157   0.344828  ...    0.698529  0.5  0.0  0.666667  0.661972   \n2        0.063791   0.919540  ...    0.933824  0.5  0.5  1.000000  0.676056   \n3        0.039519   0.574713  ...    0.727941  0.5  0.0  1.000000  0.619718   \n4        0.046740   0.681992  ...    0.731618  0.5  0.0  0.666667  0.507042   \n\n        SHO       PAS       DRI       DEF       PHY  \n0  0.725806  0.766667  0.786885  1.000000  0.938776  \n1  0.209677  0.500000  0.721311  0.979592  0.959184  \n2  0.854839  0.850000  0.819672  0.938776  0.918367  \n3  0.500000  0.566667  0.606557  1.000000  0.857143  \n4  0.532258  0.666667  0.622951  0.979592  0.877551  \n\n[5 rows x 61 columns]",
      "text/html": "<div>\n<style scoped>\n    .dataframe tbody tr th:only-of-type {\n        vertical-align: middle;\n    }\n\n    .dataframe tbody tr th {\n        vertical-align: top;\n    }\n\n    .dataframe thead th {\n        text-align: right;\n    }\n</style>\n<table border=\"1\" class=\"dataframe\">\n  <thead>\n    <tr style=\"text-align: right;\">\n      <th></th>\n      <th>Age</th>\n      <th>Potential</th>\n      <th>Height</th>\n      <th>Weight</th>\n      <th>BOV</th>\n      <th>Growth</th>\n      <th>Value</th>\n      <th>Wage</th>\n      <th>Release Clause</th>\n      <th>Attacking</th>\n      <th>...</th>\n      <th>Base Stats</th>\n      <th>W/F</th>\n      <th>SM</th>\n      <th>IR</th>\n      <th>PAC</th>\n      <th>SHO</th>\n      <th>PAS</th>\n      <th>DRI</th>\n      <th>DEF</th>\n      <th>PHY</th>\n    </tr>\n  </thead>\n  <tbody>\n    <tr>\n      <th>0</th>\n      <td>0.44</td>\n      <td>1.000000</td>\n      <td>0.776805</td>\n      <td>0.822957</td>\n      <td>1.000000</td>\n      <td>0.04</td>\n      <td>0.079055</td>\n      <td>0.665552</td>\n      <td>0.149649</td>\n      <td>0.704981</td>\n      <td>...</td>\n      <td>0.911765</td>\n      <td>0.5</td>\n      <td>0.0</td>\n      <td>0.666667</td>\n      <td>0.746479</td>\n      <td>0.725806</td>\n      <td>0.766667</td>\n      <td>0.786885</td>\n      <td>1.000000</td>\n      <td>0.938776</td>\n    </tr>\n    <tr>\n      <th>1</th>\n      <td>0.48</td>\n      <td>0.976744</td>\n      <td>0.667396</td>\n      <td>0.760700</td>\n      <td>0.976744</td>\n      <td>0.08</td>\n      <td>0.068275</td>\n      <td>0.498328</td>\n      <td>0.119157</td>\n      <td>0.344828</td>\n      <td>...</td>\n      <td>0.698529</td>\n      <td>0.5</td>\n      <td>0.0</td>\n      <td>0.666667</td>\n      <td>0.661972</td>\n      <td>0.209677</td>\n      <td>0.500000</td>\n      <td>0.721311</td>\n      <td>0.979592</td>\n      <td>0.959184</td>\n    </tr>\n    <tr>\n      <th>2</th>\n      <td>0.68</td>\n      <td>0.976744</td>\n      <td>0.555799</td>\n      <td>0.628405</td>\n      <td>1.000000</td>\n      <td>0.00</td>\n      <td>0.031314</td>\n      <td>1.000000</td>\n      <td>0.063791</td>\n      <td>0.919540</td>\n      <td>...</td>\n      <td>0.933824</td>\n      <td>0.5</td>\n      <td>0.5</td>\n      <td>1.000000</td>\n      <td>0.676056</td>\n      <td>0.854839</td>\n      <td>0.850000</td>\n      <td>0.819672</td>\n      <td>0.938776</td>\n      <td>0.918367</td>\n    </tr>\n    <tr>\n      <th>3</th>\n      <td>0.72</td>\n      <td>0.976744</td>\n      <td>0.667396</td>\n      <td>0.680934</td>\n      <td>0.976744</td>\n      <td>0.00</td>\n      <td>0.024127</td>\n      <td>0.715719</td>\n      <td>0.039519</td>\n      <td>0.574713</td>\n      <td>...</td>\n      <td>0.727941</td>\n      <td>0.5</td>\n      <td>0.0</td>\n      <td>1.000000</td>\n      <td>0.619718</td>\n      <td>0.500000</td>\n      <td>0.566667</td>\n      <td>0.606557</td>\n      <td>1.000000</td>\n      <td>0.857143</td>\n    </tr>\n    <tr>\n      <th>4</th>\n      <td>0.68</td>\n      <td>0.953488</td>\n      <td>0.667396</td>\n      <td>0.548638</td>\n      <td>0.976744</td>\n      <td>0.00</td>\n      <td>0.027721</td>\n      <td>0.448161</td>\n      <td>0.046740</td>\n      <td>0.681992</td>\n      <td>...</td>\n      <td>0.731618</td>\n      <td>0.5</td>\n      <td>0.0</td>\n      <td>0.666667</td>\n      <td>0.507042</td>\n      <td>0.532258</td>\n      <td>0.666667</td>\n      <td>0.622951</td>\n      <td>0.979592</td>\n      <td>0.877551</td>\n    </tr>\n  </tbody>\n</table>\n<p>5 rows × 61 columns</p>\n</div>"
     },
     "metadata": {},
     "execution_count": 22
    }
   ],
   "source": [
    "predictorFeatures = indexes.drop(['Overall','ID'])\n",
    "x_variable, y_variable = df_scaled[predictorFeatures], defenders.BP\n",
    "x_variable.iloc[:5]\n"
   ]
  },
  {
   "cell_type": "code",
   "execution_count": 23,
   "metadata": {},
   "outputs": [
    {
     "output_type": "execute_result",
     "data": {
      "text/plain": "    Age  Potential    Height    Weight       BOV  Growth     Value      Wage  \\\n0  0.44   1.000000  0.776805  0.822957  1.000000    0.04  0.079055  0.665552   \n1  0.48   0.976744  0.667396  0.760700  0.976744    0.08  0.068275  0.498328   \n2  0.68   0.976744  0.555799  0.628405  1.000000    0.00  0.031314  1.000000   \n3  0.72   0.976744  0.667396  0.680934  0.976744    0.00  0.024127  0.715719   \n4  0.68   0.953488  0.667396  0.548638  0.976744    0.00  0.027721  0.448161   \n5  0.64   0.953488  0.776805  0.680934  0.953488    0.00  0.037988  0.949833   \n6  0.36   0.930233  0.667396  0.680934  0.930233    0.12  0.056982  0.648829   \n7  0.56   0.930233  0.277899  0.354086  0.930233    0.00  0.040041  0.799331   \n8  0.56   0.930233  0.610503  0.610895  0.930233    0.00  0.041068  0.515050   \n9  0.56   0.930233  0.722101  0.857977  0.930233    0.00  0.041068  0.431438   \n\n   Release Clause  Attacking  ...  Base Stats  W/F   SM        IR       PAC  \\\n0        0.149649   0.704981  ...    0.911765  0.5  0.0  0.666667  0.746479   \n1        0.119157   0.344828  ...    0.698529  0.5  0.0  0.666667  0.661972   \n2        0.063791   0.919540  ...    0.933824  0.5  0.5  1.000000  0.676056   \n3        0.039519   0.574713  ...    0.727941  0.5  0.0  1.000000  0.619718   \n4        0.046740   0.681992  ...    0.731618  0.5  0.0  0.666667  0.507042   \n5        0.077131   0.831418  ...    0.805147  0.5  0.0  1.000000  0.450704   \n6        0.108124   0.689655  ...    0.797794  0.5  0.0  0.333333  0.563380   \n7        0.081244   0.934866  ...    0.988971  0.5  0.5  0.666667  0.929577   \n8        0.075125   0.681992  ...    0.801471  0.5  0.0  0.666667  0.563380   \n9        0.066901   0.831418  ...    0.794118  0.5  0.5  1.000000  0.380282   \n\n        SHO       PAS       DRI       DEF       PHY  \n0  0.725806  0.766667  0.786885  1.000000  0.938776  \n1  0.209677  0.500000  0.721311  0.979592  0.959184  \n2  0.854839  0.850000  0.819672  0.938776  0.918367  \n3  0.500000  0.566667  0.606557  1.000000  0.857143  \n4  0.532258  0.666667  0.622951  0.979592  0.877551  \n5  0.741935  0.800000  0.737705  0.959184  0.816327  \n6  0.564516  0.783333  0.737705  0.959184  0.857143  \n7  0.870968  0.950000  0.983607  0.775510  0.673469  \n8  0.645161  0.800000  0.704918  0.959184  0.795918  \n9  0.693548  0.866667  0.803279  0.979592  0.734694  \n\n[10 rows x 61 columns]",
      "text/html": "<div>\n<style scoped>\n    .dataframe tbody tr th:only-of-type {\n        vertical-align: middle;\n    }\n\n    .dataframe tbody tr th {\n        vertical-align: top;\n    }\n\n    .dataframe thead th {\n        text-align: right;\n    }\n</style>\n<table border=\"1\" class=\"dataframe\">\n  <thead>\n    <tr style=\"text-align: right;\">\n      <th></th>\n      <th>Age</th>\n      <th>Potential</th>\n      <th>Height</th>\n      <th>Weight</th>\n      <th>BOV</th>\n      <th>Growth</th>\n      <th>Value</th>\n      <th>Wage</th>\n      <th>Release Clause</th>\n      <th>Attacking</th>\n      <th>...</th>\n      <th>Base Stats</th>\n      <th>W/F</th>\n      <th>SM</th>\n      <th>IR</th>\n      <th>PAC</th>\n      <th>SHO</th>\n      <th>PAS</th>\n      <th>DRI</th>\n      <th>DEF</th>\n      <th>PHY</th>\n    </tr>\n  </thead>\n  <tbody>\n    <tr>\n      <th>0</th>\n      <td>0.44</td>\n      <td>1.000000</td>\n      <td>0.776805</td>\n      <td>0.822957</td>\n      <td>1.000000</td>\n      <td>0.04</td>\n      <td>0.079055</td>\n      <td>0.665552</td>\n      <td>0.149649</td>\n      <td>0.704981</td>\n      <td>...</td>\n      <td>0.911765</td>\n      <td>0.5</td>\n      <td>0.0</td>\n      <td>0.666667</td>\n      <td>0.746479</td>\n      <td>0.725806</td>\n      <td>0.766667</td>\n      <td>0.786885</td>\n      <td>1.000000</td>\n      <td>0.938776</td>\n    </tr>\n    <tr>\n      <th>1</th>\n      <td>0.48</td>\n      <td>0.976744</td>\n      <td>0.667396</td>\n      <td>0.760700</td>\n      <td>0.976744</td>\n      <td>0.08</td>\n      <td>0.068275</td>\n      <td>0.498328</td>\n      <td>0.119157</td>\n      <td>0.344828</td>\n      <td>...</td>\n      <td>0.698529</td>\n      <td>0.5</td>\n      <td>0.0</td>\n      <td>0.666667</td>\n      <td>0.661972</td>\n      <td>0.209677</td>\n      <td>0.500000</td>\n      <td>0.721311</td>\n      <td>0.979592</td>\n      <td>0.959184</td>\n    </tr>\n    <tr>\n      <th>2</th>\n      <td>0.68</td>\n      <td>0.976744</td>\n      <td>0.555799</td>\n      <td>0.628405</td>\n      <td>1.000000</td>\n      <td>0.00</td>\n      <td>0.031314</td>\n      <td>1.000000</td>\n      <td>0.063791</td>\n      <td>0.919540</td>\n      <td>...</td>\n      <td>0.933824</td>\n      <td>0.5</td>\n      <td>0.5</td>\n      <td>1.000000</td>\n      <td>0.676056</td>\n      <td>0.854839</td>\n      <td>0.850000</td>\n      <td>0.819672</td>\n      <td>0.938776</td>\n      <td>0.918367</td>\n    </tr>\n    <tr>\n      <th>3</th>\n      <td>0.72</td>\n      <td>0.976744</td>\n      <td>0.667396</td>\n      <td>0.680934</td>\n      <td>0.976744</td>\n      <td>0.00</td>\n      <td>0.024127</td>\n      <td>0.715719</td>\n      <td>0.039519</td>\n      <td>0.574713</td>\n      <td>...</td>\n      <td>0.727941</td>\n      <td>0.5</td>\n      <td>0.0</td>\n      <td>1.000000</td>\n      <td>0.619718</td>\n      <td>0.500000</td>\n      <td>0.566667</td>\n      <td>0.606557</td>\n      <td>1.000000</td>\n      <td>0.857143</td>\n    </tr>\n    <tr>\n      <th>4</th>\n      <td>0.68</td>\n      <td>0.953488</td>\n      <td>0.667396</td>\n      <td>0.548638</td>\n      <td>0.976744</td>\n      <td>0.00</td>\n      <td>0.027721</td>\n      <td>0.448161</td>\n      <td>0.046740</td>\n      <td>0.681992</td>\n      <td>...</td>\n      <td>0.731618</td>\n      <td>0.5</td>\n      <td>0.0</td>\n      <td>0.666667</td>\n      <td>0.507042</td>\n      <td>0.532258</td>\n      <td>0.666667</td>\n      <td>0.622951</td>\n      <td>0.979592</td>\n      <td>0.877551</td>\n    </tr>\n    <tr>\n      <th>5</th>\n      <td>0.64</td>\n      <td>0.953488</td>\n      <td>0.776805</td>\n      <td>0.680934</td>\n      <td>0.953488</td>\n      <td>0.00</td>\n      <td>0.037988</td>\n      <td>0.949833</td>\n      <td>0.077131</td>\n      <td>0.831418</td>\n      <td>...</td>\n      <td>0.805147</td>\n      <td>0.5</td>\n      <td>0.0</td>\n      <td>1.000000</td>\n      <td>0.450704</td>\n      <td>0.741935</td>\n      <td>0.800000</td>\n      <td>0.737705</td>\n      <td>0.959184</td>\n      <td>0.816327</td>\n    </tr>\n    <tr>\n      <th>6</th>\n      <td>0.36</td>\n      <td>0.930233</td>\n      <td>0.667396</td>\n      <td>0.680934</td>\n      <td>0.930233</td>\n      <td>0.12</td>\n      <td>0.056982</td>\n      <td>0.648829</td>\n      <td>0.108124</td>\n      <td>0.689655</td>\n      <td>...</td>\n      <td>0.797794</td>\n      <td>0.5</td>\n      <td>0.0</td>\n      <td>0.333333</td>\n      <td>0.563380</td>\n      <td>0.564516</td>\n      <td>0.783333</td>\n      <td>0.737705</td>\n      <td>0.959184</td>\n      <td>0.857143</td>\n    </tr>\n    <tr>\n      <th>7</th>\n      <td>0.56</td>\n      <td>0.930233</td>\n      <td>0.277899</td>\n      <td>0.354086</td>\n      <td>0.930233</td>\n      <td>0.00</td>\n      <td>0.040041</td>\n      <td>0.799331</td>\n      <td>0.081244</td>\n      <td>0.934866</td>\n      <td>...</td>\n      <td>0.988971</td>\n      <td>0.5</td>\n      <td>0.5</td>\n      <td>0.666667</td>\n      <td>0.929577</td>\n      <td>0.870968</td>\n      <td>0.950000</td>\n      <td>0.983607</td>\n      <td>0.775510</td>\n      <td>0.673469</td>\n    </tr>\n    <tr>\n      <th>8</th>\n      <td>0.56</td>\n      <td>0.930233</td>\n      <td>0.610503</td>\n      <td>0.610895</td>\n      <td>0.930233</td>\n      <td>0.00</td>\n      <td>0.041068</td>\n      <td>0.515050</td>\n      <td>0.075125</td>\n      <td>0.681992</td>\n      <td>...</td>\n      <td>0.801471</td>\n      <td>0.5</td>\n      <td>0.0</td>\n      <td>0.666667</td>\n      <td>0.563380</td>\n      <td>0.645161</td>\n      <td>0.800000</td>\n      <td>0.704918</td>\n      <td>0.959184</td>\n      <td>0.795918</td>\n    </tr>\n    <tr>\n      <th>9</th>\n      <td>0.56</td>\n      <td>0.930233</td>\n      <td>0.722101</td>\n      <td>0.857977</td>\n      <td>0.930233</td>\n      <td>0.00</td>\n      <td>0.041068</td>\n      <td>0.431438</td>\n      <td>0.066901</td>\n      <td>0.831418</td>\n      <td>...</td>\n      <td>0.794118</td>\n      <td>0.5</td>\n      <td>0.5</td>\n      <td>1.000000</td>\n      <td>0.380282</td>\n      <td>0.693548</td>\n      <td>0.866667</td>\n      <td>0.803279</td>\n      <td>0.979592</td>\n      <td>0.734694</td>\n    </tr>\n  </tbody>\n</table>\n<p>10 rows × 61 columns</p>\n</div>"
     },
     "metadata": {},
     "execution_count": 23
    }
   ],
   "source": [
    "x_variable.iloc[:10]"
   ]
  },
  {
   "cell_type": "code",
   "execution_count": 25,
   "metadata": {},
   "outputs": [
    {
     "output_type": "execute_result",
     "data": {
      "text/plain": "0       0\n1       0\n2       0\n3       0\n4       0\n       ..\n6149    0\n6150    0\n6151    1\n6152    1\n6153    0\nName: BP, Length: 6154, dtype: int32"
     },
     "metadata": {},
     "execution_count": 25
    }
   ],
   "source": [
    "y_variable = y_variable.astype(int)\n",
    "y_variable"
   ]
  },
  {
   "cell_type": "code",
   "execution_count": 29,
   "metadata": {
    "tags": []
   },
   "outputs": [
    {
     "output_type": "stream",
     "name": "stdout",
     "text": "(4923, 61) (4923,)\n(1231, 61) (1231,)\n"
    }
   ],
   "source": [
    "from sklearn.model_selection import train_test_split\n",
    "X_train, X_test, y_train, y_test = train_test_split(x_variable, y_variable, test_size=0.2)\n",
    "print (X_train.shape, y_train.shape)\n",
    "print (X_test.shape, y_test.shape)"
   ]
  },
  {
   "cell_type": "code",
   "execution_count": 31,
   "metadata": {},
   "outputs": [
    {
     "output_type": "execute_result",
     "data": {
      "text/plain": "RandomForestClassifier(max_features='sqrt', max_leaf_nodes=5)"
     },
     "metadata": {},
     "execution_count": 31
    }
   ],
   "source": [
    "from sklearn.ensemble import RandomForestClassifier\n",
    "RF_Model = RandomForestClassifier(max_features = 'sqrt', max_leaf_nodes = 5)\n",
    "RF_Model.fit(x_variable, y_variable)"
   ]
  },
  {
   "cell_type": "code",
   "execution_count": 34,
   "metadata": {},
   "outputs": [
    {
     "output_type": "error",
     "ename": "NameError",
     "evalue": "name 'np' is not defined",
     "traceback": [
      "\u001b[1;31m---------------------------------------------------------------------------\u001b[0m",
      "\u001b[1;31mNameError\u001b[0m                                 Traceback (most recent call last)",
      "\u001b[1;32m<ipython-input-34-649c215ef7fc>\u001b[0m in \u001b[0;36m<module>\u001b[1;34m\u001b[0m\n\u001b[0;32m     21\u001b[0m \u001b[0my_pred\u001b[0m  \u001b[1;33m=\u001b[0m \u001b[0mRF_Model\u001b[0m\u001b[1;33m.\u001b[0m\u001b[0mpredict\u001b[0m\u001b[1;33m(\u001b[0m\u001b[0mX_train\u001b[0m\u001b[1;33m)\u001b[0m\u001b[1;33m\u001b[0m\u001b[1;33m\u001b[0m\u001b[0m\n\u001b[0;32m     22\u001b[0m \u001b[1;33m\u001b[0m\u001b[0m\n\u001b[1;32m---> 23\u001b[1;33m \u001b[0mAccuracy\u001b[0m \u001b[1;33m=\u001b[0m \u001b[0mround\u001b[0m\u001b[1;33m(\u001b[0m\u001b[0mnp\u001b[0m\u001b[1;33m.\u001b[0m\u001b[0mmedian\u001b[0m\u001b[1;33m(\u001b[0m\u001b[0mcross_val_score\u001b[0m\u001b[1;33m(\u001b[0m\u001b[0mRF_Model\u001b[0m\u001b[1;33m,\u001b[0m \u001b[0mX_train\u001b[0m\u001b[1;33m,\u001b[0m \u001b[0my_train\u001b[0m\u001b[1;33m,\u001b[0m \u001b[0mcv\u001b[0m \u001b[1;33m=\u001b[0m \u001b[1;36m5\u001b[0m\u001b[1;33m)\u001b[0m\u001b[1;33m)\u001b[0m\u001b[1;33m,\u001b[0m\u001b[1;36m2\u001b[0m\u001b[1;33m)\u001b[0m\u001b[1;33m*\u001b[0m\u001b[1;36m100\u001b[0m\u001b[1;33m\u001b[0m\u001b[1;33m\u001b[0m\u001b[0m\n\u001b[0m\u001b[0;32m     24\u001b[0m \u001b[1;33m\u001b[0m\u001b[0m\n\u001b[0;32m     25\u001b[0m \u001b[0mError\u001b[0m   \u001b[1;33m=\u001b[0m \u001b[1;36m1\u001b[0m \u001b[1;33m-\u001b[0m \u001b[0mAccuracy\u001b[0m\u001b[1;33m\u001b[0m\u001b[1;33m\u001b[0m\u001b[0m\n",
      "\u001b[1;31mNameError\u001b[0m: name 'np' is not defined"
     ]
    }
   ],
   "source": [
    "from sklearn.metrics import *\n",
    "\n",
    "#Learning curve\n",
    "from sklearn.metrics import precision_recall_fscore_support\n",
    "from sklearn.metrics import f1_score\n",
    "from sklearn.model_selection import learning_curve\n",
    "from sklearn.model_selection import ShuffleSplit\n",
    "from sklearn.model_selection import cross_val_predict\n",
    "from sklearn.model_selection import cross_val_score\n",
    "from sklearn.model_selection import validation_curve\n",
    "\n",
    "# Import Classifiers\n",
    "from sklearn.linear_model import LogisticRegression\n",
    "from sklearn.ensemble import RandomForestClassifier\n",
    "from sklearn.linear_model import Perceptron\n",
    "from sklearn.linear_model import SGDClassifier\n",
    "from sklearn.tree import DecisionTreeClassifier\n",
    "from sklearn.neighbors import KNeighborsClassifier\n",
    "\n",
    "import numpy as np\n",
    "\n",
    "RF_Model.fit(X_train, y_train)\n",
    "y_pred  = RF_Model.predict(X_train)\n",
    "\n",
    "Accuracy = round(np.median(cross_val_score(RF_Model, X_train, y_train, cv = 5)),2)*100\n",
    " \n",
    "Error   = 1 - Accuracy\n",
    "    \n",
    "precision = precision_score(y_train, y_pred) * 100\n",
    "recall = recall_score(y_train, y_pred) * 100\n",
    "f1score = f1_score(y_train, y_pred) * 100"
   ]
  },
  {
   "cell_type": "code",
   "execution_count": null,
   "metadata": {},
   "outputs": [],
   "source": [
    "print('Scoring Accuracy: %.2f %%'%(Accuracy))\n",
    "print(\"Precision: %.2f %%\"%(precision))\n",
    "print(\"Recall: %.2f %%\"%(recall))\n",
    "print('f1-score: %.2f %%'%(f1score))"
   ]
  }
 ],
 "metadata": {
  "kernelspec": {
   "display_name": "Python 3",
   "language": "python",
   "name": "python3"
  },
  "language_info": {
   "codemirror_mode": {
    "name": "ipython",
    "version": 3
   },
   "file_extension": ".py",
   "mimetype": "text/x-python",
   "name": "python",
   "nbconvert_exporter": "python",
   "pygments_lexer": "ipython3",
   "version": "3.7.6"
  }
 },
 "nbformat": 4,
 "nbformat_minor": 4
}