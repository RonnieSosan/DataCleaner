{
 "cells": [
  {
   "cell_type": "code",
   "execution_count": 79,
   "metadata": {
    "tags": []
   },
   "outputs": [],
   "source": [
    "import pandas as pd\n",
    "from sklearn.preprocessing import MinMaxScaler\n",
    "from sklearn.model_selection import cross_validate\n",
    "import numpy as np\n",
    "import matplotlib.pyplot as  plt\n",
    "\n",
    "#import plotter\n",
    "import seaborn as sns\n",
    "\n",
    "%matplotlib inline\n",
    "\n",
    "defenders = pd.read_csv(r'C:\\Users\\sosan\\Documents\\Dissertation\\DataSets\\Fifa 20\\TransformedData\\Defenders.csv')\n",
    "midfielders = pd.read_csv(r'C:\\Users\\sosan\\Documents\\Dissertation\\DataSets\\Fifa 20\\TransformedData\\Midfielders.csv')\n",
    "fowards = pd.read_csv(r'C:\\Users\\sosan\\Documents\\Dissertation\\DataSets\\Fifa 20\\TransformedData\\Strikers.csv')\n"
   ]
  },
  {
   "cell_type": "code",
   "execution_count": null,
   "metadata": {},
   "outputs": [],
   "source": [
    "fowards.head(9)\n",
    "#midfielders.describe()"
   ]
  },
  {
   "cell_type": "code",
   "execution_count": null,
   "metadata": {},
   "outputs": [],
   "source": [
    "def Missing(data):\n",
    "    \"\"\" Identify missing values in the dataframe\n",
    "    :param data: set the font to be used for the labels, legend and axes\n",
    "    \"\"\"\n",
    "    total = data.isnull().sum().sort_values(ascending = False)\n",
    "    percent = round(data.isnull().sum().sort_values(ascending = False)/len(data)*100, 2)\n",
    "    missing = pd.concat([total, percent], axis = 1,keys= ['Total', 'Percent'])\n",
    "\n",
    "    \n",
    "    cmap = sns.diverging_palette( 220 , 10 , as_cmap = True )\n",
    "    plt.figure(figsize = (10,5));\n",
    "    sns.heatmap(data.isnull(), yticklabels = False, cbar = False, cmap = cmap)\n",
    "    plt.savefig('missingValues.png')\n",
    "    return(missing) \n",
    "\n",
    "#plots number of dataframes side by side\n",
    "def SideSide(*args):\n",
    "    html_str=''\n",
    "    for df in args:\n",
    "        html_str+=df.to_html()\n",
    "    display_html(html_str.replace('table','table style=\"display:inline\"'),raw = True)"
   ]
  },
  {
   "cell_type": "code",
   "execution_count": 80,
   "metadata": {
    "tags": []
   },
   "outputs": [
    {
     "output_type": "error",
     "ename": "NameError",
     "evalue": "name 'Missing' is not defined",
     "traceback": [
      "\u001b[1;31m---------------------------------------------------------------------------\u001b[0m",
      "\u001b[1;31mNameError\u001b[0m                                 Traceback (most recent call last)",
      "\u001b[1;32m<ipython-input-80-7321dfb7e2e0>\u001b[0m in \u001b[0;36m<module>\u001b[1;34m\u001b[0m\n\u001b[1;32m----> 1\u001b[1;33m \u001b[0mmissing_Defender_Data\u001b[0m \u001b[1;33m=\u001b[0m \u001b[0mMissing\u001b[0m\u001b[1;33m(\u001b[0m\u001b[0mmidfielders\u001b[0m\u001b[1;33m)\u001b[0m\u001b[1;33m\u001b[0m\u001b[1;33m\u001b[0m\u001b[0m\n\u001b[0m\u001b[0;32m      2\u001b[0m \u001b[0mmissing_Defender_Data\u001b[0m\u001b[1;33m\u001b[0m\u001b[1;33m\u001b[0m\u001b[0m\n\u001b[0;32m      3\u001b[0m \u001b[1;31m#missing_Defender_Data.to_csv(r'C:\\Users\\sosan\\Documents\\Dissertation\\DataSets\\Fifa 20\\TransformedData\\MissingDataResult.csv', index = True)\u001b[0m\u001b[1;33m\u001b[0m\u001b[1;33m\u001b[0m\u001b[1;33m\u001b[0m\u001b[0m\n",
      "\u001b[1;31mNameError\u001b[0m: name 'Missing' is not defined"
     ]
    }
   ],
   "source": [
    "missing_Defender_Data = Missing(midfielders)\n",
    "missing_Defender_Data\n",
    "#missing_Defender_Data.to_csv(r'C:\\Users\\sosan\\Documents\\Dissertation\\DataSets\\Fifa 20\\TransformedData\\MissingDataResult.csv', index = True)"
   ]
  },
  {
   "cell_type": "code",
   "execution_count": 81,
   "metadata": {},
   "outputs": [],
   "source": [
    "def convertFoot(playerData):\n",
    "    playerData.loc[playerData['foot'] == 'Right', 'foot'] = 1\n",
    "    playerData.loc[playerData['foot'] == 'Left', 'foot'] = 0\n",
    "    return playerData\n",
    "\n",
    "def convertDefenceLabels(data):\n",
    "    data.loc[data['BP'] == 'CB', 'BP'] = 0\n",
    "    data.loc[(data['BP'] == 'LB') | (data['BP'] == 'LWB'), 'BP'] = 1\n",
    "    data.loc[(data['BP'] == 'RB') | (data['BP'] == 'RWB'), 'BP'] = 2\n",
    "    return data\n",
    "\n",
    "def convertFowardLabels(data):\n",
    "    data.loc[data['BP'] == 'LW', 'BP'] = 0\n",
    "    data.loc[data['BP'] == 'RW', 'BP'] = 1\n",
    "    data.loc[(data['BP'] == 'ST') | (data['BP'] == 'CF'), 'BP'] = 2\n",
    "    return data\n",
    "\n",
    "def convertMidfieldLabels(data):\n",
    "    data.loc[data['BP'] == 'CM', 'BP'] = 1\n",
    "    data.loc[data['BP'] == 'CDM', 'BP'] = 0\n",
    "    data.loc[data['BP'] == 'CAM', 'BP'] = 2\n",
    "    data.loc[data['BP'] == 'RM' , 'BP'] = 4\n",
    "    data.loc[data['BP'] == 'LM', 'BP'] = 3\n",
    "    return data"
   ]
  },
  {
   "cell_type": "code",
   "execution_count": 82,
   "metadata": {
    "tags": []
   },
   "outputs": [
    {
     "output_type": "execute_result",
     "data": {
      "text/plain": "                           Name  \\\n0  C. Ronaldo dos Santos Aveiro   \n1                 Mohamed Salah   \n2                 Kylian Mbappé   \n3                    Harry Kane   \n4            Robert Lewandowski   \n\n                                            Image   Country Position  Age  \\\n0   https://cdn.sofifa.org/players/4/20/20801.png  Portugal    ST,LW   34   \n1  https://cdn.sofifa.org/players/4/20/209331.png     Egypt    RW,ST   27   \n2  https://cdn.sofifa.org/players/4/20/231747.png    France    ST,RW   20   \n3  https://cdn.sofifa.org/players/4/20/202126.png   England       ST   25   \n4  https://cdn.sofifa.org/players/4/20/188545.png    Poland       ST   30   \n\n   Overall  Potential                 Club      ID  Height  ...   A/W     D/W  \\\n0       93         93             Juventus   20801   188.0  ...  High     Low   \n1       90         90            Liverpool  209331   175.3  ...  High  Medium   \n2       89         89  Paris Saint-Germain  231747   177.8  ...  High     Low   \n3       89         89    Tottenham Hotspur  202126   188.0  ...  High    High   \n4       89         89    FC Bayern München  188545   182.9  ...  High  Medium   \n\n   IR PAC  SHO PAS DRI  DEF  PHY  Hits  \n0   5  90   93  82  89   35   78   448  \n1   3  93   86  81  89   45   74   377  \n2   3  96   84  78  90   39   75   812  \n3   3  70   91  79  81   47   83   383  \n4   4  77   87  74  85   41   82   359  \n\n[5 rows x 75 columns]",
      "text/html": "<div>\n<style scoped>\n    .dataframe tbody tr th:only-of-type {\n        vertical-align: middle;\n    }\n\n    .dataframe tbody tr th {\n        vertical-align: top;\n    }\n\n    .dataframe thead th {\n        text-align: right;\n    }\n</style>\n<table border=\"1\" class=\"dataframe\">\n  <thead>\n    <tr style=\"text-align: right;\">\n      <th></th>\n      <th>Name</th>\n      <th>Image</th>\n      <th>Country</th>\n      <th>Position</th>\n      <th>Age</th>\n      <th>Overall</th>\n      <th>Potential</th>\n      <th>Club</th>\n      <th>ID</th>\n      <th>Height</th>\n      <th>...</th>\n      <th>A/W</th>\n      <th>D/W</th>\n      <th>IR</th>\n      <th>PAC</th>\n      <th>SHO</th>\n      <th>PAS</th>\n      <th>DRI</th>\n      <th>DEF</th>\n      <th>PHY</th>\n      <th>Hits</th>\n    </tr>\n  </thead>\n  <tbody>\n    <tr>\n      <th>0</th>\n      <td>C. Ronaldo dos Santos Aveiro</td>\n      <td>https://cdn.sofifa.org/players/4/20/20801.png</td>\n      <td>Portugal</td>\n      <td>ST,LW</td>\n      <td>34</td>\n      <td>93</td>\n      <td>93</td>\n      <td>Juventus</td>\n      <td>20801</td>\n      <td>188.0</td>\n      <td>...</td>\n      <td>High</td>\n      <td>Low</td>\n      <td>5</td>\n      <td>90</td>\n      <td>93</td>\n      <td>82</td>\n      <td>89</td>\n      <td>35</td>\n      <td>78</td>\n      <td>448</td>\n    </tr>\n    <tr>\n      <th>1</th>\n      <td>Mohamed Salah</td>\n      <td>https://cdn.sofifa.org/players/4/20/209331.png</td>\n      <td>Egypt</td>\n      <td>RW,ST</td>\n      <td>27</td>\n      <td>90</td>\n      <td>90</td>\n      <td>Liverpool</td>\n      <td>209331</td>\n      <td>175.3</td>\n      <td>...</td>\n      <td>High</td>\n      <td>Medium</td>\n      <td>3</td>\n      <td>93</td>\n      <td>86</td>\n      <td>81</td>\n      <td>89</td>\n      <td>45</td>\n      <td>74</td>\n      <td>377</td>\n    </tr>\n    <tr>\n      <th>2</th>\n      <td>Kylian Mbappé</td>\n      <td>https://cdn.sofifa.org/players/4/20/231747.png</td>\n      <td>France</td>\n      <td>ST,RW</td>\n      <td>20</td>\n      <td>89</td>\n      <td>89</td>\n      <td>Paris Saint-Germain</td>\n      <td>231747</td>\n      <td>177.8</td>\n      <td>...</td>\n      <td>High</td>\n      <td>Low</td>\n      <td>3</td>\n      <td>96</td>\n      <td>84</td>\n      <td>78</td>\n      <td>90</td>\n      <td>39</td>\n      <td>75</td>\n      <td>812</td>\n    </tr>\n    <tr>\n      <th>3</th>\n      <td>Harry Kane</td>\n      <td>https://cdn.sofifa.org/players/4/20/202126.png</td>\n      <td>England</td>\n      <td>ST</td>\n      <td>25</td>\n      <td>89</td>\n      <td>89</td>\n      <td>Tottenham Hotspur</td>\n      <td>202126</td>\n      <td>188.0</td>\n      <td>...</td>\n      <td>High</td>\n      <td>High</td>\n      <td>3</td>\n      <td>70</td>\n      <td>91</td>\n      <td>79</td>\n      <td>81</td>\n      <td>47</td>\n      <td>83</td>\n      <td>383</td>\n    </tr>\n    <tr>\n      <th>4</th>\n      <td>Robert Lewandowski</td>\n      <td>https://cdn.sofifa.org/players/4/20/188545.png</td>\n      <td>Poland</td>\n      <td>ST</td>\n      <td>30</td>\n      <td>89</td>\n      <td>89</td>\n      <td>FC Bayern München</td>\n      <td>188545</td>\n      <td>182.9</td>\n      <td>...</td>\n      <td>High</td>\n      <td>Medium</td>\n      <td>4</td>\n      <td>77</td>\n      <td>87</td>\n      <td>74</td>\n      <td>85</td>\n      <td>41</td>\n      <td>82</td>\n      <td>359</td>\n    </tr>\n  </tbody>\n</table>\n<p>5 rows × 75 columns</p>\n</div>"
     },
     "metadata": {},
     "execution_count": 82
    }
   ],
   "source": [
    "#get a list of the numeric features in the dataset\n",
    "defenders = convertDefenceLabels(defenders)\n",
    "defenders = convertFoot(defenders)\n",
    "midfielders = convertMidfieldLabels(midfielders)\n",
    "midfielders = convertFoot(midfielders)\n",
    "fowards = convertFowardLabels(fowards)\n",
    "fowards = convertFoot(fowards)\n",
    "fowards.head(5)\n"
   ]
  },
  {
   "cell_type": "code",
   "execution_count": 83,
   "metadata": {
    "tags": []
   },
   "outputs": [
    {
     "output_type": "stream",
     "name": "stdout",
     "text": "Index(['Age', 'Overall', 'Potential', 'ID', 'Height', 'Weight', 'BOV',\n       'Growth', 'Value', 'Wage', 'Release Clause', 'Attacking', 'Crossing',\n       'Finishing', 'Heading Accuracy', 'Short Passing', 'Volleys', 'Skill',\n       'Dribbling', 'Curve', 'FK Accuracy', 'Long Passing', 'Ball Control',\n       'Movement', 'Acceleration', 'Sprint Speed', 'Agility', 'Reactions',\n       'Balance', 'Power', 'Shot Power', 'Jumping', 'Stamina', 'Strength',\n       'Long Shots', 'Mentality', 'Aggression', 'Interceptions', 'Positioning',\n       'Vision', 'Penalties', 'Composure', 'Defending', 'Marking',\n       'Standing Tackle', 'Sliding Tackle', 'Goalkeeping', 'GK Diving',\n       'GK Handling', 'GK Kicking', 'GK Positioning', 'GK Reflexes',\n       'Total Stats', 'Base Stats', 'W/F', 'SM', 'IR', 'PAC', 'SHO', 'PAS',\n       'DRI', 'DEF', 'PHY'],\n      dtype='object')\n"
    }
   ],
   "source": [
    "\n",
    "indexes = defenders._get_numeric_data().columns\n",
    "print(indexes)"
   ]
  },
  {
   "cell_type": "code",
   "execution_count": 84,
   "metadata": {},
   "outputs": [
    {
     "output_type": "execute_result",
     "data": {
      "text/plain": "      Age  Overall  Potential  Height  Weight  BOV  Growth       Value  \\\n0      27       90         90   193.0    92.3   90       1  78000000.0   \n1      28       89         89   188.0    89.1   89       2  67500000.0   \n2      33       89         89   182.9    82.3   90       0  31500000.0   \n3      34       89         89   188.0    85.0   89       0  24500000.0   \n4      33       88         88   188.0    78.2   89       0  28000000.0   \n...   ...      ...        ...     ...     ...  ...     ...         ...   \n6149   18       48         48   185.4    74.1   51       6  40000000.0   \n6150   26       48         48   182.9    78.2   52       3  40000000.0   \n6151   18       48         48   177.8    69.1   49      13  50000000.0   \n6152   16       47         47   177.8    71.4   47      17  50000000.0   \n6153   16       47         47   175.3    71.4   48      18  50000000.0   \n\n            Wage  Release Clause  ...  Base Stats  W/F  SM  IR  PAC  SHO  PAS  \\\n0     20000000.0     150200000.0  ...         454    3   2   3   77   60   70   \n1     15000000.0     119800000.0  ...         396    3   2   3   71   28   54   \n2     30000000.0      64600000.0  ...         460    3   3   4   72   68   75   \n3     21500000.0      40400000.0  ...         404    3   2   4   68   46   58   \n4     13500000.0      47600000.0  ...         405    3   2   3   60   48   64   \n...          ...             ...  ...         ...  ...  ..  ..  ...  ...  ...   \n6149    100000.0      70000000.0  ...         285    2   2   1   59   35   47   \n6150    200000.0     143000000.0  ...         290    3   2   1   60   32   51   \n6151    100000.0     114000000.0  ...         256    2   2   1   56   26   29   \n6152    100000.0     119000000.0  ...         259    3   2   1   65   26   32   \n6153    100000.0     119000000.0  ...         257    3   2   1   67   24   34   \n\n      DRI  DEF  PHY  \n0      71   90   86  \n1      67   89   87  \n2      73   87   85  \n3      60   90   82  \n4      61   89   83  \n...   ...  ...  ...  \n6149   47   45   52  \n6150   45   47   55  \n6151   48   47   50  \n6152   45   43   48  \n6153   37   46   49  \n\n[6154 rows x 62 columns]",
      "text/html": "<div>\n<style scoped>\n    .dataframe tbody tr th:only-of-type {\n        vertical-align: middle;\n    }\n\n    .dataframe tbody tr th {\n        vertical-align: top;\n    }\n\n    .dataframe thead th {\n        text-align: right;\n    }\n</style>\n<table border=\"1\" class=\"dataframe\">\n  <thead>\n    <tr style=\"text-align: right;\">\n      <th></th>\n      <th>Age</th>\n      <th>Overall</th>\n      <th>Potential</th>\n      <th>Height</th>\n      <th>Weight</th>\n      <th>BOV</th>\n      <th>Growth</th>\n      <th>Value</th>\n      <th>Wage</th>\n      <th>Release Clause</th>\n      <th>...</th>\n      <th>Base Stats</th>\n      <th>W/F</th>\n      <th>SM</th>\n      <th>IR</th>\n      <th>PAC</th>\n      <th>SHO</th>\n      <th>PAS</th>\n      <th>DRI</th>\n      <th>DEF</th>\n      <th>PHY</th>\n    </tr>\n  </thead>\n  <tbody>\n    <tr>\n      <th>0</th>\n      <td>27</td>\n      <td>90</td>\n      <td>90</td>\n      <td>193.0</td>\n      <td>92.3</td>\n      <td>90</td>\n      <td>1</td>\n      <td>78000000.0</td>\n      <td>20000000.0</td>\n      <td>150200000.0</td>\n      <td>...</td>\n      <td>454</td>\n      <td>3</td>\n      <td>2</td>\n      <td>3</td>\n      <td>77</td>\n      <td>60</td>\n      <td>70</td>\n      <td>71</td>\n      <td>90</td>\n      <td>86</td>\n    </tr>\n    <tr>\n      <th>1</th>\n      <td>28</td>\n      <td>89</td>\n      <td>89</td>\n      <td>188.0</td>\n      <td>89.1</td>\n      <td>89</td>\n      <td>2</td>\n      <td>67500000.0</td>\n      <td>15000000.0</td>\n      <td>119800000.0</td>\n      <td>...</td>\n      <td>396</td>\n      <td>3</td>\n      <td>2</td>\n      <td>3</td>\n      <td>71</td>\n      <td>28</td>\n      <td>54</td>\n      <td>67</td>\n      <td>89</td>\n      <td>87</td>\n    </tr>\n    <tr>\n      <th>2</th>\n      <td>33</td>\n      <td>89</td>\n      <td>89</td>\n      <td>182.9</td>\n      <td>82.3</td>\n      <td>90</td>\n      <td>0</td>\n      <td>31500000.0</td>\n      <td>30000000.0</td>\n      <td>64600000.0</td>\n      <td>...</td>\n      <td>460</td>\n      <td>3</td>\n      <td>3</td>\n      <td>4</td>\n      <td>72</td>\n      <td>68</td>\n      <td>75</td>\n      <td>73</td>\n      <td>87</td>\n      <td>85</td>\n    </tr>\n    <tr>\n      <th>3</th>\n      <td>34</td>\n      <td>89</td>\n      <td>89</td>\n      <td>188.0</td>\n      <td>85.0</td>\n      <td>89</td>\n      <td>0</td>\n      <td>24500000.0</td>\n      <td>21500000.0</td>\n      <td>40400000.0</td>\n      <td>...</td>\n      <td>404</td>\n      <td>3</td>\n      <td>2</td>\n      <td>4</td>\n      <td>68</td>\n      <td>46</td>\n      <td>58</td>\n      <td>60</td>\n      <td>90</td>\n      <td>82</td>\n    </tr>\n    <tr>\n      <th>4</th>\n      <td>33</td>\n      <td>88</td>\n      <td>88</td>\n      <td>188.0</td>\n      <td>78.2</td>\n      <td>89</td>\n      <td>0</td>\n      <td>28000000.0</td>\n      <td>13500000.0</td>\n      <td>47600000.0</td>\n      <td>...</td>\n      <td>405</td>\n      <td>3</td>\n      <td>2</td>\n      <td>3</td>\n      <td>60</td>\n      <td>48</td>\n      <td>64</td>\n      <td>61</td>\n      <td>89</td>\n      <td>83</td>\n    </tr>\n    <tr>\n      <th>...</th>\n      <td>...</td>\n      <td>...</td>\n      <td>...</td>\n      <td>...</td>\n      <td>...</td>\n      <td>...</td>\n      <td>...</td>\n      <td>...</td>\n      <td>...</td>\n      <td>...</td>\n      <td>...</td>\n      <td>...</td>\n      <td>...</td>\n      <td>...</td>\n      <td>...</td>\n      <td>...</td>\n      <td>...</td>\n      <td>...</td>\n      <td>...</td>\n      <td>...</td>\n      <td>...</td>\n    </tr>\n    <tr>\n      <th>6149</th>\n      <td>18</td>\n      <td>48</td>\n      <td>48</td>\n      <td>185.4</td>\n      <td>74.1</td>\n      <td>51</td>\n      <td>6</td>\n      <td>40000000.0</td>\n      <td>100000.0</td>\n      <td>70000000.0</td>\n      <td>...</td>\n      <td>285</td>\n      <td>2</td>\n      <td>2</td>\n      <td>1</td>\n      <td>59</td>\n      <td>35</td>\n      <td>47</td>\n      <td>47</td>\n      <td>45</td>\n      <td>52</td>\n    </tr>\n    <tr>\n      <th>6150</th>\n      <td>26</td>\n      <td>48</td>\n      <td>48</td>\n      <td>182.9</td>\n      <td>78.2</td>\n      <td>52</td>\n      <td>3</td>\n      <td>40000000.0</td>\n      <td>200000.0</td>\n      <td>143000000.0</td>\n      <td>...</td>\n      <td>290</td>\n      <td>3</td>\n      <td>2</td>\n      <td>1</td>\n      <td>60</td>\n      <td>32</td>\n      <td>51</td>\n      <td>45</td>\n      <td>47</td>\n      <td>55</td>\n    </tr>\n    <tr>\n      <th>6151</th>\n      <td>18</td>\n      <td>48</td>\n      <td>48</td>\n      <td>177.8</td>\n      <td>69.1</td>\n      <td>49</td>\n      <td>13</td>\n      <td>50000000.0</td>\n      <td>100000.0</td>\n      <td>114000000.0</td>\n      <td>...</td>\n      <td>256</td>\n      <td>2</td>\n      <td>2</td>\n      <td>1</td>\n      <td>56</td>\n      <td>26</td>\n      <td>29</td>\n      <td>48</td>\n      <td>47</td>\n      <td>50</td>\n    </tr>\n    <tr>\n      <th>6152</th>\n      <td>16</td>\n      <td>47</td>\n      <td>47</td>\n      <td>177.8</td>\n      <td>71.4</td>\n      <td>47</td>\n      <td>17</td>\n      <td>50000000.0</td>\n      <td>100000.0</td>\n      <td>119000000.0</td>\n      <td>...</td>\n      <td>259</td>\n      <td>3</td>\n      <td>2</td>\n      <td>1</td>\n      <td>65</td>\n      <td>26</td>\n      <td>32</td>\n      <td>45</td>\n      <td>43</td>\n      <td>48</td>\n    </tr>\n    <tr>\n      <th>6153</th>\n      <td>16</td>\n      <td>47</td>\n      <td>47</td>\n      <td>175.3</td>\n      <td>71.4</td>\n      <td>48</td>\n      <td>18</td>\n      <td>50000000.0</td>\n      <td>100000.0</td>\n      <td>119000000.0</td>\n      <td>...</td>\n      <td>257</td>\n      <td>3</td>\n      <td>2</td>\n      <td>1</td>\n      <td>67</td>\n      <td>24</td>\n      <td>34</td>\n      <td>37</td>\n      <td>46</td>\n      <td>49</td>\n    </tr>\n  </tbody>\n</table>\n<p>6154 rows × 62 columns</p>\n</div>"
     },
     "metadata": {},
     "execution_count": 84
    }
   ],
   "source": [
    "player_features = ['Age', 'Overall', 'Potential', 'Height', 'Weight', 'BOV', 'Growth',\n",
    "       'Value', 'Wage', 'Release Clause', 'Attacking', 'Crossing', 'Finishing',\n",
    "       'Heading Accuracy', 'Short Passing', 'Volleys', 'Skill', 'Dribbling',\n",
    "       'Curve', 'FK Accuracy', 'Long Passing', 'Ball Control', 'Movement',\n",
    "       'Acceleration', 'Sprint Speed', 'Agility', 'Reactions', 'Balance',\n",
    "       'Power', 'Shot Power', 'Jumping', 'Stamina', 'Strength', 'Long Shots',\n",
    "       'Mentality', 'Aggression', 'Interceptions', 'Positioning', 'Vision',\n",
    "       'Penalties', 'Composure', 'Defending', 'Marking', 'Standing Tackle',\n",
    "       'Sliding Tackle', 'Goalkeeping', 'GK Diving', 'GK Handling',\n",
    "       'GK Kicking', 'GK Positioning', 'GK Reflexes', 'Total Stats',\n",
    "       'Base Stats', 'W/F', 'SM', 'IR', 'PAC', 'SHO', 'PAS', 'DRI', 'DEF',\n",
    "       'PHY']\n",
    "defenders[player_features]"
   ]
  },
  {
   "cell_type": "code",
   "execution_count": 85,
   "metadata": {},
   "outputs": [],
   "source": [
    "#defenders = defenders[(defenders['BP'] != 'CB')]\n",
    "defenders = defenders[['Age','BP', 'Overall','foot', 'Potential', 'Height', 'Weight', 'BOV',\n",
    "       'Growth', 'Value', 'Wage', 'Release Clause', 'Attacking', 'Crossing',\n",
    "       'Finishing', 'Heading Accuracy', 'Short Passing', 'Volleys', 'Skill',\n",
    "       'Dribbling', 'Curve', 'FK Accuracy', 'Long Passing', 'Ball Control',\n",
    "       'Movement', 'Acceleration', 'Sprint Speed', 'Agility', 'Reactions',\n",
    "       'Balance', 'Power', 'Shot Power', 'Jumping', 'Stamina', 'Strength',\n",
    "       'Long Shots', 'Mentality', 'Aggression', 'Interceptions', 'Positioning',\n",
    "       'Vision', 'Penalties', 'Composure', 'Defending', 'Marking',\n",
    "       'Standing Tackle', 'Sliding Tackle', 'Goalkeeping', 'GK Diving',\n",
    "       'GK Handling', 'GK Kicking', 'GK Positioning', 'GK Reflexes',\n",
    "       'Total Stats', 'Base Stats', 'W/F', 'SM', 'IR', 'PAC', 'SHO', 'PAS',\n",
    "       'DRI', 'DEF', 'PHY']]\n",
    "midfielders = midfielders[['Age','BP', 'Overall','foot', 'Potential', 'Height', 'Weight', 'BOV',\n",
    "       'Growth', 'Value', 'Wage', 'Release Clause', 'Attacking', 'Crossing',\n",
    "       'Finishing', 'Heading Accuracy', 'Short Passing', 'Volleys', 'Skill',\n",
    "       'Dribbling', 'Curve', 'FK Accuracy', 'Long Passing', 'Ball Control',\n",
    "       'Movement', 'Acceleration', 'Sprint Speed', 'Agility', 'Reactions',\n",
    "       'Balance', 'Power', 'Shot Power', 'Jumping', 'Stamina', 'Strength',\n",
    "       'Long Shots', 'Mentality', 'Aggression', 'Interceptions', 'Positioning',\n",
    "       'Vision', 'Penalties', 'Composure', 'Defending', 'Marking',\n",
    "       'Standing Tackle', 'Sliding Tackle', 'Goalkeeping', 'GK Diving',\n",
    "       'GK Handling', 'GK Kicking', 'GK Positioning', 'GK Reflexes',\n",
    "       'Total Stats', 'Base Stats', 'W/F', 'SM', 'IR', 'PAC', 'SHO', 'PAS',\n",
    "       'DRI', 'DEF', 'PHY']]\n",
    "fowards = fowards[['Age','BP', 'Overall','foot', 'Potential', 'Height', 'Weight', 'BOV',\n",
    "       'Growth', 'Value', 'Wage', 'Release Clause', 'Attacking', 'Crossing',\n",
    "       'Finishing', 'Heading Accuracy', 'Short Passing', 'Volleys', 'Skill',\n",
    "       'Dribbling', 'Curve', 'FK Accuracy', 'Long Passing', 'Ball Control',\n",
    "       'Movement', 'Acceleration', 'Sprint Speed', 'Agility', 'Reactions',\n",
    "       'Balance', 'Power', 'Shot Power', 'Jumping', 'Stamina', 'Strength',\n",
    "       'Long Shots', 'Mentality', 'Aggression', 'Interceptions', 'Positioning',\n",
    "       'Vision', 'Penalties', 'Composure', 'Defending', 'Marking',\n",
    "       'Standing Tackle', 'Sliding Tackle', 'Goalkeeping', 'GK Diving',\n",
    "       'GK Handling', 'GK Kicking', 'GK Positioning', 'GK Reflexes',\n",
    "       'Total Stats', 'Base Stats', 'W/F', 'SM', 'IR', 'PAC', 'SHO', 'PAS',\n",
    "       'DRI', 'DEF', 'PHY']]\n",
    "\n"
   ]
  },
  {
   "cell_type": "code",
   "execution_count": 86,
   "metadata": {},
   "outputs": [],
   "source": [
    "def normalizeData(data):\n",
    "    min_max = MinMaxScaler()\n",
    "    data[player_features] =  min_max.fit_transform(data[player_features])\n",
    "    #df_scaled = pd.DataFrame(player, columns=numerical_Data.columns,index=numerical_Data.index)\n",
    "    return data\n",
    "    \n",
    "def showCorrelation(data):\n",
    "    DataFrame_Correlation_matrix = data.corr()\n",
    "    print(DataFrame_Correlation_matrix['Overall'].sort_values(ascending=False))"
   ]
  },
  {
   "cell_type": "code",
   "execution_count": 87,
   "metadata": {},
   "outputs": [],
   "source": [
    "defenders = normalizeData(defenders)\n",
    "midfielders = normalizeData(midfielders)\n",
    "fowards = normalizeData(fowards)"
   ]
  },
  {
   "cell_type": "code",
   "execution_count": null,
   "metadata": {},
   "outputs": [],
   "source": [
    "fowards.head(5)"
   ]
  },
  {
   "cell_type": "code",
   "execution_count": 88,
   "metadata": {
    "tags": []
   },
   "outputs": [
    {
     "output_type": "execute_result",
     "data": {
      "text/plain": "0    2\n1    2\n2    2\n3    2\n4    1\nName: BP, dtype: int32"
     },
     "metadata": {},
     "execution_count": 88
    }
   ],
   "source": [
    "#defenders variables\n",
    "dictionaryOf_x_y = {}\n",
    " \n",
    "predictorFeatures = defenders.columns.drop(['Overall', 'BP'])\n",
    "defenders['foot'] = defenders['foot'].astype(int)\n",
    "dictionaryOf_x_y['defenders'] = {'x_variable': defenders[predictorFeatures] , 'y_variable' : defenders.BP.astype(int)}\n",
    "dictionaryOf_x_y['midfielders'] = {'x_variable': midfielders[predictorFeatures] , 'y_variable' : midfielders.BP.astype(int)}\n",
    "dictionaryOf_x_y['fowards'] = {'x_variable': fowards[predictorFeatures] , 'y_variable' : fowards.BP.astype(int)}\n",
    "dictionaryOf_x_y['midfielders']['y_variable'].iloc[:5]"
   ]
  },
  {
   "cell_type": "code",
   "execution_count": null,
   "metadata": {},
   "outputs": [],
   "source": [
    "y_target, x_neighbours = fowards.iloc[0, :], fowards\n",
    "x_neighbours"
   ]
  },
  {
   "cell_type": "code",
   "execution_count": null,
   "metadata": {},
   "outputs": [],
   "source": [
    "dictionaryOf_x_y['defenders']['y_variable']"
   ]
  },
  {
   "cell_type": "code",
   "execution_count": null,
   "metadata": {},
   "outputs": [],
   "source": [
    "y_variable = y_variable.astype(int)\n",
    "y_variable"
   ]
  },
  {
   "cell_type": "code",
   "execution_count": 89,
   "metadata": {
    "tags": []
   },
   "outputs": [
    {
     "output_type": "stream",
     "name": "stdout",
     "text": "(4923, 62) (4923,)\n(1231, 62) (1231,)\n"
    }
   ],
   "source": [
    "from sklearn.model_selection import train_test_split\n",
    "dictionaryOfTrain_Test = {}\n",
    "x_train, x_test, y_train, y_test = train_test_split(dictionaryOf_x_y['defenders']['x_variable'], dictionaryOf_x_y['defenders']['y_variable'], test_size=0.2)\n",
    "dictionaryOfTrain_Test['defenders'] = {'x_train': x_train,  'x_test' : x_test, 'y_train':y_train, 'y_test': y_test, 'classes' : ['Center Back','Left Wing-Back', 'Right Wing-Back']}\n",
    "\n",
    "x_train, x_test, y_train, y_test = train_test_split(dictionaryOf_x_y['midfielders']['x_variable'], dictionaryOf_x_y['midfielders']['y_variable'], test_size=0.2)\n",
    "dictionaryOfTrain_Test['midfielders'] = {'x_train': x_train,  'x_test' : x_test, 'y_train' : y_train, 'y_test': y_test, 'classes' : ['CDM','CM','CAM','LM', 'RM' ]}\n",
    "\n",
    "x_train, x_test, y_train, y_test = train_test_split(dictionaryOf_x_y['fowards']['x_variable'], dictionaryOf_x_y['fowards']['y_variable'], test_size=0.2)\n",
    "dictionaryOfTrain_Test['fowards'] = {'x_train': x_train,  'x_test' : x_test, 'y_train' : y_train, 'y_test': y_test, 'classes' : ['Left Winger','Right winger','Striker' ]}\n",
    "\n",
    "print (dictionaryOfTrain_Test['defenders']['x_train'].shape, dictionaryOfTrain_Test['defenders']['y_train'].shape)\n",
    "print (dictionaryOfTrain_Test['defenders']['x_test'].shape, dictionaryOfTrain_Test['defenders']['y_test'].shape)"
   ]
  },
  {
   "cell_type": "code",
   "execution_count": 90,
   "metadata": {},
   "outputs": [
    {
     "output_type": "execute_result",
     "data": {
      "text/plain": "       Age  foot  Potential    Height    Weight       BOV  Growth     Value  \\\n5011  0.32     1   0.325581  0.498906  0.354086  0.348837    0.16  0.306982   \n169   0.40     0   0.744186  0.555799  0.513619  0.767442    0.08  0.012834   \n2154  0.52     1   0.511628  0.444201  0.548638  0.534884    0.00  0.897331   \n4336  0.12     1   0.372093  0.610503  0.566148  0.395349    0.64  0.743326   \n2859  0.32     1   0.465116  0.498906  0.416342  0.488372    0.16  0.897331   \n...    ...   ...        ...       ...       ...       ...     ...       ...   \n5793  0.08     0   0.209302  0.667396  0.468872  0.232558    0.48  0.142710   \n819   0.32     1   0.604651  0.667396  0.513619  0.627907    0.16  0.004620   \n5025  0.12     0   0.302326  0.667396  0.433852  0.302326    0.52  0.358316   \n1545  0.48     0   0.534884  0.667396  0.725681  0.558140    0.00  0.000616   \n999   0.44     0   0.581395  0.498906  0.291829  0.627907    0.00  0.001848   \n\n          Wage  Release Clause  ...  Base Stats   W/F   SM        IR  \\\n5011  0.000000        0.473420  ...    0.511029  0.50  0.0  0.000000   \n169   0.267559        0.025075  ...    0.834559  0.50  0.5  0.333333   \n2154  0.013378        0.000401  ...    0.724265  0.50  0.0  0.000000   \n4336  0.000000        0.001204  ...    0.617647  0.50  0.0  0.000000   \n2859  0.010033        0.000301  ...    0.573529  0.50  0.0  0.000000   \n...        ...             ...  ...         ...   ...  ...       ...   \n5793  0.000000        0.272818  ...    0.290441  0.25  0.0  0.000000   \n819   0.070234        0.009930  ...    0.812500  0.50  0.5  0.000000   \n5025  0.000000        0.692076  ...    0.411765  0.50  0.0  0.000000   \n1545  0.013378        0.001304  ...    0.584559  0.50  0.0  0.333333   \n999   0.020067        0.002708  ...    0.757353  0.50  0.5  0.000000   \n\n           PAC       SHO       PAS       DRI       DEF       PHY  \n5011  0.591549  0.435484  0.583333  0.590164  0.346939  0.428571  \n169   0.690141  0.693548  0.850000  0.852459  0.755102  0.693878  \n2154  0.746479  0.677419  0.566667  0.622951  0.510204  0.897959  \n4336  0.873239  0.516129  0.500000  0.655738  0.367347  0.510204  \n2859  0.774648  0.387097  0.566667  0.622951  0.448980  0.448980  \n...        ...       ...       ...       ...       ...       ...  \n5793  0.535211  0.177419  0.150000  0.377049  0.285714  0.469388  \n819   0.704225  0.838710  0.683333  0.704918  0.571429  0.938776  \n5025  0.704225  0.225806  0.433333  0.491803  0.346939  0.285714  \n1545  0.535211  0.435484  0.583333  0.540984  0.530612  0.795918  \n999   0.746479  0.709677  0.716667  0.803279  0.551020  0.591837  \n\n[4923 rows x 62 columns]",
      "text/html": "<div>\n<style scoped>\n    .dataframe tbody tr th:only-of-type {\n        vertical-align: middle;\n    }\n\n    .dataframe tbody tr th {\n        vertical-align: top;\n    }\n\n    .dataframe thead th {\n        text-align: right;\n    }\n</style>\n<table border=\"1\" class=\"dataframe\">\n  <thead>\n    <tr style=\"text-align: right;\">\n      <th></th>\n      <th>Age</th>\n      <th>foot</th>\n      <th>Potential</th>\n      <th>Height</th>\n      <th>Weight</th>\n      <th>BOV</th>\n      <th>Growth</th>\n      <th>Value</th>\n      <th>Wage</th>\n      <th>Release Clause</th>\n      <th>...</th>\n      <th>Base Stats</th>\n      <th>W/F</th>\n      <th>SM</th>\n      <th>IR</th>\n      <th>PAC</th>\n      <th>SHO</th>\n      <th>PAS</th>\n      <th>DRI</th>\n      <th>DEF</th>\n      <th>PHY</th>\n    </tr>\n  </thead>\n  <tbody>\n    <tr>\n      <th>5011</th>\n      <td>0.32</td>\n      <td>1</td>\n      <td>0.325581</td>\n      <td>0.498906</td>\n      <td>0.354086</td>\n      <td>0.348837</td>\n      <td>0.16</td>\n      <td>0.306982</td>\n      <td>0.000000</td>\n      <td>0.473420</td>\n      <td>...</td>\n      <td>0.511029</td>\n      <td>0.50</td>\n      <td>0.0</td>\n      <td>0.000000</td>\n      <td>0.591549</td>\n      <td>0.435484</td>\n      <td>0.583333</td>\n      <td>0.590164</td>\n      <td>0.346939</td>\n      <td>0.428571</td>\n    </tr>\n    <tr>\n      <th>169</th>\n      <td>0.40</td>\n      <td>0</td>\n      <td>0.744186</td>\n      <td>0.555799</td>\n      <td>0.513619</td>\n      <td>0.767442</td>\n      <td>0.08</td>\n      <td>0.012834</td>\n      <td>0.267559</td>\n      <td>0.025075</td>\n      <td>...</td>\n      <td>0.834559</td>\n      <td>0.50</td>\n      <td>0.5</td>\n      <td>0.333333</td>\n      <td>0.690141</td>\n      <td>0.693548</td>\n      <td>0.850000</td>\n      <td>0.852459</td>\n      <td>0.755102</td>\n      <td>0.693878</td>\n    </tr>\n    <tr>\n      <th>2154</th>\n      <td>0.52</td>\n      <td>1</td>\n      <td>0.511628</td>\n      <td>0.444201</td>\n      <td>0.548638</td>\n      <td>0.534884</td>\n      <td>0.00</td>\n      <td>0.897331</td>\n      <td>0.013378</td>\n      <td>0.000401</td>\n      <td>...</td>\n      <td>0.724265</td>\n      <td>0.50</td>\n      <td>0.0</td>\n      <td>0.000000</td>\n      <td>0.746479</td>\n      <td>0.677419</td>\n      <td>0.566667</td>\n      <td>0.622951</td>\n      <td>0.510204</td>\n      <td>0.897959</td>\n    </tr>\n    <tr>\n      <th>4336</th>\n      <td>0.12</td>\n      <td>1</td>\n      <td>0.372093</td>\n      <td>0.610503</td>\n      <td>0.566148</td>\n      <td>0.395349</td>\n      <td>0.64</td>\n      <td>0.743326</td>\n      <td>0.000000</td>\n      <td>0.001204</td>\n      <td>...</td>\n      <td>0.617647</td>\n      <td>0.50</td>\n      <td>0.0</td>\n      <td>0.000000</td>\n      <td>0.873239</td>\n      <td>0.516129</td>\n      <td>0.500000</td>\n      <td>0.655738</td>\n      <td>0.367347</td>\n      <td>0.510204</td>\n    </tr>\n    <tr>\n      <th>2859</th>\n      <td>0.32</td>\n      <td>1</td>\n      <td>0.465116</td>\n      <td>0.498906</td>\n      <td>0.416342</td>\n      <td>0.488372</td>\n      <td>0.16</td>\n      <td>0.897331</td>\n      <td>0.010033</td>\n      <td>0.000301</td>\n      <td>...</td>\n      <td>0.573529</td>\n      <td>0.50</td>\n      <td>0.0</td>\n      <td>0.000000</td>\n      <td>0.774648</td>\n      <td>0.387097</td>\n      <td>0.566667</td>\n      <td>0.622951</td>\n      <td>0.448980</td>\n      <td>0.448980</td>\n    </tr>\n    <tr>\n      <th>...</th>\n      <td>...</td>\n      <td>...</td>\n      <td>...</td>\n      <td>...</td>\n      <td>...</td>\n      <td>...</td>\n      <td>...</td>\n      <td>...</td>\n      <td>...</td>\n      <td>...</td>\n      <td>...</td>\n      <td>...</td>\n      <td>...</td>\n      <td>...</td>\n      <td>...</td>\n      <td>...</td>\n      <td>...</td>\n      <td>...</td>\n      <td>...</td>\n      <td>...</td>\n      <td>...</td>\n    </tr>\n    <tr>\n      <th>5793</th>\n      <td>0.08</td>\n      <td>0</td>\n      <td>0.209302</td>\n      <td>0.667396</td>\n      <td>0.468872</td>\n      <td>0.232558</td>\n      <td>0.48</td>\n      <td>0.142710</td>\n      <td>0.000000</td>\n      <td>0.272818</td>\n      <td>...</td>\n      <td>0.290441</td>\n      <td>0.25</td>\n      <td>0.0</td>\n      <td>0.000000</td>\n      <td>0.535211</td>\n      <td>0.177419</td>\n      <td>0.150000</td>\n      <td>0.377049</td>\n      <td>0.285714</td>\n      <td>0.469388</td>\n    </tr>\n    <tr>\n      <th>819</th>\n      <td>0.32</td>\n      <td>1</td>\n      <td>0.604651</td>\n      <td>0.667396</td>\n      <td>0.513619</td>\n      <td>0.627907</td>\n      <td>0.16</td>\n      <td>0.004620</td>\n      <td>0.070234</td>\n      <td>0.009930</td>\n      <td>...</td>\n      <td>0.812500</td>\n      <td>0.50</td>\n      <td>0.5</td>\n      <td>0.000000</td>\n      <td>0.704225</td>\n      <td>0.838710</td>\n      <td>0.683333</td>\n      <td>0.704918</td>\n      <td>0.571429</td>\n      <td>0.938776</td>\n    </tr>\n    <tr>\n      <th>5025</th>\n      <td>0.12</td>\n      <td>0</td>\n      <td>0.302326</td>\n      <td>0.667396</td>\n      <td>0.433852</td>\n      <td>0.302326</td>\n      <td>0.52</td>\n      <td>0.358316</td>\n      <td>0.000000</td>\n      <td>0.692076</td>\n      <td>...</td>\n      <td>0.411765</td>\n      <td>0.50</td>\n      <td>0.0</td>\n      <td>0.000000</td>\n      <td>0.704225</td>\n      <td>0.225806</td>\n      <td>0.433333</td>\n      <td>0.491803</td>\n      <td>0.346939</td>\n      <td>0.285714</td>\n    </tr>\n    <tr>\n      <th>1545</th>\n      <td>0.48</td>\n      <td>0</td>\n      <td>0.534884</td>\n      <td>0.667396</td>\n      <td>0.725681</td>\n      <td>0.558140</td>\n      <td>0.00</td>\n      <td>0.000616</td>\n      <td>0.013378</td>\n      <td>0.001304</td>\n      <td>...</td>\n      <td>0.584559</td>\n      <td>0.50</td>\n      <td>0.0</td>\n      <td>0.333333</td>\n      <td>0.535211</td>\n      <td>0.435484</td>\n      <td>0.583333</td>\n      <td>0.540984</td>\n      <td>0.530612</td>\n      <td>0.795918</td>\n    </tr>\n    <tr>\n      <th>999</th>\n      <td>0.44</td>\n      <td>0</td>\n      <td>0.581395</td>\n      <td>0.498906</td>\n      <td>0.291829</td>\n      <td>0.627907</td>\n      <td>0.00</td>\n      <td>0.001848</td>\n      <td>0.020067</td>\n      <td>0.002708</td>\n      <td>...</td>\n      <td>0.757353</td>\n      <td>0.50</td>\n      <td>0.5</td>\n      <td>0.000000</td>\n      <td>0.746479</td>\n      <td>0.709677</td>\n      <td>0.716667</td>\n      <td>0.803279</td>\n      <td>0.551020</td>\n      <td>0.591837</td>\n    </tr>\n  </tbody>\n</table>\n<p>4923 rows × 62 columns</p>\n</div>"
     },
     "metadata": {},
     "execution_count": 90
    }
   ],
   "source": [
    "dictionaryOfTrain_Test['defenders']['x_train']"
   ]
  },
  {
   "cell_type": "code",
   "execution_count": null,
   "metadata": {},
   "outputs": [],
   "source": [
    "x_train"
   ]
  },
  {
   "cell_type": "code",
   "execution_count": null,
   "metadata": {
    "tags": []
   },
   "outputs": [],
   "source": [
    "from sklearn.metrics import *\n",
    "\n",
    "#Learning curve\n",
    "from sklearn.metrics import precision_recall_fscore_support\n",
    "from sklearn.metrics import f1_score\n",
    "from sklearn.model_selection import learning_curve\n",
    "from sklearn.model_selection import ShuffleSplit\n",
    "from sklearn.model_selection import cross_val_predict\n",
    "from sklearn.model_selection import cross_val_score\n",
    "from sklearn.model_selection import validation_curve\n",
    "from sklearn.metrics import r2_score, mean_squared_error\n",
    "\n",
    "# Import Classifiers\n",
    "from sklearn.linear_model import LogisticRegression\n",
    "from sklearn.linear_model import LinearRegression\n",
    "from sklearn.ensemble import RandomForestClassifier\n",
    "from sklearn.linear_model import Perceptron\n",
    "from sklearn.linear_model import SGDClassifier\n",
    "from sklearn.tree import DecisionTreeClassifier\n",
    "from sklearn.neighbors import KNeighborsClassifier\n",
    "from sklearn.neural_network import MLPClassifier\n",
    "\n",
    "from sklearn.inspection import permutation_importance\n",
    "import eli5\n",
    "from eli5.sklearn import PermutationImportance\n",
    "\n",
    "# Import NearestNeighbour\n",
    "import numpy as np\n",
    "from sklearn.neighbors import NearestNeighbors\n",
    "\n",
    "def Apply_model(model, x_data, y_true, cv_folds = 10):\n",
    "\n",
    "    y_pred = model.predict(x_data)\n",
    "\n",
    "    Accuracy = round(np.median(cross_val_score(model, x_data, y_true, cv = cv_folds)),2)*100\n",
    "    \n",
    "    Error   = 1 - Accuracy\n",
    "    \n",
    "    precision = precision_score(y_true, y_pred, average='micro') * 100\n",
    "    \n",
    "    recall = recall_score(y_true, y_pred, average = 'micro') * 100\n",
    "    \n",
    "    f1score = f1_score(y_true, y_pred, average = 'micro') * 100\n",
    "\n",
    "    print('Model Name: ',type(model) )\n",
    "    #print(\"score = \", RF_Model.score(x_train, y_train), \"\\n\")\n",
    "\n",
    "    print('Scoring Accuracy: %.2f %%'%(Accuracy))\n",
    "    print(\"Precision: %.2f %%\"%(precision))\n",
    "    print(\"Recall: %.2f %%\"%(recall))\n",
    "    print('f1-score: %.2f %%'%(f1score))\n",
    "    return y_pred\n",
    "\n",
    "def Confuse(y, y_pred, data_classes):\n",
    "\n",
    "    training_con_matrix = confusion_matrix(y, y_pred)\n",
    "    print(training_con_matrix)\n",
    "\n",
    "    cnf_matrix = confusion_matrix(y, y_pred)\n",
    "    \n",
    "    cnf_matrix = cnf_matrix.astype('float') / cnf_matrix.sum(axis = 1)[:, np.newaxis]\n",
    "    c_train = pd.DataFrame(cnf_matrix * 100, index = data_classes, columns = data_classes)\n",
    "\n",
    "    cmap = sns.diverging_palette( 250 , 15 , as_cmap = True )\n",
    "\n",
    "    ax = sns.heatmap(c_train, annot = True, cmap = cmap, square = True, cbar = False, \n",
    "                          fmt = '.2f', annot_kws = {\"size\": 15})\n",
    "    return(ax, c_train)\n",
    "\n",
    "def permuteFeatureImportance(model, x_test, y_test):\n",
    "    \n",
    "    perm = PermutationImportance(model, random_state=1).fit(x_test, y_test)\n",
    "    eli5.show_weights(perm, feature_names = x_test.columns.tolist())\n",
    "    #results = permutation_importance(model, x_test, y_test, scoring='neg_mean_squared_error')\n",
    "\n",
    "    # get importance\n",
    "    #importance = results.importances_mean.argsort()\n",
    "\n",
    "    #print(importance)\n",
    "\n",
    "    # for i,v in enumerate(importance):\n",
    "    #     print('Feature: %0d, Score: %.5f' % (i,v))\n",
    "\n",
    "    # indices = np.argsort(important_feat)[-20:]  # top 15 features\n",
    "\n",
    "    # print(indices)\n",
    "\n",
    "    #plt.title('Feature Importances')\n",
    "    #plt.barh(range(len(indices)), important_feat[indices], color='b', align='center')\n",
    "    #plt.yticks(range(len(indices)), [predictorFeatures[i] for i in indices])\n",
    "    #plt.xlabel('Relative Importance')\n",
    "\n",
    "def findNearestNeightbour(x, y, algorithm):\n",
    "    nn = NearestNeighbors(5, algorithm= algorithm)\n",
    "    nn.fit(x)\n",
    "    print(nn)\n",
    "    dist, indc = nn.kneighbors(y, 5)\n",
    "    print(dist[0:10], indc[0:10])"
   ]
  },
  {
   "cell_type": "code",
   "execution_count": null,
   "metadata": {
    "tags": []
   },
   "outputs": [],
   "source": [
    "y_target = np.array(y_target).reshape(1, -1)\n",
    "algorithms = ['brute', 'ball_tree', 'kd_tree']\n",
    "\n",
    "for algo in algorithms:\n",
    "    findNearestNeightbour(x_neighbours, y_target, algo)"
   ]
  },
  {
   "cell_type": "code",
   "execution_count": null,
   "metadata": {},
   "outputs": [],
   "source": [
    "x_neighbours.iloc[8, :]"
   ]
  },
  {
   "cell_type": "code",
   "execution_count": null,
   "metadata": {
    "tags": []
   },
   "outputs": [],
   "source": [
    "\n",
    "#Create a list of models to train the data sets including:\n",
    "# Random Forest, SGDClassifier and MLPClassifier\n",
    "modelList = [RandomForestClassifier(max_features = 'sqrt', max_leaf_nodes = 10), SGDClassifier(max_iter = 200, tol = None), MLPClassifier(solver='lbfgs', alpha=1e-5, hidden_layer_sizes=(32, 24, 12, 6), random_state=1)]\n",
    "\n",
    "#create an array of all the position categories\n",
    "positions = ['defenders','midfielders', 'fowards']\n",
    "\n",
    "#Loop through the lust of categories in the dictionary of training and test data\n",
    "for key,value in dictionaryOfTrain_Test.items():\n",
    "    # print the current key in the dictionary which is the current position (i.e defenders midifelders or forwards)\n",
    "    print('for the ',key)\n",
    "    loop = 0\n",
    "    for model in modelList:\n",
    "        model.fit(value['x_train'], value['y_train'])\n",
    "        y_train_pred = Apply_model(model, value['x_train'], value['y_train'])\n",
    "        print(value['classes'])\n",
    "        plt.figure()\n",
    "        if loop == 0:\n",
    "            pltname = key + 'RF'\n",
    "        elif loop == 1:\n",
    "            pltname = key + 'SGD'\n",
    "        elif loop == 2:\n",
    "            pltname= key + \"MLP\"        \n",
    "        loop = loop + 1\n",
    "        Confuse(value['y_train'], y_train_pred, value['classes'])\n",
    "        plt.savefig(pltname)\n",
    "        permuteFeatureImportance(model, value['x_train'], value['y_train'])\n"
   ]
  },
  {
   "cell_type": "code",
   "execution_count": null,
   "metadata": {
    "tags": []
   },
   "outputs": [],
   "source": [
    "#sample the modified RF model for increased number of trees in the forest\n",
    "newModelList = [RandomForestClassifier(n_estimators = 200,max_features = 'sqrt', max_leaf_nodes = 10)]\n",
    "\n",
    "positions = ['midfielders']\n",
    "for key,value in dictionaryOfTrain_Test.items():\n",
    "    print('for the ',key)\n",
    "    while key == 'midfielders':\n",
    "        loop = 0\n",
    "        for model in newModelList:\n",
    "            model.fit(value['x_train'], value['y_train'])\n",
    "            y_train_pred = Apply_model(model, value['x_train'], value['y_train'])\n",
    "            print(value['classes'])\n",
    "            plt.figure()\n",
    "            Confuse(value['y_train'], y_train_pred, value['classes'])\n",
    "            permuteFeatureImportance(model, value['x_train'], value['y_train'])"
   ]
  },
  {
   "cell_type": "code",
   "execution_count": null,
   "metadata": {
    "tags": []
   },
   "outputs": [],
   "source": [
    "permuteFeatureImportance(newModelList[0], dictionaryOfTrain_Test['midfielders']['x_train'], dictionaryOfTrain_Test['midfielders']['y_train'])"
   ]
  },
  {
   "cell_type": "code",
   "execution_count": null,
   "metadata": {
    "tags": []
   },
   "outputs": [],
   "source": [
    "for key,value in dictionaryOfTrain_Test.items():\n",
    "    print('for the ',key)\n",
    "    for model in modelList:\n",
    "        model.fit(value['x_train'], value['y_train'])\n",
    "        y_train_pred = Apply_model(model, value['x_test'], value['y_test'])\n",
    "        print(value['classes'])\n",
    "        plt.figure()\n",
    "        Confuse(value['y_test'], y_train_pred, value['classes'])\n"
   ]
  },
  {
   "cell_type": "code",
   "execution_count": null,
   "metadata": {},
   "outputs": [],
   "source": [
    "from sklearn.decomposition import PCA\n",
    "\n",
    "pca = PCA()\n",
    "pcad_data = pca.fit_transform(x_variable)\n",
    "#percentage variation on each principal component\n",
    "per_var = np.round(pca.explained_variance_ratio_ * 100, decimals=1)\n",
    "\n",
    "#create lables for eachb principal component\n",
    "labels = ['PC' + str(pc) for pc in range(1, len(per_var)+1)]\n",
    "\n"
   ]
  },
  {
   "cell_type": "code",
   "execution_count": null,
   "metadata": {},
   "outputs": [],
   "source": [
    "import matplotlib.pyplot as  plt\n",
    "%matplotlib inline\n",
    "plt.bar(x = range(1, len(per_var)+1), height = per_var, tick_label = labels)\n",
    "plt.ylabel('Percentage of explained variables')\n",
    "plt.xlabel('Principal Component')\n",
    "plt.title('Screen Plot')\n"
   ]
  },
  {
   "cell_type": "code",
   "execution_count": 91,
   "metadata": {
    "tags": []
   },
   "outputs": [
    {
     "output_type": "stream",
     "name": "stdout",
     "text": "[55 53  5  3 54  8 48 46  0 49  2 52 47 50  6 45 27  4 26 51 58 28  7 39\n 21 29 13 30  9 19 32 40 34 42 25 15 18 16 44 57 10 61 35 22 17 23 20 43\n 31 59 33 37 24 14  1 41 12 36 38 11 56 60]\nFeature: 0, Score: 55.00000\nAge\nFeature: 1, Score: 53.00000\nfoot\nFeature: 2, Score: 5.00000\nPotential\nFeature: 3, Score: 3.00000\nHeight\nFeature: 4, Score: 54.00000\nWeight\nFeature: 5, Score: 8.00000\nBOV\nFeature: 6, Score: 48.00000\nGrowth\nFeature: 7, Score: 46.00000\nValue\nFeature: 8, Score: 0.00000\nWage\nFeature: 9, Score: 49.00000\nRelease Clause\nFeature: 10, Score: 2.00000\nAttacking\nFeature: 11, Score: 52.00000\nCrossing\nFeature: 12, Score: 47.00000\nFinishing\nFeature: 13, Score: 50.00000\nHeading Accuracy\nFeature: 14, Score: 6.00000\nShort Passing\nFeature: 15, Score: 45.00000\nVolleys\nFeature: 16, Score: 27.00000\nSkill\nFeature: 17, Score: 4.00000\nDribbling\nFeature: 18, Score: 26.00000\nCurve\nFeature: 19, Score: 51.00000\nFK Accuracy\nFeature: 20, Score: 58.00000\nLong Passing\nFeature: 21, Score: 28.00000\nBall Control\nFeature: 22, Score: 7.00000\nMovement\nFeature: 23, Score: 39.00000\nAcceleration\nFeature: 24, Score: 21.00000\nSprint Speed\nFeature: 25, Score: 29.00000\nAgility\nFeature: 26, Score: 13.00000\nReactions\nFeature: 27, Score: 30.00000\nBalance\nFeature: 28, Score: 9.00000\nPower\nFeature: 29, Score: 19.00000\nShot Power\nFeature: 30, Score: 32.00000\nJumping\nFeature: 31, Score: 40.00000\nStamina\nFeature: 32, Score: 34.00000\nStrength\nFeature: 33, Score: 42.00000\nLong Shots\nFeature: 34, Score: 25.00000\nMentality\nFeature: 35, Score: 15.00000\nAggression\nFeature: 36, Score: 18.00000\nInterceptions\nFeature: 37, Score: 16.00000\nPositioning\nFeature: 38, Score: 44.00000\nVision\nFeature: 39, Score: 57.00000\nPenalties\nFeature: 40, Score: 10.00000\nComposure\nFeature: 41, Score: 61.00000\nDefending\nFeature: 42, Score: 35.00000\nMarking\nFeature: 43, Score: 22.00000\nStanding Tackle\nFeature: 44, Score: 17.00000\nSliding Tackle\nFeature: 45, Score: 23.00000\nGoalkeeping\nFeature: 46, Score: 20.00000\nGK Diving\nFeature: 47, Score: 43.00000\nGK Handling\nFeature: 48, Score: 31.00000\nGK Kicking\nFeature: 49, Score: 59.00000\nGK Positioning\nFeature: 50, Score: 33.00000\nGK Reflexes\nFeature: 51, Score: 37.00000\nTotal Stats\nFeature: 52, Score: 24.00000\nBase Stats\nFeature: 53, Score: 14.00000\nW/F\nFeature: 54, Score: 1.00000\nSM\nFeature: 55, Score: 41.00000\nIR\nFeature: 56, Score: 12.00000\nPAC\nFeature: 57, Score: 36.00000\nSHO\nFeature: 58, Score: 38.00000\nPAS\nFeature: 59, Score: 11.00000\nDRI\nFeature: 60, Score: 56.00000\nDEF\nFeature: 61, Score: 60.00000\nPHY\n"
    }
   ],
   "source": [
    "from sklearn.ensemble import RandomForestRegressor\n",
    "from sklearn.linear_model import SGDRegressor\n",
    "from sklearn.inspection import permutation_importance\n",
    "\n",
    "rf_reg_model = RandomForestRegressor(random_state=1, max_depth=10)\n",
    "\n",
    "rf_reg_model.fit(dictionaryOfTrain_Test['midfielders']['x_train'], dictionaryOfTrain_Test['midfielders']['y_train'])\n",
    "\t\t\n",
    "important_feat = rf_reg_model.feature_importances_\n",
    "\t\t\n",
    "# perform permutation importance\n",
    "\t\t\n",
    "results = permutation_importance(rf_reg_model, dictionaryOfTrain_Test['midfielders']['x_train'], dictionaryOfTrain_Test['midfielders']['y_train'], scoring='neg_mean_squared_error')\n",
    "\n",
    "# get importance\n",
    "importance = results.importances_mean.argsort()\n",
    "\n",
    "print(importance)\n",
    "\n",
    "for i,v in enumerate(importance):\n",
    "\tprint('Feature: %0d, Score: %.5f' % (i,v))\n",
    "\tprint(predictorFeatures[i])\n",
    "\t\t\t\n",
    "indices = np.argsort(important_feat)[-15:]  # top 15 features\n"
   ]
  },
  {
   "cell_type": "code",
   "execution_count": null,
   "metadata": {},
   "outputs": [],
   "source": [
    "plt.title('Feature Importances')\n",
    "plt.barh(range(len(indices)), important_feat[indices], color='b', align='center')\n",
    "plt.yticks(range(len(indices)), [predictorFeatures[i] for i in indices])\n",
    "plt.xlabel('Relative Importance')\n",
    "plt.show()"
   ]
  },
  {
   "cell_type": "code",
   "execution_count": null,
   "metadata": {},
   "outputs": [],
   "source": [
    "dictionaryOfTrain_Test['midfielders']['x_train']"
   ]
  },
  {
   "cell_type": "code",
   "execution_count": 93,
   "metadata": {},
   "outputs": [
    {
     "output_type": "execute_result",
     "data": {
      "text/plain": "        DRI   Stamina  Long Passing  Positioning foot  Short Passing  \\\n0  1.000000  0.671642      1.000000     1.000000    0       1.000000   \n1  0.982143  0.761194      0.822581     0.902778    1       0.912281   \n2  0.821429  0.880597      0.983871     0.916667    1       1.000000   \n3  0.964286  0.805970      0.854839     0.902778    1       0.947368   \n4  0.875000  0.820896      0.935484     0.791667    1       1.000000   \n\n   Sprint Speed  Standing Tackle  Interceptions  Finishing    Vision  \\\n0      0.820896           0.3250       0.365854   1.000000  1.000000   \n1      0.895522           0.1875       0.317073   0.894737  0.937500   \n2      0.701493           0.5875       0.621951   0.828947  1.000000   \n3      0.880597           0.2000       0.378049   0.855263  0.921875   \n4      0.626866           0.8125       0.878049   0.697368  0.953125   \n\n   Crossing  Defending       PAC       DEF  \n0  0.929577   0.247788  0.863636  0.323944  \n1  0.915493   0.185841  0.924242  0.225352  \n2  1.000000   0.606195  0.696970  0.633803  \n3  0.830986   0.190265  0.924242  0.267606  \n4  0.901408   0.774336  0.666667  0.788732  ",
      "text/html": "<div>\n<style scoped>\n    .dataframe tbody tr th:only-of-type {\n        vertical-align: middle;\n    }\n\n    .dataframe tbody tr th {\n        vertical-align: top;\n    }\n\n    .dataframe thead th {\n        text-align: right;\n    }\n</style>\n<table border=\"1\" class=\"dataframe\">\n  <thead>\n    <tr style=\"text-align: right;\">\n      <th></th>\n      <th>DRI</th>\n      <th>Stamina</th>\n      <th>Long Passing</th>\n      <th>Positioning</th>\n      <th>foot</th>\n      <th>Short Passing</th>\n      <th>Sprint Speed</th>\n      <th>Standing Tackle</th>\n      <th>Interceptions</th>\n      <th>Finishing</th>\n      <th>Vision</th>\n      <th>Crossing</th>\n      <th>Defending</th>\n      <th>PAC</th>\n      <th>DEF</th>\n    </tr>\n  </thead>\n  <tbody>\n    <tr>\n      <th>0</th>\n      <td>1.000000</td>\n      <td>0.671642</td>\n      <td>1.000000</td>\n      <td>1.000000</td>\n      <td>0</td>\n      <td>1.000000</td>\n      <td>0.820896</td>\n      <td>0.3250</td>\n      <td>0.365854</td>\n      <td>1.000000</td>\n      <td>1.000000</td>\n      <td>0.929577</td>\n      <td>0.247788</td>\n      <td>0.863636</td>\n      <td>0.323944</td>\n    </tr>\n    <tr>\n      <th>1</th>\n      <td>0.982143</td>\n      <td>0.761194</td>\n      <td>0.822581</td>\n      <td>0.902778</td>\n      <td>1</td>\n      <td>0.912281</td>\n      <td>0.895522</td>\n      <td>0.1875</td>\n      <td>0.317073</td>\n      <td>0.894737</td>\n      <td>0.937500</td>\n      <td>0.915493</td>\n      <td>0.185841</td>\n      <td>0.924242</td>\n      <td>0.225352</td>\n    </tr>\n    <tr>\n      <th>2</th>\n      <td>0.821429</td>\n      <td>0.880597</td>\n      <td>0.983871</td>\n      <td>0.916667</td>\n      <td>1</td>\n      <td>1.000000</td>\n      <td>0.701493</td>\n      <td>0.5875</td>\n      <td>0.621951</td>\n      <td>0.828947</td>\n      <td>1.000000</td>\n      <td>1.000000</td>\n      <td>0.606195</td>\n      <td>0.696970</td>\n      <td>0.633803</td>\n    </tr>\n    <tr>\n      <th>3</th>\n      <td>0.964286</td>\n      <td>0.805970</td>\n      <td>0.854839</td>\n      <td>0.902778</td>\n      <td>1</td>\n      <td>0.947368</td>\n      <td>0.880597</td>\n      <td>0.2000</td>\n      <td>0.378049</td>\n      <td>0.855263</td>\n      <td>0.921875</td>\n      <td>0.830986</td>\n      <td>0.190265</td>\n      <td>0.924242</td>\n      <td>0.267606</td>\n    </tr>\n    <tr>\n      <th>4</th>\n      <td>0.875000</td>\n      <td>0.820896</td>\n      <td>0.935484</td>\n      <td>0.791667</td>\n      <td>1</td>\n      <td>1.000000</td>\n      <td>0.626866</td>\n      <td>0.8125</td>\n      <td>0.878049</td>\n      <td>0.697368</td>\n      <td>0.953125</td>\n      <td>0.901408</td>\n      <td>0.774336</td>\n      <td>0.666667</td>\n      <td>0.788732</td>\n    </tr>\n  </tbody>\n</table>\n</div>"
     },
     "metadata": {},
     "execution_count": 93
    }
   ],
   "source": [
    "#trimming the data for the midfielders to only the important features for the 'x' variables\n",
    "\n",
    "x_fitted_variable = dictionaryOf_x_y['midfielders']['x_variable'][predictorFeatures[indices]]\n",
    "x_fitted_variable.iloc[:5]"
   ]
  },
  {
   "cell_type": "code",
   "execution_count": 94,
   "metadata": {
    "tags": []
   },
   "outputs": [
    {
     "output_type": "stream",
     "name": "stdout",
     "text": "(4947, 15) (4947,)\n(1237, 15) (1237,)\n"
    }
   ],
   "source": [
    "\n",
    "#splitting the x and y variables into training data and testing data for the nely established features\n",
    "x_fit_train, x_fit_test, y_fit_train, y_fit_test = train_test_split(x_fitted_variable, dictionaryOf_x_y['midfielders']['y_variable'], test_size=0.2)\n",
    "print (x_fit_train.shape, y_fit_train.shape)\n",
    "print (x_fit_test.shape, y_fit_test.shape)"
   ]
  },
  {
   "cell_type": "code",
   "execution_count": 95,
   "metadata": {
    "tags": []
   },
   "outputs": [
    {
     "output_type": "stream",
     "name": "stdout",
     "text": "Model Name:  <class 'sklearn.ensemble._forest.RandomForestClassifier'>\nScoring Accuracy: 67.00 %\nPrecision: 67.58 %\nRecall: 67.58 %\nf1-score: 67.58 %\n[[289   6   9   0   0]\n [ 77  84  59   0   0]\n [ 14  27 290   2  20]\n [ 10   2  48  55  11]\n [  9   7  97   3 118]]\n"
    },
    {
     "output_type": "display_data",
     "data": {
      "text/plain": "<Figure size 432x288 with 1 Axes>",
      "image/svg+xml": "<?xml version=\"1.0\" encoding=\"utf-8\" standalone=\"no\"?>\r\n<!DOCTYPE svg PUBLIC \"-//W3C//DTD SVG 1.1//EN\"\r\n  \"http://www.w3.org/Graphics/SVG/1.1/DTD/svg11.dtd\">\r\n<!-- Created with matplotlib (https://matplotlib.org/) -->\r\n<svg height=\"248.518125pt\" version=\"1.1\" viewBox=\"0 0 248.518125 248.518125\" width=\"248.518125pt\" xmlns=\"http://www.w3.org/2000/svg\" xmlns:xlink=\"http://www.w3.org/1999/xlink\">\r\n <metadata>\r\n  <rdf:RDF xmlns:cc=\"http://creativecommons.org/ns#\" xmlns:dc=\"http://purl.org/dc/elements/1.1/\" xmlns:rdf=\"http://www.w3.org/1999/02/22-rdf-syntax-ns#\">\r\n   <cc:Work>\r\n    <dc:type rdf:resource=\"http://purl.org/dc/dcmitype/StillImage\"/>\r\n    <dc:date>2020-09-26T21:16:24.749135</dc:date>\r\n    <dc:format>image/svg+xml</dc:format>\r\n    <dc:creator>\r\n     <cc:Agent>\r\n      <dc:title>Matplotlib v3.3.0, https://matplotlib.org/</dc:title>\r\n     </cc:Agent>\r\n    </dc:creator>\r\n   </cc:Work>\r\n  </rdf:RDF>\r\n </metadata>\r\n <defs>\r\n  <style type=\"text/css\">*{stroke-linecap:butt;stroke-linejoin:round;}</style>\r\n </defs>\r\n <g id=\"figure_1\">\r\n  <g id=\"patch_1\">\r\n   <path d=\"M 0 248.518125 \r\nL 248.518125 248.518125 \r\nL 248.518125 0 \r\nL 0 0 \r\nz\r\n\" style=\"fill:none;\"/>\r\n  </g>\r\n  <g id=\"axes_1\">\r\n   <g id=\"patch_2\">\r\n    <path d=\"M 23.878125 224.64 \r\nL 241.318125 224.64 \r\nL 241.318125 7.2 \r\nL 23.878125 7.2 \r\nz\r\n\" style=\"fill:#ffffff;\"/>\r\n   </g>\r\n   <g id=\"QuadMesh_1\">\r\n    <path clip-path=\"url(#p14333dace0)\" d=\"M 23.878125 7.2 \r\nL 67.366125 7.2 \r\nL 67.366125 50.688 \r\nL 23.878125 50.688 \r\nL 23.878125 7.2 \r\n\" style=\"fill:#d1483a;\"/>\r\n    <path clip-path=\"url(#p14333dace0)\" d=\"M 67.366125 7.2 \r\nL 110.854125 7.2 \r\nL 110.854125 50.688 \r\nL 67.366125 50.688 \r\nL 67.366125 7.2 \r\n\" style=\"fill:#4a7ebd;\"/>\r\n    <path clip-path=\"url(#p14333dace0)\" d=\"M 110.854125 7.2 \r\nL 154.342125 7.2 \r\nL 154.342125 50.688 \r\nL 110.854125 50.688 \r\nL 110.854125 7.2 \r\n\" style=\"fill:#4d7fbe;\"/>\r\n    <path clip-path=\"url(#p14333dace0)\" d=\"M 154.342125 7.2 \r\nL 197.830125 7.2 \r\nL 197.830125 50.688 \r\nL 154.342125 50.688 \r\nL 154.342125 7.2 \r\n\" style=\"fill:#4479bb;\"/>\r\n    <path clip-path=\"url(#p14333dace0)\" d=\"M 197.830125 7.2 \r\nL 241.318125 7.2 \r\nL 241.318125 50.688 \r\nL 197.830125 50.688 \r\nL 197.830125 7.2 \r\n\" style=\"fill:#4479bb;\"/>\r\n    <path clip-path=\"url(#p14333dace0)\" d=\"M 23.878125 50.688 \r\nL 67.366125 50.688 \r\nL 67.366125 94.176 \r\nL 23.878125 94.176 \r\nL 23.878125 50.688 \r\n\" style=\"fill:#c6d6ea;\"/>\r\n    <path clip-path=\"url(#p14333dace0)\" d=\"M 67.366125 50.688 \r\nL 110.854125 50.688 \r\nL 110.854125 94.176 \r\nL 67.366125 94.176 \r\nL 67.366125 50.688 \r\n\" style=\"fill:#d1deee;\"/>\r\n    <path clip-path=\"url(#p14333dace0)\" d=\"M 110.854125 50.688 \r\nL 154.342125 50.688 \r\nL 154.342125 94.176 \r\nL 110.854125 94.176 \r\nL 110.854125 50.688 \r\n\" style=\"fill:#a8c0df;\"/>\r\n    <path clip-path=\"url(#p14333dace0)\" d=\"M 154.342125 50.688 \r\nL 197.830125 50.688 \r\nL 197.830125 94.176 \r\nL 154.342125 94.176 \r\nL 154.342125 50.688 \r\n\" style=\"fill:#4479bb;\"/>\r\n    <path clip-path=\"url(#p14333dace0)\" d=\"M 197.830125 50.688 \r\nL 241.318125 50.688 \r\nL 241.318125 94.176 \r\nL 197.830125 94.176 \r\nL 197.830125 50.688 \r\n\" style=\"fill:#4479bb;\"/>\r\n    <path clip-path=\"url(#p14333dace0)\" d=\"M 23.878125 94.176 \r\nL 67.366125 94.176 \r\nL 67.366125 137.664 \r\nL 23.878125 137.664 \r\nL 23.878125 94.176 \r\n\" style=\"fill:#5182bf;\"/>\r\n    <path clip-path=\"url(#p14333dace0)\" d=\"M 67.366125 94.176 \r\nL 110.854125 94.176 \r\nL 110.854125 137.664 \r\nL 67.366125 137.664 \r\nL 67.366125 94.176 \r\n\" style=\"fill:#5f8cc5;\"/>\r\n    <path clip-path=\"url(#p14333dace0)\" d=\"M 110.854125 94.176 \r\nL 154.342125 94.176 \r\nL 154.342125 137.664 \r\nL 110.854125 137.664 \r\nL 110.854125 94.176 \r\n\" style=\"fill:#dc756b;\"/>\r\n    <path clip-path=\"url(#p14333dace0)\" d=\"M 154.342125 94.176 \r\nL 197.830125 94.176 \r\nL 197.830125 137.664 \r\nL 154.342125 137.664 \r\nL 154.342125 94.176 \r\n\" style=\"fill:#457abb;\"/>\r\n    <path clip-path=\"url(#p14333dace0)\" d=\"M 197.830125 94.176 \r\nL 241.318125 94.176 \r\nL 241.318125 137.664 \r\nL 197.830125 137.664 \r\nL 197.830125 94.176 \r\n\" style=\"fill:#5887c2;\"/>\r\n    <path clip-path=\"url(#p14333dace0)\" d=\"M 23.878125 137.664 \r\nL 67.366125 137.664 \r\nL 67.366125 181.152 \r\nL 23.878125 181.152 \r\nL 23.878125 137.664 \r\n\" style=\"fill:#618ec5;\"/>\r\n    <path clip-path=\"url(#p14333dace0)\" d=\"M 67.366125 137.664 \r\nL 110.854125 137.664 \r\nL 110.854125 181.152 \r\nL 67.366125 181.152 \r\nL 67.366125 137.664 \r\n\" style=\"fill:#497dbd;\"/>\r\n    <path clip-path=\"url(#p14333dace0)\" d=\"M 110.854125 137.664 \r\nL 154.342125 137.664 \r\nL 154.342125 181.152 \r\nL 110.854125 181.152 \r\nL 110.854125 137.664 \r\n\" style=\"fill:#d1deee;\"/>\r\n    <path clip-path=\"url(#p14333dace0)\" d=\"M 154.342125 137.664 \r\nL 197.830125 137.664 \r\nL 197.830125 181.152 \r\nL 154.342125 181.152 \r\nL 154.342125 137.664 \r\n\" style=\"fill:#e6edf6;\"/>\r\n    <path clip-path=\"url(#p14333dace0)\" d=\"M 197.830125 137.664 \r\nL 241.318125 137.664 \r\nL 241.318125 181.152 \r\nL 197.830125 181.152 \r\nL 197.830125 137.664 \r\n\" style=\"fill:#6490c6;\"/>\r\n    <path clip-path=\"url(#p14333dace0)\" d=\"M 23.878125 181.152 \r\nL 67.366125 181.152 \r\nL 67.366125 224.64 \r\nL 23.878125 224.64 \r\nL 23.878125 181.152 \r\n\" style=\"fill:#5182bf;\"/>\r\n    <path clip-path=\"url(#p14333dace0)\" d=\"M 67.366125 181.152 \r\nL 110.854125 181.152 \r\nL 110.854125 224.64 \r\nL 67.366125 224.64 \r\nL 67.366125 181.152 \r\n\" style=\"fill:#4e80be;\"/>\r\n    <path clip-path=\"url(#p14333dace0)\" d=\"M 110.854125 181.152 \r\nL 154.342125 181.152 \r\nL 154.342125 224.64 \r\nL 110.854125 224.64 \r\nL 110.854125 181.152 \r\n\" style=\"fill:#dde7f3;\"/>\r\n    <path clip-path=\"url(#p14333dace0)\" d=\"M 154.342125 181.152 \r\nL 197.830125 181.152 \r\nL 197.830125 224.64 \r\nL 154.342125 224.64 \r\nL 154.342125 181.152 \r\n\" style=\"fill:#487cbc;\"/>\r\n    <path clip-path=\"url(#p14333dace0)\" d=\"M 197.830125 181.152 \r\nL 241.318125 181.152 \r\nL 241.318125 224.64 \r\nL 197.830125 224.64 \r\nL 197.830125 181.152 \r\n\" style=\"fill:#fae9e8;\"/>\r\n   </g>\r\n   <g id=\"matplotlib.axis_1\">\r\n    <g id=\"xtick_1\">\r\n     <g id=\"line2d_1\">\r\n      <defs>\r\n       <path d=\"M 0 0 \r\nL 0 3.5 \r\n\" id=\"m7641b8cdbe\" style=\"stroke:#000000;stroke-width:0.8;\"/>\r\n      </defs>\r\n      <g>\r\n       <use style=\"stroke:#000000;stroke-width:0.8;\" x=\"45.622125\" xlink:href=\"#m7641b8cdbe\" y=\"224.64\"/>\r\n      </g>\r\n     </g>\r\n     <g id=\"text_1\">\r\n      <!-- CDM -->\r\n      <g transform=\"translate(33.966656 239.238437)scale(0.1 -0.1)\">\r\n       <defs>\r\n        <path d=\"M 64.40625 67.28125 \r\nL 64.40625 56.890625 \r\nQ 59.421875 61.53125 53.78125 63.8125 \r\nQ 48.140625 66.109375 41.796875 66.109375 \r\nQ 29.296875 66.109375 22.65625 58.46875 \r\nQ 16.015625 50.828125 16.015625 36.375 \r\nQ 16.015625 21.96875 22.65625 14.328125 \r\nQ 29.296875 6.6875 41.796875 6.6875 \r\nQ 48.140625 6.6875 53.78125 8.984375 \r\nQ 59.421875 11.28125 64.40625 15.921875 \r\nL 64.40625 5.609375 \r\nQ 59.234375 2.09375 53.4375 0.328125 \r\nQ 47.65625 -1.421875 41.21875 -1.421875 \r\nQ 24.65625 -1.421875 15.125 8.703125 \r\nQ 5.609375 18.84375 5.609375 36.375 \r\nQ 5.609375 53.953125 15.125 64.078125 \r\nQ 24.65625 74.21875 41.21875 74.21875 \r\nQ 47.75 74.21875 53.53125 72.484375 \r\nQ 59.328125 70.75 64.40625 67.28125 \r\nz\r\n\" id=\"DejaVuSans-67\"/>\r\n        <path d=\"M 19.671875 64.796875 \r\nL 19.671875 8.109375 \r\nL 31.59375 8.109375 \r\nQ 46.6875 8.109375 53.6875 14.9375 \r\nQ 60.6875 21.78125 60.6875 36.53125 \r\nQ 60.6875 51.171875 53.6875 57.984375 \r\nQ 46.6875 64.796875 31.59375 64.796875 \r\nz\r\nM 9.8125 72.90625 \r\nL 30.078125 72.90625 \r\nQ 51.265625 72.90625 61.171875 64.09375 \r\nQ 71.09375 55.28125 71.09375 36.53125 \r\nQ 71.09375 17.671875 61.125 8.828125 \r\nQ 51.171875 0 30.078125 0 \r\nL 9.8125 0 \r\nz\r\n\" id=\"DejaVuSans-68\"/>\r\n        <path d=\"M 9.8125 72.90625 \r\nL 24.515625 72.90625 \r\nL 43.109375 23.296875 \r\nL 61.8125 72.90625 \r\nL 76.515625 72.90625 \r\nL 76.515625 0 \r\nL 66.890625 0 \r\nL 66.890625 64.015625 \r\nL 48.09375 14.015625 \r\nL 38.1875 14.015625 \r\nL 19.390625 64.015625 \r\nL 19.390625 0 \r\nL 9.8125 0 \r\nz\r\n\" id=\"DejaVuSans-77\"/>\r\n       </defs>\r\n       <use xlink:href=\"#DejaVuSans-67\"/>\r\n       <use x=\"69.824219\" xlink:href=\"#DejaVuSans-68\"/>\r\n       <use x=\"146.826172\" xlink:href=\"#DejaVuSans-77\"/>\r\n      </g>\r\n     </g>\r\n    </g>\r\n    <g id=\"xtick_2\">\r\n     <g id=\"line2d_2\">\r\n      <g>\r\n       <use style=\"stroke:#000000;stroke-width:0.8;\" x=\"89.110125\" xlink:href=\"#m7641b8cdbe\" y=\"224.64\"/>\r\n      </g>\r\n     </g>\r\n     <g id=\"text_2\">\r\n      <!-- CM -->\r\n      <g transform=\"translate(81.304656 239.238437)scale(0.1 -0.1)\">\r\n       <use xlink:href=\"#DejaVuSans-67\"/>\r\n       <use x=\"69.824219\" xlink:href=\"#DejaVuSans-77\"/>\r\n      </g>\r\n     </g>\r\n    </g>\r\n    <g id=\"xtick_3\">\r\n     <g id=\"line2d_3\">\r\n      <g>\r\n       <use style=\"stroke:#000000;stroke-width:0.8;\" x=\"132.598125\" xlink:href=\"#m7641b8cdbe\" y=\"224.64\"/>\r\n      </g>\r\n     </g>\r\n     <g id=\"text_3\">\r\n      <!-- CAM -->\r\n      <g transform=\"translate(121.372344 239.238437)scale(0.1 -0.1)\">\r\n       <defs>\r\n        <path d=\"M 34.1875 63.1875 \r\nL 20.796875 26.90625 \r\nL 47.609375 26.90625 \r\nz\r\nM 28.609375 72.90625 \r\nL 39.796875 72.90625 \r\nL 67.578125 0 \r\nL 57.328125 0 \r\nL 50.6875 18.703125 \r\nL 17.828125 18.703125 \r\nL 11.1875 0 \r\nL 0.78125 0 \r\nz\r\n\" id=\"DejaVuSans-65\"/>\r\n       </defs>\r\n       <use xlink:href=\"#DejaVuSans-67\"/>\r\n       <use x=\"69.824219\" xlink:href=\"#DejaVuSans-65\"/>\r\n       <use x=\"138.232422\" xlink:href=\"#DejaVuSans-77\"/>\r\n      </g>\r\n     </g>\r\n    </g>\r\n    <g id=\"xtick_4\">\r\n     <g id=\"line2d_4\">\r\n      <g>\r\n       <use style=\"stroke:#000000;stroke-width:0.8;\" x=\"176.086125\" xlink:href=\"#m7641b8cdbe\" y=\"224.64\"/>\r\n      </g>\r\n     </g>\r\n     <g id=\"text_4\">\r\n      <!-- LM -->\r\n      <g transform=\"translate(168.986125 239.238437)scale(0.1 -0.1)\">\r\n       <defs>\r\n        <path d=\"M 9.8125 72.90625 \r\nL 19.671875 72.90625 \r\nL 19.671875 8.296875 \r\nL 55.171875 8.296875 \r\nL 55.171875 0 \r\nL 9.8125 0 \r\nz\r\n\" id=\"DejaVuSans-76\"/>\r\n       </defs>\r\n       <use xlink:href=\"#DejaVuSans-76\"/>\r\n       <use x=\"55.712891\" xlink:href=\"#DejaVuSans-77\"/>\r\n      </g>\r\n     </g>\r\n    </g>\r\n    <g id=\"xtick_5\">\r\n     <g id=\"line2d_5\">\r\n      <g>\r\n       <use style=\"stroke:#000000;stroke-width:0.8;\" x=\"219.574125\" xlink:href=\"#m7641b8cdbe\" y=\"224.64\"/>\r\n      </g>\r\n     </g>\r\n     <g id=\"text_5\">\r\n      <!-- RM -->\r\n      <g transform=\"translate(211.785844 239.238437)scale(0.1 -0.1)\">\r\n       <defs>\r\n        <path d=\"M 44.390625 34.1875 \r\nQ 47.5625 33.109375 50.5625 29.59375 \r\nQ 53.5625 26.078125 56.59375 19.921875 \r\nL 66.609375 0 \r\nL 56 0 \r\nL 46.6875 18.703125 \r\nQ 43.0625 26.03125 39.671875 28.421875 \r\nQ 36.28125 30.8125 30.421875 30.8125 \r\nL 19.671875 30.8125 \r\nL 19.671875 0 \r\nL 9.8125 0 \r\nL 9.8125 72.90625 \r\nL 32.078125 72.90625 \r\nQ 44.578125 72.90625 50.734375 67.671875 \r\nQ 56.890625 62.453125 56.890625 51.90625 \r\nQ 56.890625 45.015625 53.6875 40.46875 \r\nQ 50.484375 35.9375 44.390625 34.1875 \r\nz\r\nM 19.671875 64.796875 \r\nL 19.671875 38.921875 \r\nL 32.078125 38.921875 \r\nQ 39.203125 38.921875 42.84375 42.21875 \r\nQ 46.484375 45.515625 46.484375 51.90625 \r\nQ 46.484375 58.296875 42.84375 61.546875 \r\nQ 39.203125 64.796875 32.078125 64.796875 \r\nz\r\n\" id=\"DejaVuSans-82\"/>\r\n       </defs>\r\n       <use xlink:href=\"#DejaVuSans-82\"/>\r\n       <use x=\"69.482422\" xlink:href=\"#DejaVuSans-77\"/>\r\n      </g>\r\n     </g>\r\n    </g>\r\n   </g>\r\n   <g id=\"matplotlib.axis_2\">\r\n    <g id=\"ytick_1\">\r\n     <g id=\"line2d_6\">\r\n      <defs>\r\n       <path d=\"M 0 0 \r\nL -3.5 0 \r\n\" id=\"m46d5149952\" style=\"stroke:#000000;stroke-width:0.8;\"/>\r\n      </defs>\r\n      <g>\r\n       <use style=\"stroke:#000000;stroke-width:0.8;\" x=\"23.878125\" xlink:href=\"#m46d5149952\" y=\"28.944\"/>\r\n      </g>\r\n     </g>\r\n     <g id=\"text_6\">\r\n      <!-- CDM -->\r\n      <g transform=\"translate(14.798438 48.455719)rotate(-90)scale(0.1 -0.1)\">\r\n       <use xlink:href=\"#DejaVuSans-67\"/>\r\n       <use x=\"69.824219\" xlink:href=\"#DejaVuSans-68\"/>\r\n       <use x=\"146.826172\" xlink:href=\"#DejaVuSans-77\"/>\r\n      </g>\r\n     </g>\r\n    </g>\r\n    <g id=\"ytick_2\">\r\n     <g id=\"line2d_7\">\r\n      <g>\r\n       <use style=\"stroke:#000000;stroke-width:0.8;\" x=\"23.878125\" xlink:href=\"#m46d5149952\" y=\"72.432\"/>\r\n      </g>\r\n     </g>\r\n     <g id=\"text_7\">\r\n      <!-- CM -->\r\n      <g transform=\"translate(14.798438 84.243719)rotate(-90)scale(0.1 -0.1)\">\r\n       <use xlink:href=\"#DejaVuSans-67\"/>\r\n       <use x=\"69.824219\" xlink:href=\"#DejaVuSans-77\"/>\r\n      </g>\r\n     </g>\r\n    </g>\r\n    <g id=\"ytick_3\">\r\n     <g id=\"line2d_8\">\r\n      <g>\r\n       <use style=\"stroke:#000000;stroke-width:0.8;\" x=\"23.878125\" xlink:href=\"#m46d5149952\" y=\"115.92\"/>\r\n      </g>\r\n     </g>\r\n     <g id=\"text_8\">\r\n      <!-- CAM -->\r\n      <g transform=\"translate(14.798438 134.572344)rotate(-90)scale(0.1 -0.1)\">\r\n       <use xlink:href=\"#DejaVuSans-67\"/>\r\n       <use x=\"69.824219\" xlink:href=\"#DejaVuSans-65\"/>\r\n       <use x=\"138.232422\" xlink:href=\"#DejaVuSans-77\"/>\r\n      </g>\r\n     </g>\r\n    </g>\r\n    <g id=\"ytick_4\">\r\n     <g id=\"line2d_9\">\r\n      <g>\r\n       <use style=\"stroke:#000000;stroke-width:0.8;\" x=\"23.878125\" xlink:href=\"#m46d5149952\" y=\"159.408\"/>\r\n      </g>\r\n     </g>\r\n     <g id=\"text_9\">\r\n      <!-- LM -->\r\n      <g transform=\"translate(14.798438 169.808781)rotate(-90)scale(0.1 -0.1)\">\r\n       <use xlink:href=\"#DejaVuSans-76\"/>\r\n       <use x=\"55.712891\" xlink:href=\"#DejaVuSans-77\"/>\r\n      </g>\r\n     </g>\r\n    </g>\r\n    <g id=\"ytick_5\">\r\n     <g id=\"line2d_10\">\r\n      <g>\r\n       <use style=\"stroke:#000000;stroke-width:0.8;\" x=\"23.878125\" xlink:href=\"#m46d5149952\" y=\"202.896\"/>\r\n      </g>\r\n     </g>\r\n     <g id=\"text_10\">\r\n      <!-- RM -->\r\n      <g transform=\"translate(14.798438 214.673344)rotate(-90)scale(0.1 -0.1)\">\r\n       <use xlink:href=\"#DejaVuSans-82\"/>\r\n       <use x=\"69.482422\" xlink:href=\"#DejaVuSans-77\"/>\r\n      </g>\r\n     </g>\r\n    </g>\r\n   </g>\r\n   <g id=\"text_11\">\r\n    <!-- 95.07 -->\r\n    <g style=\"fill:#ffffff;\" transform=\"translate(24.151031 33.083062)scale(0.15 -0.15)\">\r\n     <defs>\r\n      <path d=\"M 10.984375 1.515625 \r\nL 10.984375 10.5 \r\nQ 14.703125 8.734375 18.5 7.8125 \r\nQ 22.3125 6.890625 25.984375 6.890625 \r\nQ 35.75 6.890625 40.890625 13.453125 \r\nQ 46.046875 20.015625 46.78125 33.40625 \r\nQ 43.953125 29.203125 39.59375 26.953125 \r\nQ 35.25 24.703125 29.984375 24.703125 \r\nQ 19.046875 24.703125 12.671875 31.3125 \r\nQ 6.296875 37.9375 6.296875 49.421875 \r\nQ 6.296875 60.640625 12.9375 67.421875 \r\nQ 19.578125 74.21875 30.609375 74.21875 \r\nQ 43.265625 74.21875 49.921875 64.515625 \r\nQ 56.59375 54.828125 56.59375 36.375 \r\nQ 56.59375 19.140625 48.40625 8.859375 \r\nQ 40.234375 -1.421875 26.421875 -1.421875 \r\nQ 22.703125 -1.421875 18.890625 -0.6875 \r\nQ 15.09375 0.046875 10.984375 1.515625 \r\nz\r\nM 30.609375 32.421875 \r\nQ 37.25 32.421875 41.125 36.953125 \r\nQ 45.015625 41.5 45.015625 49.421875 \r\nQ 45.015625 57.28125 41.125 61.84375 \r\nQ 37.25 66.40625 30.609375 66.40625 \r\nQ 23.96875 66.40625 20.09375 61.84375 \r\nQ 16.21875 57.28125 16.21875 49.421875 \r\nQ 16.21875 41.5 20.09375 36.953125 \r\nQ 23.96875 32.421875 30.609375 32.421875 \r\nz\r\n\" id=\"DejaVuSans-57\"/>\r\n      <path d=\"M 10.796875 72.90625 \r\nL 49.515625 72.90625 \r\nL 49.515625 64.59375 \r\nL 19.828125 64.59375 \r\nL 19.828125 46.734375 \r\nQ 21.96875 47.46875 24.109375 47.828125 \r\nQ 26.265625 48.1875 28.421875 48.1875 \r\nQ 40.625 48.1875 47.75 41.5 \r\nQ 54.890625 34.8125 54.890625 23.390625 \r\nQ 54.890625 11.625 47.5625 5.09375 \r\nQ 40.234375 -1.421875 26.90625 -1.421875 \r\nQ 22.3125 -1.421875 17.546875 -0.640625 \r\nQ 12.796875 0.140625 7.71875 1.703125 \r\nL 7.71875 11.625 \r\nQ 12.109375 9.234375 16.796875 8.0625 \r\nQ 21.484375 6.890625 26.703125 6.890625 \r\nQ 35.15625 6.890625 40.078125 11.328125 \r\nQ 45.015625 15.765625 45.015625 23.390625 \r\nQ 45.015625 31 40.078125 35.4375 \r\nQ 35.15625 39.890625 26.703125 39.890625 \r\nQ 22.75 39.890625 18.8125 39.015625 \r\nQ 14.890625 38.140625 10.796875 36.28125 \r\nz\r\n\" id=\"DejaVuSans-53\"/>\r\n      <path d=\"M 10.6875 12.40625 \r\nL 21 12.40625 \r\nL 21 0 \r\nL 10.6875 0 \r\nz\r\n\" id=\"DejaVuSans-46\"/>\r\n      <path d=\"M 31.78125 66.40625 \r\nQ 24.171875 66.40625 20.328125 58.90625 \r\nQ 16.5 51.421875 16.5 36.375 \r\nQ 16.5 21.390625 20.328125 13.890625 \r\nQ 24.171875 6.390625 31.78125 6.390625 \r\nQ 39.453125 6.390625 43.28125 13.890625 \r\nQ 47.125 21.390625 47.125 36.375 \r\nQ 47.125 51.421875 43.28125 58.90625 \r\nQ 39.453125 66.40625 31.78125 66.40625 \r\nz\r\nM 31.78125 74.21875 \r\nQ 44.046875 74.21875 50.515625 64.515625 \r\nQ 56.984375 54.828125 56.984375 36.375 \r\nQ 56.984375 17.96875 50.515625 8.265625 \r\nQ 44.046875 -1.421875 31.78125 -1.421875 \r\nQ 19.53125 -1.421875 13.0625 8.265625 \r\nQ 6.59375 17.96875 6.59375 36.375 \r\nQ 6.59375 54.828125 13.0625 64.515625 \r\nQ 19.53125 74.21875 31.78125 74.21875 \r\nz\r\n\" id=\"DejaVuSans-48\"/>\r\n      <path d=\"M 8.203125 72.90625 \r\nL 55.078125 72.90625 \r\nL 55.078125 68.703125 \r\nL 28.609375 0 \r\nL 18.3125 0 \r\nL 43.21875 64.59375 \r\nL 8.203125 64.59375 \r\nz\r\n\" id=\"DejaVuSans-55\"/>\r\n     </defs>\r\n     <use xlink:href=\"#DejaVuSans-57\"/>\r\n     <use x=\"63.623047\" xlink:href=\"#DejaVuSans-53\"/>\r\n     <use x=\"127.246094\" xlink:href=\"#DejaVuSans-46\"/>\r\n     <use x=\"159.033203\" xlink:href=\"#DejaVuSans-48\"/>\r\n     <use x=\"222.65625\" xlink:href=\"#DejaVuSans-55\"/>\r\n    </g>\r\n   </g>\r\n   <g id=\"text_12\">\r\n    <!-- 1.97 -->\r\n    <g style=\"fill:#ffffff;\" transform=\"translate(72.410906 33.083062)scale(0.15 -0.15)\">\r\n     <defs>\r\n      <path d=\"M 12.40625 8.296875 \r\nL 28.515625 8.296875 \r\nL 28.515625 63.921875 \r\nL 10.984375 60.40625 \r\nL 10.984375 69.390625 \r\nL 28.421875 72.90625 \r\nL 38.28125 72.90625 \r\nL 38.28125 8.296875 \r\nL 54.390625 8.296875 \r\nL 54.390625 0 \r\nL 12.40625 0 \r\nz\r\n\" id=\"DejaVuSans-49\"/>\r\n     </defs>\r\n     <use xlink:href=\"#DejaVuSans-49\"/>\r\n     <use x=\"63.623047\" xlink:href=\"#DejaVuSans-46\"/>\r\n     <use x=\"95.410156\" xlink:href=\"#DejaVuSans-57\"/>\r\n     <use x=\"159.033203\" xlink:href=\"#DejaVuSans-55\"/>\r\n    </g>\r\n   </g>\r\n   <g id=\"text_13\">\r\n    <!-- 2.96 -->\r\n    <g style=\"fill:#ffffff;\" transform=\"translate(115.898906 33.083062)scale(0.15 -0.15)\">\r\n     <defs>\r\n      <path d=\"M 19.1875 8.296875 \r\nL 53.609375 8.296875 \r\nL 53.609375 0 \r\nL 7.328125 0 \r\nL 7.328125 8.296875 \r\nQ 12.9375 14.109375 22.625 23.890625 \r\nQ 32.328125 33.6875 34.8125 36.53125 \r\nQ 39.546875 41.84375 41.421875 45.53125 \r\nQ 43.3125 49.21875 43.3125 52.78125 \r\nQ 43.3125 58.59375 39.234375 62.25 \r\nQ 35.15625 65.921875 28.609375 65.921875 \r\nQ 23.96875 65.921875 18.8125 64.3125 \r\nQ 13.671875 62.703125 7.8125 59.421875 \r\nL 7.8125 69.390625 \r\nQ 13.765625 71.78125 18.9375 73 \r\nQ 24.125 74.21875 28.421875 74.21875 \r\nQ 39.75 74.21875 46.484375 68.546875 \r\nQ 53.21875 62.890625 53.21875 53.421875 \r\nQ 53.21875 48.921875 51.53125 44.890625 \r\nQ 49.859375 40.875 45.40625 35.40625 \r\nQ 44.1875 33.984375 37.640625 27.21875 \r\nQ 31.109375 20.453125 19.1875 8.296875 \r\nz\r\n\" id=\"DejaVuSans-50\"/>\r\n      <path d=\"M 33.015625 40.375 \r\nQ 26.375 40.375 22.484375 35.828125 \r\nQ 18.609375 31.296875 18.609375 23.390625 \r\nQ 18.609375 15.53125 22.484375 10.953125 \r\nQ 26.375 6.390625 33.015625 6.390625 \r\nQ 39.65625 6.390625 43.53125 10.953125 \r\nQ 47.40625 15.53125 47.40625 23.390625 \r\nQ 47.40625 31.296875 43.53125 35.828125 \r\nQ 39.65625 40.375 33.015625 40.375 \r\nz\r\nM 52.59375 71.296875 \r\nL 52.59375 62.3125 \r\nQ 48.875 64.0625 45.09375 64.984375 \r\nQ 41.3125 65.921875 37.59375 65.921875 \r\nQ 27.828125 65.921875 22.671875 59.328125 \r\nQ 17.53125 52.734375 16.796875 39.40625 \r\nQ 19.671875 43.65625 24.015625 45.921875 \r\nQ 28.375 48.1875 33.59375 48.1875 \r\nQ 44.578125 48.1875 50.953125 41.515625 \r\nQ 57.328125 34.859375 57.328125 23.390625 \r\nQ 57.328125 12.15625 50.6875 5.359375 \r\nQ 44.046875 -1.421875 33.015625 -1.421875 \r\nQ 20.359375 -1.421875 13.671875 8.265625 \r\nQ 6.984375 17.96875 6.984375 36.375 \r\nQ 6.984375 53.65625 15.1875 63.9375 \r\nQ 23.390625 74.21875 37.203125 74.21875 \r\nQ 40.921875 74.21875 44.703125 73.484375 \r\nQ 48.484375 72.75 52.59375 71.296875 \r\nz\r\n\" id=\"DejaVuSans-54\"/>\r\n     </defs>\r\n     <use xlink:href=\"#DejaVuSans-50\"/>\r\n     <use x=\"63.623047\" xlink:href=\"#DejaVuSans-46\"/>\r\n     <use x=\"95.410156\" xlink:href=\"#DejaVuSans-57\"/>\r\n     <use x=\"159.033203\" xlink:href=\"#DejaVuSans-54\"/>\r\n    </g>\r\n   </g>\r\n   <g id=\"text_14\">\r\n    <!-- 0.00 -->\r\n    <g style=\"fill:#ffffff;\" transform=\"translate(159.386906 33.083062)scale(0.15 -0.15)\">\r\n     <use xlink:href=\"#DejaVuSans-48\"/>\r\n     <use x=\"63.623047\" xlink:href=\"#DejaVuSans-46\"/>\r\n     <use x=\"95.410156\" xlink:href=\"#DejaVuSans-48\"/>\r\n     <use x=\"159.033203\" xlink:href=\"#DejaVuSans-48\"/>\r\n    </g>\r\n   </g>\r\n   <g id=\"text_15\">\r\n    <!-- 0.00 -->\r\n    <g style=\"fill:#ffffff;\" transform=\"translate(202.874906 33.083062)scale(0.15 -0.15)\">\r\n     <use xlink:href=\"#DejaVuSans-48\"/>\r\n     <use x=\"63.623047\" xlink:href=\"#DejaVuSans-46\"/>\r\n     <use x=\"95.410156\" xlink:href=\"#DejaVuSans-48\"/>\r\n     <use x=\"159.033203\" xlink:href=\"#DejaVuSans-48\"/>\r\n    </g>\r\n   </g>\r\n   <g id=\"text_16\">\r\n    <!-- 35.00 -->\r\n    <g style=\"fill:#262626;\" transform=\"translate(24.151031 76.571062)scale(0.15 -0.15)\">\r\n     <defs>\r\n      <path d=\"M 40.578125 39.3125 \r\nQ 47.65625 37.796875 51.625 33 \r\nQ 55.609375 28.21875 55.609375 21.1875 \r\nQ 55.609375 10.40625 48.1875 4.484375 \r\nQ 40.765625 -1.421875 27.09375 -1.421875 \r\nQ 22.515625 -1.421875 17.65625 -0.515625 \r\nQ 12.796875 0.390625 7.625 2.203125 \r\nL 7.625 11.71875 \r\nQ 11.71875 9.328125 16.59375 8.109375 \r\nQ 21.484375 6.890625 26.8125 6.890625 \r\nQ 36.078125 6.890625 40.9375 10.546875 \r\nQ 45.796875 14.203125 45.796875 21.1875 \r\nQ 45.796875 27.640625 41.28125 31.265625 \r\nQ 36.765625 34.90625 28.71875 34.90625 \r\nL 20.21875 34.90625 \r\nL 20.21875 43.015625 \r\nL 29.109375 43.015625 \r\nQ 36.375 43.015625 40.234375 45.921875 \r\nQ 44.09375 48.828125 44.09375 54.296875 \r\nQ 44.09375 59.90625 40.109375 62.90625 \r\nQ 36.140625 65.921875 28.71875 65.921875 \r\nQ 24.65625 65.921875 20.015625 65.03125 \r\nQ 15.375 64.15625 9.8125 62.3125 \r\nL 9.8125 71.09375 \r\nQ 15.4375 72.65625 20.34375 73.4375 \r\nQ 25.25 74.21875 29.59375 74.21875 \r\nQ 40.828125 74.21875 47.359375 69.109375 \r\nQ 53.90625 64.015625 53.90625 55.328125 \r\nQ 53.90625 49.265625 50.4375 45.09375 \r\nQ 46.96875 40.921875 40.578125 39.3125 \r\nz\r\n\" id=\"DejaVuSans-51\"/>\r\n     </defs>\r\n     <use xlink:href=\"#DejaVuSans-51\"/>\r\n     <use x=\"63.623047\" xlink:href=\"#DejaVuSans-53\"/>\r\n     <use x=\"127.246094\" xlink:href=\"#DejaVuSans-46\"/>\r\n     <use x=\"159.033203\" xlink:href=\"#DejaVuSans-48\"/>\r\n     <use x=\"222.65625\" xlink:href=\"#DejaVuSans-48\"/>\r\n    </g>\r\n   </g>\r\n   <g id=\"text_17\">\r\n    <!-- 38.18 -->\r\n    <g style=\"fill:#262626;\" transform=\"translate(67.639031 76.571062)scale(0.15 -0.15)\">\r\n     <defs>\r\n      <path d=\"M 31.78125 34.625 \r\nQ 24.75 34.625 20.71875 30.859375 \r\nQ 16.703125 27.09375 16.703125 20.515625 \r\nQ 16.703125 13.921875 20.71875 10.15625 \r\nQ 24.75 6.390625 31.78125 6.390625 \r\nQ 38.8125 6.390625 42.859375 10.171875 \r\nQ 46.921875 13.96875 46.921875 20.515625 \r\nQ 46.921875 27.09375 42.890625 30.859375 \r\nQ 38.875 34.625 31.78125 34.625 \r\nz\r\nM 21.921875 38.8125 \r\nQ 15.578125 40.375 12.03125 44.71875 \r\nQ 8.5 49.078125 8.5 55.328125 \r\nQ 8.5 64.0625 14.71875 69.140625 \r\nQ 20.953125 74.21875 31.78125 74.21875 \r\nQ 42.671875 74.21875 48.875 69.140625 \r\nQ 55.078125 64.0625 55.078125 55.328125 \r\nQ 55.078125 49.078125 51.53125 44.71875 \r\nQ 48 40.375 41.703125 38.8125 \r\nQ 48.828125 37.15625 52.796875 32.3125 \r\nQ 56.78125 27.484375 56.78125 20.515625 \r\nQ 56.78125 9.90625 50.3125 4.234375 \r\nQ 43.84375 -1.421875 31.78125 -1.421875 \r\nQ 19.734375 -1.421875 13.25 4.234375 \r\nQ 6.78125 9.90625 6.78125 20.515625 \r\nQ 6.78125 27.484375 10.78125 32.3125 \r\nQ 14.796875 37.15625 21.921875 38.8125 \r\nz\r\nM 18.3125 54.390625 \r\nQ 18.3125 48.734375 21.84375 45.5625 \r\nQ 25.390625 42.390625 31.78125 42.390625 \r\nQ 38.140625 42.390625 41.71875 45.5625 \r\nQ 45.3125 48.734375 45.3125 54.390625 \r\nQ 45.3125 60.0625 41.71875 63.234375 \r\nQ 38.140625 66.40625 31.78125 66.40625 \r\nQ 25.390625 66.40625 21.84375 63.234375 \r\nQ 18.3125 60.0625 18.3125 54.390625 \r\nz\r\n\" id=\"DejaVuSans-56\"/>\r\n     </defs>\r\n     <use xlink:href=\"#DejaVuSans-51\"/>\r\n     <use x=\"63.623047\" xlink:href=\"#DejaVuSans-56\"/>\r\n     <use x=\"127.246094\" xlink:href=\"#DejaVuSans-46\"/>\r\n     <use x=\"159.033203\" xlink:href=\"#DejaVuSans-49\"/>\r\n     <use x=\"222.65625\" xlink:href=\"#DejaVuSans-56\"/>\r\n    </g>\r\n   </g>\r\n   <g id=\"text_18\">\r\n    <!-- 26.82 -->\r\n    <g style=\"fill:#262626;\" transform=\"translate(111.127031 76.571062)scale(0.15 -0.15)\">\r\n     <use xlink:href=\"#DejaVuSans-50\"/>\r\n     <use x=\"63.623047\" xlink:href=\"#DejaVuSans-54\"/>\r\n     <use x=\"127.246094\" xlink:href=\"#DejaVuSans-46\"/>\r\n     <use x=\"159.033203\" xlink:href=\"#DejaVuSans-56\"/>\r\n     <use x=\"222.65625\" xlink:href=\"#DejaVuSans-50\"/>\r\n    </g>\r\n   </g>\r\n   <g id=\"text_19\">\r\n    <!-- 0.00 -->\r\n    <g style=\"fill:#ffffff;\" transform=\"translate(159.386906 76.571062)scale(0.15 -0.15)\">\r\n     <use xlink:href=\"#DejaVuSans-48\"/>\r\n     <use x=\"63.623047\" xlink:href=\"#DejaVuSans-46\"/>\r\n     <use x=\"95.410156\" xlink:href=\"#DejaVuSans-48\"/>\r\n     <use x=\"159.033203\" xlink:href=\"#DejaVuSans-48\"/>\r\n    </g>\r\n   </g>\r\n   <g id=\"text_20\">\r\n    <!-- 0.00 -->\r\n    <g style=\"fill:#ffffff;\" transform=\"translate(202.874906 76.571062)scale(0.15 -0.15)\">\r\n     <use xlink:href=\"#DejaVuSans-48\"/>\r\n     <use x=\"63.623047\" xlink:href=\"#DejaVuSans-46\"/>\r\n     <use x=\"95.410156\" xlink:href=\"#DejaVuSans-48\"/>\r\n     <use x=\"159.033203\" xlink:href=\"#DejaVuSans-48\"/>\r\n    </g>\r\n   </g>\r\n   <g id=\"text_21\">\r\n    <!-- 3.97 -->\r\n    <g style=\"fill:#ffffff;\" transform=\"translate(28.922906 120.059062)scale(0.15 -0.15)\">\r\n     <use xlink:href=\"#DejaVuSans-51\"/>\r\n     <use x=\"63.623047\" xlink:href=\"#DejaVuSans-46\"/>\r\n     <use x=\"95.410156\" xlink:href=\"#DejaVuSans-57\"/>\r\n     <use x=\"159.033203\" xlink:href=\"#DejaVuSans-55\"/>\r\n    </g>\r\n   </g>\r\n   <g id=\"text_22\">\r\n    <!-- 7.65 -->\r\n    <g style=\"fill:#ffffff;\" transform=\"translate(72.410906 120.059062)scale(0.15 -0.15)\">\r\n     <use xlink:href=\"#DejaVuSans-55\"/>\r\n     <use x=\"63.623047\" xlink:href=\"#DejaVuSans-46\"/>\r\n     <use x=\"95.410156\" xlink:href=\"#DejaVuSans-54\"/>\r\n     <use x=\"159.033203\" xlink:href=\"#DejaVuSans-53\"/>\r\n    </g>\r\n   </g>\r\n   <g id=\"text_23\">\r\n    <!-- 82.15 -->\r\n    <g style=\"fill:#ffffff;\" transform=\"translate(111.127031 120.059062)scale(0.15 -0.15)\">\r\n     <use xlink:href=\"#DejaVuSans-56\"/>\r\n     <use x=\"63.623047\" xlink:href=\"#DejaVuSans-50\"/>\r\n     <use x=\"127.246094\" xlink:href=\"#DejaVuSans-46\"/>\r\n     <use x=\"159.033203\" xlink:href=\"#DejaVuSans-49\"/>\r\n     <use x=\"222.65625\" xlink:href=\"#DejaVuSans-53\"/>\r\n    </g>\r\n   </g>\r\n   <g id=\"text_24\">\r\n    <!-- 0.57 -->\r\n    <g style=\"fill:#ffffff;\" transform=\"translate(159.386906 120.059062)scale(0.15 -0.15)\">\r\n     <use xlink:href=\"#DejaVuSans-48\"/>\r\n     <use x=\"63.623047\" xlink:href=\"#DejaVuSans-46\"/>\r\n     <use x=\"95.410156\" xlink:href=\"#DejaVuSans-53\"/>\r\n     <use x=\"159.033203\" xlink:href=\"#DejaVuSans-55\"/>\r\n    </g>\r\n   </g>\r\n   <g id=\"text_25\">\r\n    <!-- 5.67 -->\r\n    <g style=\"fill:#ffffff;\" transform=\"translate(202.874906 120.059062)scale(0.15 -0.15)\">\r\n     <use xlink:href=\"#DejaVuSans-53\"/>\r\n     <use x=\"63.623047\" xlink:href=\"#DejaVuSans-46\"/>\r\n     <use x=\"95.410156\" xlink:href=\"#DejaVuSans-54\"/>\r\n     <use x=\"159.033203\" xlink:href=\"#DejaVuSans-55\"/>\r\n    </g>\r\n   </g>\r\n   <g id=\"text_26\">\r\n    <!-- 7.94 -->\r\n    <g style=\"fill:#ffffff;\" transform=\"translate(28.922906 163.547062)scale(0.15 -0.15)\">\r\n     <defs>\r\n      <path d=\"M 37.796875 64.3125 \r\nL 12.890625 25.390625 \r\nL 37.796875 25.390625 \r\nz\r\nM 35.203125 72.90625 \r\nL 47.609375 72.90625 \r\nL 47.609375 25.390625 \r\nL 58.015625 25.390625 \r\nL 58.015625 17.1875 \r\nL 47.609375 17.1875 \r\nL 47.609375 0 \r\nL 37.796875 0 \r\nL 37.796875 17.1875 \r\nL 4.890625 17.1875 \r\nL 4.890625 26.703125 \r\nz\r\n\" id=\"DejaVuSans-52\"/>\r\n     </defs>\r\n     <use xlink:href=\"#DejaVuSans-55\"/>\r\n     <use x=\"63.623047\" xlink:href=\"#DejaVuSans-46\"/>\r\n     <use x=\"95.410156\" xlink:href=\"#DejaVuSans-57\"/>\r\n     <use x=\"159.033203\" xlink:href=\"#DejaVuSans-52\"/>\r\n    </g>\r\n   </g>\r\n   <g id=\"text_27\">\r\n    <!-- 1.59 -->\r\n    <g style=\"fill:#ffffff;\" transform=\"translate(72.410906 163.547062)scale(0.15 -0.15)\">\r\n     <use xlink:href=\"#DejaVuSans-49\"/>\r\n     <use x=\"63.623047\" xlink:href=\"#DejaVuSans-46\"/>\r\n     <use x=\"95.410156\" xlink:href=\"#DejaVuSans-53\"/>\r\n     <use x=\"159.033203\" xlink:href=\"#DejaVuSans-57\"/>\r\n    </g>\r\n   </g>\r\n   <g id=\"text_28\">\r\n    <!-- 38.10 -->\r\n    <g style=\"fill:#262626;\" transform=\"translate(111.127031 163.547062)scale(0.15 -0.15)\">\r\n     <use xlink:href=\"#DejaVuSans-51\"/>\r\n     <use x=\"63.623047\" xlink:href=\"#DejaVuSans-56\"/>\r\n     <use x=\"127.246094\" xlink:href=\"#DejaVuSans-46\"/>\r\n     <use x=\"159.033203\" xlink:href=\"#DejaVuSans-49\"/>\r\n     <use x=\"222.65625\" xlink:href=\"#DejaVuSans-48\"/>\r\n    </g>\r\n   </g>\r\n   <g id=\"text_29\">\r\n    <!-- 43.65 -->\r\n    <g style=\"fill:#262626;\" transform=\"translate(154.615031 163.547062)scale(0.15 -0.15)\">\r\n     <use xlink:href=\"#DejaVuSans-52\"/>\r\n     <use x=\"63.623047\" xlink:href=\"#DejaVuSans-51\"/>\r\n     <use x=\"127.246094\" xlink:href=\"#DejaVuSans-46\"/>\r\n     <use x=\"159.033203\" xlink:href=\"#DejaVuSans-54\"/>\r\n     <use x=\"222.65625\" xlink:href=\"#DejaVuSans-53\"/>\r\n    </g>\r\n   </g>\r\n   <g id=\"text_30\">\r\n    <!-- 8.73 -->\r\n    <g style=\"fill:#ffffff;\" transform=\"translate(202.874906 163.547062)scale(0.15 -0.15)\">\r\n     <use xlink:href=\"#DejaVuSans-56\"/>\r\n     <use x=\"63.623047\" xlink:href=\"#DejaVuSans-46\"/>\r\n     <use x=\"95.410156\" xlink:href=\"#DejaVuSans-55\"/>\r\n     <use x=\"159.033203\" xlink:href=\"#DejaVuSans-51\"/>\r\n    </g>\r\n   </g>\r\n   <g id=\"text_31\">\r\n    <!-- 3.85 -->\r\n    <g style=\"fill:#ffffff;\" transform=\"translate(28.922906 207.035062)scale(0.15 -0.15)\">\r\n     <use xlink:href=\"#DejaVuSans-51\"/>\r\n     <use x=\"63.623047\" xlink:href=\"#DejaVuSans-46\"/>\r\n     <use x=\"95.410156\" xlink:href=\"#DejaVuSans-56\"/>\r\n     <use x=\"159.033203\" xlink:href=\"#DejaVuSans-53\"/>\r\n    </g>\r\n   </g>\r\n   <g id=\"text_32\">\r\n    <!-- 2.99 -->\r\n    <g style=\"fill:#ffffff;\" transform=\"translate(72.410906 207.035062)scale(0.15 -0.15)\">\r\n     <use xlink:href=\"#DejaVuSans-50\"/>\r\n     <use x=\"63.623047\" xlink:href=\"#DejaVuSans-46\"/>\r\n     <use x=\"95.410156\" xlink:href=\"#DejaVuSans-57\"/>\r\n     <use x=\"159.033203\" xlink:href=\"#DejaVuSans-57\"/>\r\n    </g>\r\n   </g>\r\n   <g id=\"text_33\">\r\n    <!-- 41.45 -->\r\n    <g style=\"fill:#262626;\" transform=\"translate(111.127031 207.035062)scale(0.15 -0.15)\">\r\n     <use xlink:href=\"#DejaVuSans-52\"/>\r\n     <use x=\"63.623047\" xlink:href=\"#DejaVuSans-49\"/>\r\n     <use x=\"127.246094\" xlink:href=\"#DejaVuSans-46\"/>\r\n     <use x=\"159.033203\" xlink:href=\"#DejaVuSans-52\"/>\r\n     <use x=\"222.65625\" xlink:href=\"#DejaVuSans-53\"/>\r\n    </g>\r\n   </g>\r\n   <g id=\"text_34\">\r\n    <!-- 1.28 -->\r\n    <g style=\"fill:#ffffff;\" transform=\"translate(159.386906 207.035062)scale(0.15 -0.15)\">\r\n     <use xlink:href=\"#DejaVuSans-49\"/>\r\n     <use x=\"63.623047\" xlink:href=\"#DejaVuSans-46\"/>\r\n     <use x=\"95.410156\" xlink:href=\"#DejaVuSans-50\"/>\r\n     <use x=\"159.033203\" xlink:href=\"#DejaVuSans-56\"/>\r\n    </g>\r\n   </g>\r\n   <g id=\"text_35\">\r\n    <!-- 50.43 -->\r\n    <g style=\"fill:#262626;\" transform=\"translate(198.103031 207.035062)scale(0.15 -0.15)\">\r\n     <use xlink:href=\"#DejaVuSans-53\"/>\r\n     <use x=\"63.623047\" xlink:href=\"#DejaVuSans-48\"/>\r\n     <use x=\"127.246094\" xlink:href=\"#DejaVuSans-46\"/>\r\n     <use x=\"159.033203\" xlink:href=\"#DejaVuSans-52\"/>\r\n     <use x=\"222.65625\" xlink:href=\"#DejaVuSans-51\"/>\r\n    </g>\r\n   </g>\r\n  </g>\r\n </g>\r\n <defs>\r\n  <clipPath id=\"p14333dace0\">\r\n   <rect height=\"217.44\" width=\"217.44\" x=\"23.878125\" y=\"7.2\"/>\r\n  </clipPath>\r\n </defs>\r\n</svg>\r\n",
      "image/png": "[encoded data removed]"
     },
     "metadata": {
      "needs_background": "light"
     }
    }
   ],
   "source": [
    "#running the test with the new sample and the modified RF model \n",
    "newModelList = [RandomForestClassifier(n_estimators = 200,max_features = 'sqrt', max_leaf_nodes = 10)]\n",
    "for model in newModelList:\n",
    "    model.fit(x_fit_train, y_fit_train)\n",
    "    y_train_fit_pred = Apply_model(model, x_fit_test, y_fit_test)\n",
    "    plt.figure()\n",
    "    Confuse(y_fit_test, y_train_fit_pred, ['CDM','CM','CAM','LM', 'RM' ])"
   ]
  },
  {
   "cell_type": "code",
   "execution_count": null,
   "metadata": {
    "tags": []
   },
   "outputs": [],
   "source": [
    "for model in modelList:\n",
    "    y_test_fit_pred = Apply_model(model, x_fit_test, y_fit_test)\n",
    "    print(x_fit_test.shape)\n",
    "    plt.figure()\n",
    "    Confuse(y_fit_test, y_test_fit_pred, classes)"
   ]
  },
  {
   "cell_type": "code",
   "execution_count": null,
   "metadata": {
    "tags": []
   },
   "outputs": [],
   "source": [
    "from sklearn.feature_selection import SelectFromModel\n",
    "feature = SelectFromModel(rf_reg_model)\n",
    "RF_fitted_Model_new = feature.fit_transform(x_train, y_train)\n",
    "print(RF_fitted_Model_new)"
   ]
  },
  {
   "cell_type": "code",
   "execution_count": null,
   "metadata": {},
   "outputs": [],
   "source": []
  }
 ],
 "metadata": {
  "kernelspec": {
   "display_name": "Python 3",
   "language": "python",
   "name": "python3"
  },
  "language_info": {
   "codemirror_mode": {
    "name": "ipython",
    "version": 3
   },
   "file_extension": ".py",
   "mimetype": "text/x-python",
   "name": "python",
   "nbconvert_exporter": "python",
   "pygments_lexer": "ipython3",
   "version": "3.7.6-final"
  }
 },
 "nbformat": 4,
 "nbformat_minor": 4
}