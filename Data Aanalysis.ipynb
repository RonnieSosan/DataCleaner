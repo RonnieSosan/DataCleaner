{
 "cells": [
  {
   "cell_type": "code",
   "execution_count": 3,
   "metadata": {},
   "outputs": [],
   "source": [
    "import pandas as pd\n",
    "from sklearn.preprocessing import MinMaxScaler\n",
    "from sklearn.model_selection import cross_validate\n",
    "\n",
    "defenders = pd.read_csv(r'C:\\Users\\sosan\\Documents\\Dissertation\\DataSets\\Fifa 20\\TransformedData\\Defenders.csv')"
   ]
  },
  {
   "cell_type": "code",
   "execution_count": 73,
   "metadata": {},
   "outputs": [
    {
     "output_type": "execute_result",
     "data": {
      "text/plain": "0"
     },
     "metadata": {},
     "execution_count": 73
    }
   ],
   "source": [
    "defenders.loc[2768, 'BP']"
   ]
  },
  {
   "cell_type": "code",
   "execution_count": 5,
   "metadata": {},
   "outputs": [
    {
     "output_type": "execute_result",
     "data": {
      "text/plain": "0    0\n1    0\n2    0\n3    0\n4    0\n5    0\n6    0\n7    1\n8    0\n9    0\nName: BP, dtype: object"
     },
     "metadata": {},
     "execution_count": 5
    }
   ],
   "source": [
    "defenders.loc[defenders['BP'] != 'CB', 'BP'] = 1\n",
    "defenders.loc[defenders['BP'] == 'CB', 'BP'] = 0\n",
    "defenders['BP'].head(10)"
   ]
  },
  {
   "cell_type": "code",
   "execution_count": 6,
   "metadata": {
    "tags": []
   },
   "outputs": [
    {
     "output_type": "stream",
     "name": "stdout",
     "text": "Index(['Age', 'Overall', 'Potential', 'ID', 'Height', 'Weight', 'BOV',\n       'Growth', 'Value', 'Wage', 'Release Clause', 'Attacking', 'Crossing',\n       'Finishing', 'Heading Accuracy', 'Short Passing', 'Volleys', 'Skill',\n       'Dribbling', 'Curve', 'FK Accuracy', 'Long Passing', 'Ball Control',\n       'Movement', 'Acceleration', 'Sprint Speed', 'Agility', 'Reactions',\n       'Balance', 'Power', 'Shot Power', 'Jumping', 'Stamina', 'Strength',\n       'Long Shots', 'Mentality', 'Aggression', 'Interceptions', 'Positioning',\n       'Vision', 'Penalties', 'Composure', 'Defending', 'Marking',\n       'Standing Tackle', 'Sliding Tackle', 'Goalkeeping', 'GK Diving',\n       'GK Handling', 'GK Kicking', 'GK Positioning', 'GK Reflexes',\n       'Total Stats', 'Base Stats', 'W/F', 'SM', 'IR', 'PAC', 'SHO', 'PAS',\n       'DRI', 'DEF', 'PHY'],\n      dtype='object')\n"
    }
   ],
   "source": [
    "indexes = defenders._get_numeric_data().columns\n",
    "print(indexes)"
   ]
  },
  {
   "cell_type": "code",
   "execution_count": 8,
   "metadata": {},
   "outputs": [
    {
     "output_type": "execute_result",
     "data": {
      "text/plain": "    Age   Overall  Potential    Height    Weight       BOV  Growth     Value  \\\n0  0.44  1.000000   1.000000  0.776805  0.822957  1.000000    0.04  0.079055   \n1  0.48  0.976744   0.976744  0.667396  0.760700  0.976744    0.08  0.068275   \n2  0.68  0.976744   0.976744  0.555799  0.628405  1.000000    0.00  0.031314   \n3  0.72  0.976744   0.976744  0.667396  0.680934  0.976744    0.00  0.024127   \n4  0.68  0.953488   0.953488  0.667396  0.548638  0.976744    0.00  0.027721   \n\n       Wage  Release Clause  ...  Base Stats  W/F   SM        IR       PAC  \\\n0  0.665552        0.149649  ...    0.911765  0.5  0.0  0.666667  0.746479   \n1  0.498328        0.119157  ...    0.698529  0.5  0.0  0.666667  0.661972   \n2  1.000000        0.063791  ...    0.933824  0.5  0.5  1.000000  0.676056   \n3  0.715719        0.039519  ...    0.727941  0.5  0.0  1.000000  0.619718   \n4  0.448161        0.046740  ...    0.731618  0.5  0.0  0.666667  0.507042   \n\n        SHO       PAS       DRI       DEF       PHY  \n0  0.725806  0.766667  0.786885  1.000000  0.938776  \n1  0.209677  0.500000  0.721311  0.979592  0.959184  \n2  0.854839  0.850000  0.819672  0.938776  0.918367  \n3  0.500000  0.566667  0.606557  1.000000  0.857143  \n4  0.532258  0.666667  0.622951  0.979592  0.877551  \n\n[5 rows x 62 columns]",
      "text/html": "<div>\n<style scoped>\n    .dataframe tbody tr th:only-of-type {\n        vertical-align: middle;\n    }\n\n    .dataframe tbody tr th {\n        vertical-align: top;\n    }\n\n    .dataframe thead th {\n        text-align: right;\n    }\n</style>\n<table border=\"1\" class=\"dataframe\">\n  <thead>\n    <tr style=\"text-align: right;\">\n      <th></th>\n      <th>Age</th>\n      <th>Overall</th>\n      <th>Potential</th>\n      <th>Height</th>\n      <th>Weight</th>\n      <th>BOV</th>\n      <th>Growth</th>\n      <th>Value</th>\n      <th>Wage</th>\n      <th>Release Clause</th>\n      <th>...</th>\n      <th>Base Stats</th>\n      <th>W/F</th>\n      <th>SM</th>\n      <th>IR</th>\n      <th>PAC</th>\n      <th>SHO</th>\n      <th>PAS</th>\n      <th>DRI</th>\n      <th>DEF</th>\n      <th>PHY</th>\n    </tr>\n  </thead>\n  <tbody>\n    <tr>\n      <th>0</th>\n      <td>0.44</td>\n      <td>1.000000</td>\n      <td>1.000000</td>\n      <td>0.776805</td>\n      <td>0.822957</td>\n      <td>1.000000</td>\n      <td>0.04</td>\n      <td>0.079055</td>\n      <td>0.665552</td>\n      <td>0.149649</td>\n      <td>...</td>\n      <td>0.911765</td>\n      <td>0.5</td>\n      <td>0.0</td>\n      <td>0.666667</td>\n      <td>0.746479</td>\n      <td>0.725806</td>\n      <td>0.766667</td>\n      <td>0.786885</td>\n      <td>1.000000</td>\n      <td>0.938776</td>\n    </tr>\n    <tr>\n      <th>1</th>\n      <td>0.48</td>\n      <td>0.976744</td>\n      <td>0.976744</td>\n      <td>0.667396</td>\n      <td>0.760700</td>\n      <td>0.976744</td>\n      <td>0.08</td>\n      <td>0.068275</td>\n      <td>0.498328</td>\n      <td>0.119157</td>\n      <td>...</td>\n      <td>0.698529</td>\n      <td>0.5</td>\n      <td>0.0</td>\n      <td>0.666667</td>\n      <td>0.661972</td>\n      <td>0.209677</td>\n      <td>0.500000</td>\n      <td>0.721311</td>\n      <td>0.979592</td>\n      <td>0.959184</td>\n    </tr>\n    <tr>\n      <th>2</th>\n      <td>0.68</td>\n      <td>0.976744</td>\n      <td>0.976744</td>\n      <td>0.555799</td>\n      <td>0.628405</td>\n      <td>1.000000</td>\n      <td>0.00</td>\n      <td>0.031314</td>\n      <td>1.000000</td>\n      <td>0.063791</td>\n      <td>...</td>\n      <td>0.933824</td>\n      <td>0.5</td>\n      <td>0.5</td>\n      <td>1.000000</td>\n      <td>0.676056</td>\n      <td>0.854839</td>\n      <td>0.850000</td>\n      <td>0.819672</td>\n      <td>0.938776</td>\n      <td>0.918367</td>\n    </tr>\n    <tr>\n      <th>3</th>\n      <td>0.72</td>\n      <td>0.976744</td>\n      <td>0.976744</td>\n      <td>0.667396</td>\n      <td>0.680934</td>\n      <td>0.976744</td>\n      <td>0.00</td>\n      <td>0.024127</td>\n      <td>0.715719</td>\n      <td>0.039519</td>\n      <td>...</td>\n      <td>0.727941</td>\n      <td>0.5</td>\n      <td>0.0</td>\n      <td>1.000000</td>\n      <td>0.619718</td>\n      <td>0.500000</td>\n      <td>0.566667</td>\n      <td>0.606557</td>\n      <td>1.000000</td>\n      <td>0.857143</td>\n    </tr>\n    <tr>\n      <th>4</th>\n      <td>0.68</td>\n      <td>0.953488</td>\n      <td>0.953488</td>\n      <td>0.667396</td>\n      <td>0.548638</td>\n      <td>0.976744</td>\n      <td>0.00</td>\n      <td>0.027721</td>\n      <td>0.448161</td>\n      <td>0.046740</td>\n      <td>...</td>\n      <td>0.731618</td>\n      <td>0.5</td>\n      <td>0.0</td>\n      <td>0.666667</td>\n      <td>0.507042</td>\n      <td>0.532258</td>\n      <td>0.666667</td>\n      <td>0.622951</td>\n      <td>0.979592</td>\n      <td>0.877551</td>\n    </tr>\n  </tbody>\n</table>\n<p>5 rows × 62 columns</p>\n</div>"
     },
     "metadata": {},
     "execution_count": 8
    }
   ],
   "source": [
    "defenders = defenders[(defenders['BP'] != 'CB')]\n",
    "\n",
    "\n",
    "\n",
    "numerical_Data = defenders[['Age', 'Overall', 'Potential', 'Height', 'Weight', 'BOV',\n",
    "       'Growth', 'Value', 'Wage', 'Release Clause', 'Attacking', 'Crossing',\n",
    "       'Finishing', 'Heading Accuracy', 'Short Passing', 'Volleys', 'Skill',\n",
    "       'Dribbling', 'Curve', 'FK Accuracy', 'Long Passing', 'Ball Control',\n",
    "       'Movement', 'Acceleration', 'Sprint Speed', 'Agility', 'Reactions',\n",
    "       'Balance', 'Power', 'Shot Power', 'Jumping', 'Stamina', 'Strength',\n",
    "       'Long Shots', 'Mentality', 'Aggression', 'Interceptions', 'Positioning',\n",
    "       'Vision', 'Penalties', 'Composure', 'Defending', 'Marking',\n",
    "       'Standing Tackle', 'Sliding Tackle', 'Goalkeeping', 'GK Diving',\n",
    "       'GK Handling', 'GK Kicking', 'GK Positioning', 'GK Reflexes',\n",
    "       'Total Stats', 'Base Stats', 'W/F', 'SM', 'IR', 'PAC', 'SHO', 'PAS',\n",
    "       'DRI', 'DEF', 'PHY']]\n",
    "\n",
    "min_max = MinMaxScaler()\n",
    "player = min_max.fit_transform(numerical_Data)\n",
    "df_scaled = pd.DataFrame(player, columns=numerical_Data.columns,index=numerical_Data.index)\n",
    "df_scaled.head(5)"
   ]
  },
  {
   "cell_type": "code",
   "execution_count": 9,
   "metadata": {
    "tags": []
   },
   "outputs": [
    {
     "output_type": "stream",
     "name": "stdout",
     "text": "Overall           1.000000\nPotential         1.000000\nBOV               0.992123\nDEF               0.951440\nDefending         0.943572\n                    ...   \nGK Reflexes       0.046789\nBalance          -0.029860\nValue            -0.230731\nRelease Clause   -0.404690\nGrowth           -0.521768\nName: Overall, Length: 62, dtype: float64\n"
    }
   ],
   "source": [
    "DataFrame_Correlation_matrix = df_scaled.corr()\n",
    "print(DataFrame_Correlation_matrix['Overall'].sort_values(ascending=False))"
   ]
  },
  {
   "cell_type": "code",
   "execution_count": 50,
   "metadata": {},
   "outputs": [
    {
     "output_type": "execute_result",
     "data": {
      "text/plain": "    Age  Potential    Height    Weight       BOV  Growth     Value      Wage  \\\n0  0.44   1.000000  0.776805  0.822957  1.000000    0.04  0.079055  0.665552   \n1  0.48   0.976744  0.667396  0.760700  0.976744    0.08  0.068275  0.498328   \n2  0.68   0.976744  0.555799  0.628405  1.000000    0.00  0.031314  1.000000   \n3  0.72   0.976744  0.667396  0.680934  0.976744    0.00  0.024127  0.715719   \n4  0.68   0.953488  0.667396  0.548638  0.976744    0.00  0.027721  0.448161   \n5  0.64   0.953488  0.776805  0.680934  0.953488    0.00  0.037988  0.949833   \n\n   Release Clause  Attacking  ...  Base Stats  W/F   SM        IR       PAC  \\\n0        0.149649   0.704981  ...    0.911765  0.5  0.0  0.666667  0.746479   \n1        0.119157   0.344828  ...    0.698529  0.5  0.0  0.666667  0.661972   \n2        0.063791   0.919540  ...    0.933824  0.5  0.5  1.000000  0.676056   \n3        0.039519   0.574713  ...    0.727941  0.5  0.0  1.000000  0.619718   \n4        0.046740   0.681992  ...    0.731618  0.5  0.0  0.666667  0.507042   \n5        0.077131   0.831418  ...    0.805147  0.5  0.0  1.000000  0.450704   \n\n        SHO       PAS       DRI       DEF       PHY  \n0  0.725806  0.766667  0.786885  1.000000  0.938776  \n1  0.209677  0.500000  0.721311  0.979592  0.959184  \n2  0.854839  0.850000  0.819672  0.938776  0.918367  \n3  0.500000  0.566667  0.606557  1.000000  0.857143  \n4  0.532258  0.666667  0.622951  0.979592  0.877551  \n5  0.741935  0.800000  0.737705  0.959184  0.816327  \n\n[6 rows x 61 columns]",
      "text/html": "<div>\n<style scoped>\n    .dataframe tbody tr th:only-of-type {\n        vertical-align: middle;\n    }\n\n    .dataframe tbody tr th {\n        vertical-align: top;\n    }\n\n    .dataframe thead th {\n        text-align: right;\n    }\n</style>\n<table border=\"1\" class=\"dataframe\">\n  <thead>\n    <tr style=\"text-align: right;\">\n      <th></th>\n      <th>Age</th>\n      <th>Potential</th>\n      <th>Height</th>\n      <th>Weight</th>\n      <th>BOV</th>\n      <th>Growth</th>\n      <th>Value</th>\n      <th>Wage</th>\n      <th>Release Clause</th>\n      <th>Attacking</th>\n      <th>...</th>\n      <th>Base Stats</th>\n      <th>W/F</th>\n      <th>SM</th>\n      <th>IR</th>\n      <th>PAC</th>\n      <th>SHO</th>\n      <th>PAS</th>\n      <th>DRI</th>\n      <th>DEF</th>\n      <th>PHY</th>\n    </tr>\n  </thead>\n  <tbody>\n    <tr>\n      <th>0</th>\n      <td>0.44</td>\n      <td>1.000000</td>\n      <td>0.776805</td>\n      <td>0.822957</td>\n      <td>1.000000</td>\n      <td>0.04</td>\n      <td>0.079055</td>\n      <td>0.665552</td>\n      <td>0.149649</td>\n      <td>0.704981</td>\n      <td>...</td>\n      <td>0.911765</td>\n      <td>0.5</td>\n      <td>0.0</td>\n      <td>0.666667</td>\n      <td>0.746479</td>\n      <td>0.725806</td>\n      <td>0.766667</td>\n      <td>0.786885</td>\n      <td>1.000000</td>\n      <td>0.938776</td>\n    </tr>\n    <tr>\n      <th>1</th>\n      <td>0.48</td>\n      <td>0.976744</td>\n      <td>0.667396</td>\n      <td>0.760700</td>\n      <td>0.976744</td>\n      <td>0.08</td>\n      <td>0.068275</td>\n      <td>0.498328</td>\n      <td>0.119157</td>\n      <td>0.344828</td>\n      <td>...</td>\n      <td>0.698529</td>\n      <td>0.5</td>\n      <td>0.0</td>\n      <td>0.666667</td>\n      <td>0.661972</td>\n      <td>0.209677</td>\n      <td>0.500000</td>\n      <td>0.721311</td>\n      <td>0.979592</td>\n      <td>0.959184</td>\n    </tr>\n    <tr>\n      <th>2</th>\n      <td>0.68</td>\n      <td>0.976744</td>\n      <td>0.555799</td>\n      <td>0.628405</td>\n      <td>1.000000</td>\n      <td>0.00</td>\n      <td>0.031314</td>\n      <td>1.000000</td>\n      <td>0.063791</td>\n      <td>0.919540</td>\n      <td>...</td>\n      <td>0.933824</td>\n      <td>0.5</td>\n      <td>0.5</td>\n      <td>1.000000</td>\n      <td>0.676056</td>\n      <td>0.854839</td>\n      <td>0.850000</td>\n      <td>0.819672</td>\n      <td>0.938776</td>\n      <td>0.918367</td>\n    </tr>\n    <tr>\n      <th>3</th>\n      <td>0.72</td>\n      <td>0.976744</td>\n      <td>0.667396</td>\n      <td>0.680934</td>\n      <td>0.976744</td>\n      <td>0.00</td>\n      <td>0.024127</td>\n      <td>0.715719</td>\n      <td>0.039519</td>\n      <td>0.574713</td>\n      <td>...</td>\n      <td>0.727941</td>\n      <td>0.5</td>\n      <td>0.0</td>\n      <td>1.000000</td>\n      <td>0.619718</td>\n      <td>0.500000</td>\n      <td>0.566667</td>\n      <td>0.606557</td>\n      <td>1.000000</td>\n      <td>0.857143</td>\n    </tr>\n    <tr>\n      <th>4</th>\n      <td>0.68</td>\n      <td>0.953488</td>\n      <td>0.667396</td>\n      <td>0.548638</td>\n      <td>0.976744</td>\n      <td>0.00</td>\n      <td>0.027721</td>\n      <td>0.448161</td>\n      <td>0.046740</td>\n      <td>0.681992</td>\n      <td>...</td>\n      <td>0.731618</td>\n      <td>0.5</td>\n      <td>0.0</td>\n      <td>0.666667</td>\n      <td>0.507042</td>\n      <td>0.532258</td>\n      <td>0.666667</td>\n      <td>0.622951</td>\n      <td>0.979592</td>\n      <td>0.877551</td>\n    </tr>\n    <tr>\n      <th>5</th>\n      <td>0.64</td>\n      <td>0.953488</td>\n      <td>0.776805</td>\n      <td>0.680934</td>\n      <td>0.953488</td>\n      <td>0.00</td>\n      <td>0.037988</td>\n      <td>0.949833</td>\n      <td>0.077131</td>\n      <td>0.831418</td>\n      <td>...</td>\n      <td>0.805147</td>\n      <td>0.5</td>\n      <td>0.0</td>\n      <td>1.000000</td>\n      <td>0.450704</td>\n      <td>0.741935</td>\n      <td>0.800000</td>\n      <td>0.737705</td>\n      <td>0.959184</td>\n      <td>0.816327</td>\n    </tr>\n  </tbody>\n</table>\n<p>6 rows × 61 columns</p>\n</div>"
     },
     "metadata": {},
     "execution_count": 50
    }
   ],
   "source": [
    "predictorFeatures = indexes.drop(['Overall','ID'])\n",
    "x_variable, y_variable = df_scaled[predictorFeatures], defenders.BP\n",
    "x_variable.iloc[0:6]\n"
   ]
  },
  {
   "cell_type": "code",
   "execution_count": 11,
   "metadata": {},
   "outputs": [
    {
     "output_type": "execute_result",
     "data": {
      "text/plain": "    Age  Potential    Height    Weight       BOV  Growth     Value      Wage  \\\n0  0.44   1.000000  0.776805  0.822957  1.000000    0.04  0.079055  0.665552   \n1  0.48   0.976744  0.667396  0.760700  0.976744    0.08  0.068275  0.498328   \n2  0.68   0.976744  0.555799  0.628405  1.000000    0.00  0.031314  1.000000   \n3  0.72   0.976744  0.667396  0.680934  0.976744    0.00  0.024127  0.715719   \n4  0.68   0.953488  0.667396  0.548638  0.976744    0.00  0.027721  0.448161   \n5  0.64   0.953488  0.776805  0.680934  0.953488    0.00  0.037988  0.949833   \n6  0.36   0.930233  0.667396  0.680934  0.930233    0.12  0.056982  0.648829   \n7  0.56   0.930233  0.277899  0.354086  0.930233    0.00  0.040041  0.799331   \n8  0.56   0.930233  0.610503  0.610895  0.930233    0.00  0.041068  0.515050   \n9  0.56   0.930233  0.722101  0.857977  0.930233    0.00  0.041068  0.431438   \n\n   Release Clause  Attacking  ...  Base Stats  W/F   SM        IR       PAC  \\\n0        0.149649   0.704981  ...    0.911765  0.5  0.0  0.666667  0.746479   \n1        0.119157   0.344828  ...    0.698529  0.5  0.0  0.666667  0.661972   \n2        0.063791   0.919540  ...    0.933824  0.5  0.5  1.000000  0.676056   \n3        0.039519   0.574713  ...    0.727941  0.5  0.0  1.000000  0.619718   \n4        0.046740   0.681992  ...    0.731618  0.5  0.0  0.666667  0.507042   \n5        0.077131   0.831418  ...    0.805147  0.5  0.0  1.000000  0.450704   \n6        0.108124   0.689655  ...    0.797794  0.5  0.0  0.333333  0.563380   \n7        0.081244   0.934866  ...    0.988971  0.5  0.5  0.666667  0.929577   \n8        0.075125   0.681992  ...    0.801471  0.5  0.0  0.666667  0.563380   \n9        0.066901   0.831418  ...    0.794118  0.5  0.5  1.000000  0.380282   \n\n        SHO       PAS       DRI       DEF       PHY  \n0  0.725806  0.766667  0.786885  1.000000  0.938776  \n1  0.209677  0.500000  0.721311  0.979592  0.959184  \n2  0.854839  0.850000  0.819672  0.938776  0.918367  \n3  0.500000  0.566667  0.606557  1.000000  0.857143  \n4  0.532258  0.666667  0.622951  0.979592  0.877551  \n5  0.741935  0.800000  0.737705  0.959184  0.816327  \n6  0.564516  0.783333  0.737705  0.959184  0.857143  \n7  0.870968  0.950000  0.983607  0.775510  0.673469  \n8  0.645161  0.800000  0.704918  0.959184  0.795918  \n9  0.693548  0.866667  0.803279  0.979592  0.734694  \n\n[10 rows x 61 columns]",
      "text/html": "<div>\n<style scoped>\n    .dataframe tbody tr th:only-of-type {\n        vertical-align: middle;\n    }\n\n    .dataframe tbody tr th {\n        vertical-align: top;\n    }\n\n    .dataframe thead th {\n        text-align: right;\n    }\n</style>\n<table border=\"1\" class=\"dataframe\">\n  <thead>\n    <tr style=\"text-align: right;\">\n      <th></th>\n      <th>Age</th>\n      <th>Potential</th>\n      <th>Height</th>\n      <th>Weight</th>\n      <th>BOV</th>\n      <th>Growth</th>\n      <th>Value</th>\n      <th>Wage</th>\n      <th>Release Clause</th>\n      <th>Attacking</th>\n      <th>...</th>\n      <th>Base Stats</th>\n      <th>W/F</th>\n      <th>SM</th>\n      <th>IR</th>\n      <th>PAC</th>\n      <th>SHO</th>\n      <th>PAS</th>\n      <th>DRI</th>\n      <th>DEF</th>\n      <th>PHY</th>\n    </tr>\n  </thead>\n  <tbody>\n    <tr>\n      <th>0</th>\n      <td>0.44</td>\n      <td>1.000000</td>\n      <td>0.776805</td>\n      <td>0.822957</td>\n      <td>1.000000</td>\n      <td>0.04</td>\n      <td>0.079055</td>\n      <td>0.665552</td>\n      <td>0.149649</td>\n      <td>0.704981</td>\n      <td>...</td>\n      <td>0.911765</td>\n      <td>0.5</td>\n      <td>0.0</td>\n      <td>0.666667</td>\n      <td>0.746479</td>\n      <td>0.725806</td>\n      <td>0.766667</td>\n      <td>0.786885</td>\n      <td>1.000000</td>\n      <td>0.938776</td>\n    </tr>\n    <tr>\n      <th>1</th>\n      <td>0.48</td>\n      <td>0.976744</td>\n      <td>0.667396</td>\n      <td>0.760700</td>\n      <td>0.976744</td>\n      <td>0.08</td>\n      <td>0.068275</td>\n      <td>0.498328</td>\n      <td>0.119157</td>\n      <td>0.344828</td>\n      <td>...</td>\n      <td>0.698529</td>\n      <td>0.5</td>\n      <td>0.0</td>\n      <td>0.666667</td>\n      <td>0.661972</td>\n      <td>0.209677</td>\n      <td>0.500000</td>\n      <td>0.721311</td>\n      <td>0.979592</td>\n      <td>0.959184</td>\n    </tr>\n    <tr>\n      <th>2</th>\n      <td>0.68</td>\n      <td>0.976744</td>\n      <td>0.555799</td>\n      <td>0.628405</td>\n      <td>1.000000</td>\n      <td>0.00</td>\n      <td>0.031314</td>\n      <td>1.000000</td>\n      <td>0.063791</td>\n      <td>0.919540</td>\n      <td>...</td>\n      <td>0.933824</td>\n      <td>0.5</td>\n      <td>0.5</td>\n      <td>1.000000</td>\n      <td>0.676056</td>\n      <td>0.854839</td>\n      <td>0.850000</td>\n      <td>0.819672</td>\n      <td>0.938776</td>\n      <td>0.918367</td>\n    </tr>\n    <tr>\n      <th>3</th>\n      <td>0.72</td>\n      <td>0.976744</td>\n      <td>0.667396</td>\n      <td>0.680934</td>\n      <td>0.976744</td>\n      <td>0.00</td>\n      <td>0.024127</td>\n      <td>0.715719</td>\n      <td>0.039519</td>\n      <td>0.574713</td>\n      <td>...</td>\n      <td>0.727941</td>\n      <td>0.5</td>\n      <td>0.0</td>\n      <td>1.000000</td>\n      <td>0.619718</td>\n      <td>0.500000</td>\n      <td>0.566667</td>\n      <td>0.606557</td>\n      <td>1.000000</td>\n      <td>0.857143</td>\n    </tr>\n    <tr>\n      <th>4</th>\n      <td>0.68</td>\n      <td>0.953488</td>\n      <td>0.667396</td>\n      <td>0.548638</td>\n      <td>0.976744</td>\n      <td>0.00</td>\n      <td>0.027721</td>\n      <td>0.448161</td>\n      <td>0.046740</td>\n      <td>0.681992</td>\n      <td>...</td>\n      <td>0.731618</td>\n      <td>0.5</td>\n      <td>0.0</td>\n      <td>0.666667</td>\n      <td>0.507042</td>\n      <td>0.532258</td>\n      <td>0.666667</td>\n      <td>0.622951</td>\n      <td>0.979592</td>\n      <td>0.877551</td>\n    </tr>\n    <tr>\n      <th>5</th>\n      <td>0.64</td>\n      <td>0.953488</td>\n      <td>0.776805</td>\n      <td>0.680934</td>\n      <td>0.953488</td>\n      <td>0.00</td>\n      <td>0.037988</td>\n      <td>0.949833</td>\n      <td>0.077131</td>\n      <td>0.831418</td>\n      <td>...</td>\n      <td>0.805147</td>\n      <td>0.5</td>\n      <td>0.0</td>\n      <td>1.000000</td>\n      <td>0.450704</td>\n      <td>0.741935</td>\n      <td>0.800000</td>\n      <td>0.737705</td>\n      <td>0.959184</td>\n      <td>0.816327</td>\n    </tr>\n    <tr>\n      <th>6</th>\n      <td>0.36</td>\n      <td>0.930233</td>\n      <td>0.667396</td>\n      <td>0.680934</td>\n      <td>0.930233</td>\n      <td>0.12</td>\n      <td>0.056982</td>\n      <td>0.648829</td>\n      <td>0.108124</td>\n      <td>0.689655</td>\n      <td>...</td>\n      <td>0.797794</td>\n      <td>0.5</td>\n      <td>0.0</td>\n      <td>0.333333</td>\n      <td>0.563380</td>\n      <td>0.564516</td>\n      <td>0.783333</td>\n      <td>0.737705</td>\n      <td>0.959184</td>\n      <td>0.857143</td>\n    </tr>\n    <tr>\n      <th>7</th>\n      <td>0.56</td>\n      <td>0.930233</td>\n      <td>0.277899</td>\n      <td>0.354086</td>\n      <td>0.930233</td>\n      <td>0.00</td>\n      <td>0.040041</td>\n      <td>0.799331</td>\n      <td>0.081244</td>\n      <td>0.934866</td>\n      <td>...</td>\n      <td>0.988971</td>\n      <td>0.5</td>\n      <td>0.5</td>\n      <td>0.666667</td>\n      <td>0.929577</td>\n      <td>0.870968</td>\n      <td>0.950000</td>\n      <td>0.983607</td>\n      <td>0.775510</td>\n      <td>0.673469</td>\n    </tr>\n    <tr>\n      <th>8</th>\n      <td>0.56</td>\n      <td>0.930233</td>\n      <td>0.610503</td>\n      <td>0.610895</td>\n      <td>0.930233</td>\n      <td>0.00</td>\n      <td>0.041068</td>\n      <td>0.515050</td>\n      <td>0.075125</td>\n      <td>0.681992</td>\n      <td>...</td>\n      <td>0.801471</td>\n      <td>0.5</td>\n      <td>0.0</td>\n      <td>0.666667</td>\n      <td>0.563380</td>\n      <td>0.645161</td>\n      <td>0.800000</td>\n      <td>0.704918</td>\n      <td>0.959184</td>\n      <td>0.795918</td>\n    </tr>\n    <tr>\n      <th>9</th>\n      <td>0.56</td>\n      <td>0.930233</td>\n      <td>0.722101</td>\n      <td>0.857977</td>\n      <td>0.930233</td>\n      <td>0.00</td>\n      <td>0.041068</td>\n      <td>0.431438</td>\n      <td>0.066901</td>\n      <td>0.831418</td>\n      <td>...</td>\n      <td>0.794118</td>\n      <td>0.5</td>\n      <td>0.5</td>\n      <td>1.000000</td>\n      <td>0.380282</td>\n      <td>0.693548</td>\n      <td>0.866667</td>\n      <td>0.803279</td>\n      <td>0.979592</td>\n      <td>0.734694</td>\n    </tr>\n  </tbody>\n</table>\n<p>10 rows × 61 columns</p>\n</div>"
     },
     "metadata": {},
     "execution_count": 11
    }
   ],
   "source": [
    "x_variable.iloc[:10]"
   ]
  },
  {
   "cell_type": "code",
   "execution_count": 12,
   "metadata": {},
   "outputs": [
    {
     "output_type": "execute_result",
     "data": {
      "text/plain": "0       0\n1       0\n2       0\n3       0\n4       0\n       ..\n6149    0\n6150    0\n6151    1\n6152    1\n6153    0\nName: BP, Length: 6154, dtype: int32"
     },
     "metadata": {},
     "execution_count": 12
    }
   ],
   "source": [
    "y_variable = y_variable.astype(int)\n",
    "y_variable"
   ]
  },
  {
   "cell_type": "code",
   "execution_count": 13,
   "metadata": {
    "tags": []
   },
   "outputs": [
    {
     "output_type": "stream",
     "name": "stdout",
     "text": "(4923, 61) (4923,)\n(1231, 61) (1231,)\n"
    }
   ],
   "source": [
    "from sklearn.model_selection import train_test_split\n",
    "X_train, X_test, y_train, y_test = train_test_split(x_variable, y_variable, test_size=0.2)\n",
    "print (X_train.shape, y_train.shape)\n",
    "print (X_test.shape, y_test.shape)"
   ]
  },
  {
   "cell_type": "code",
   "execution_count": 32,
   "metadata": {},
   "outputs": [
    {
     "output_type": "execute_result",
     "data": {
      "text/plain": "       Age  Potential    Height    Weight       BOV  Growth     Value  \\\n2041  0.36   0.511628  0.667396  0.645914  0.511628    0.16  0.000205   \n5449  0.16   0.255814  0.498906  0.433852  0.255814    0.32  0.173511   \n343   0.32   0.697674  0.610503  0.628405  0.744186    0.16  0.009240   \n1077  0.48   0.581395  0.389497  0.468872  0.604651    0.00  0.001745   \n295   0.52   0.697674  0.667396  0.725681  0.720930    0.00  0.006674   \n...    ...        ...       ...       ...       ...     ...       ...   \n5191  0.24   0.302326  0.332604  0.319066  0.302326    0.32  0.276181   \n2512  0.16   0.488372  0.722101  0.822957  0.511628    0.32  0.000205   \n267   0.60   0.720930  0.389497  0.486381  0.744186    0.00  0.006674   \n4936  0.52   0.325581  0.389497  0.486381  0.348837    0.00  0.214579   \n4193  0.48   0.372093  0.389497  0.371595  0.395349    0.00  0.332649   \n\n          Wage  Release Clause  Attacking  ...  Base Stats   W/F   SM  \\\n2041  0.013378        0.001304   0.352490  ...    0.382353  0.25  0.0   \n5449  0.000000        0.340020   0.252874  ...    0.375000  0.25  0.0   \n343   0.070234        0.016851   0.712644  ...    0.757353  0.50  0.5   \n1077  0.020067        0.002508   0.567050  ...    0.720588  1.00  0.5   \n295   0.086957        0.011836   0.494253  ...    0.647059  0.50  0.0   \n...        ...             ...        ...  ...         ...   ...  ...   \n5191  0.000000        0.459378   0.367816  ...    0.481618  0.50  0.0   \n2512  0.003344        0.001204   0.329502  ...    0.422794  0.25  0.0   \n267   0.093645        0.012538   0.850575  ...    0.882353  0.50  1.0   \n4936  0.003344        0.283852   0.306513  ...    0.389706  0.50  0.0   \n4193  0.006689        0.504514   0.356322  ...    0.551471  0.25  0.0   \n\n            IR       PAC       SHO       PAS       DRI       DEF       PHY  \n2041  0.000000  0.295775  0.225806  0.383333  0.377049  0.551020  0.714286  \n5449  0.000000  0.619718  0.177419  0.366667  0.491803  0.326531  0.367347  \n343   0.333333  0.605634  0.564516  0.733333  0.770492  0.734694  0.816327  \n1077  0.333333  0.718310  0.548387  0.716667  0.786885  0.591837  0.612245  \n295   0.333333  0.408451  0.548387  0.700000  0.573770  0.775510  0.755102  \n...        ...       ...       ...       ...       ...       ...       ...  \n5191  0.000000  0.746479  0.322581  0.466667  0.606557  0.285714  0.367347  \n2512  0.000000  0.478873  0.354839  0.350000  0.295082  0.551020  0.653061  \n267   0.000000  0.788732  0.903226  0.783333  0.868852  0.673469  0.693878  \n4936  0.000000  0.549296  0.193548  0.366667  0.573770  0.387755  0.367347  \n4193  0.000000  0.746479  0.451613  0.500000  0.672131  0.346939  0.408163  \n\n[4923 rows x 61 columns]",
      "text/html": "<div>\n<style scoped>\n    .dataframe tbody tr th:only-of-type {\n        vertical-align: middle;\n    }\n\n    .dataframe tbody tr th {\n        vertical-align: top;\n    }\n\n    .dataframe thead th {\n        text-align: right;\n    }\n</style>\n<table border=\"1\" class=\"dataframe\">\n  <thead>\n    <tr style=\"text-align: right;\">\n      <th></th>\n      <th>Age</th>\n      <th>Potential</th>\n      <th>Height</th>\n      <th>Weight</th>\n      <th>BOV</th>\n      <th>Growth</th>\n      <th>Value</th>\n      <th>Wage</th>\n      <th>Release Clause</th>\n      <th>Attacking</th>\n      <th>...</th>\n      <th>Base Stats</th>\n      <th>W/F</th>\n      <th>SM</th>\n      <th>IR</th>\n      <th>PAC</th>\n      <th>SHO</th>\n      <th>PAS</th>\n      <th>DRI</th>\n      <th>DEF</th>\n      <th>PHY</th>\n    </tr>\n  </thead>\n  <tbody>\n    <tr>\n      <th>2041</th>\n      <td>0.36</td>\n      <td>0.511628</td>\n      <td>0.667396</td>\n      <td>0.645914</td>\n      <td>0.511628</td>\n      <td>0.16</td>\n      <td>0.000205</td>\n      <td>0.013378</td>\n      <td>0.001304</td>\n      <td>0.352490</td>\n      <td>...</td>\n      <td>0.382353</td>\n      <td>0.25</td>\n      <td>0.0</td>\n      <td>0.000000</td>\n      <td>0.295775</td>\n      <td>0.225806</td>\n      <td>0.383333</td>\n      <td>0.377049</td>\n      <td>0.551020</td>\n      <td>0.714286</td>\n    </tr>\n    <tr>\n      <th>5449</th>\n      <td>0.16</td>\n      <td>0.255814</td>\n      <td>0.498906</td>\n      <td>0.433852</td>\n      <td>0.255814</td>\n      <td>0.32</td>\n      <td>0.173511</td>\n      <td>0.000000</td>\n      <td>0.340020</td>\n      <td>0.252874</td>\n      <td>...</td>\n      <td>0.375000</td>\n      <td>0.25</td>\n      <td>0.0</td>\n      <td>0.000000</td>\n      <td>0.619718</td>\n      <td>0.177419</td>\n      <td>0.366667</td>\n      <td>0.491803</td>\n      <td>0.326531</td>\n      <td>0.367347</td>\n    </tr>\n    <tr>\n      <th>343</th>\n      <td>0.32</td>\n      <td>0.697674</td>\n      <td>0.610503</td>\n      <td>0.628405</td>\n      <td>0.744186</td>\n      <td>0.16</td>\n      <td>0.009240</td>\n      <td>0.070234</td>\n      <td>0.016851</td>\n      <td>0.712644</td>\n      <td>...</td>\n      <td>0.757353</td>\n      <td>0.50</td>\n      <td>0.5</td>\n      <td>0.333333</td>\n      <td>0.605634</td>\n      <td>0.564516</td>\n      <td>0.733333</td>\n      <td>0.770492</td>\n      <td>0.734694</td>\n      <td>0.816327</td>\n    </tr>\n    <tr>\n      <th>1077</th>\n      <td>0.48</td>\n      <td>0.581395</td>\n      <td>0.389497</td>\n      <td>0.468872</td>\n      <td>0.604651</td>\n      <td>0.00</td>\n      <td>0.001745</td>\n      <td>0.020067</td>\n      <td>0.002508</td>\n      <td>0.567050</td>\n      <td>...</td>\n      <td>0.720588</td>\n      <td>1.00</td>\n      <td>0.5</td>\n      <td>0.333333</td>\n      <td>0.718310</td>\n      <td>0.548387</td>\n      <td>0.716667</td>\n      <td>0.786885</td>\n      <td>0.591837</td>\n      <td>0.612245</td>\n    </tr>\n    <tr>\n      <th>295</th>\n      <td>0.52</td>\n      <td>0.697674</td>\n      <td>0.667396</td>\n      <td>0.725681</td>\n      <td>0.720930</td>\n      <td>0.00</td>\n      <td>0.006674</td>\n      <td>0.086957</td>\n      <td>0.011836</td>\n      <td>0.494253</td>\n      <td>...</td>\n      <td>0.647059</td>\n      <td>0.50</td>\n      <td>0.0</td>\n      <td>0.333333</td>\n      <td>0.408451</td>\n      <td>0.548387</td>\n      <td>0.700000</td>\n      <td>0.573770</td>\n      <td>0.775510</td>\n      <td>0.755102</td>\n    </tr>\n    <tr>\n      <th>...</th>\n      <td>...</td>\n      <td>...</td>\n      <td>...</td>\n      <td>...</td>\n      <td>...</td>\n      <td>...</td>\n      <td>...</td>\n      <td>...</td>\n      <td>...</td>\n      <td>...</td>\n      <td>...</td>\n      <td>...</td>\n      <td>...</td>\n      <td>...</td>\n      <td>...</td>\n      <td>...</td>\n      <td>...</td>\n      <td>...</td>\n      <td>...</td>\n      <td>...</td>\n      <td>...</td>\n    </tr>\n    <tr>\n      <th>5191</th>\n      <td>0.24</td>\n      <td>0.302326</td>\n      <td>0.332604</td>\n      <td>0.319066</td>\n      <td>0.302326</td>\n      <td>0.32</td>\n      <td>0.276181</td>\n      <td>0.000000</td>\n      <td>0.459378</td>\n      <td>0.367816</td>\n      <td>...</td>\n      <td>0.481618</td>\n      <td>0.50</td>\n      <td>0.0</td>\n      <td>0.000000</td>\n      <td>0.746479</td>\n      <td>0.322581</td>\n      <td>0.466667</td>\n      <td>0.606557</td>\n      <td>0.285714</td>\n      <td>0.367347</td>\n    </tr>\n    <tr>\n      <th>2512</th>\n      <td>0.16</td>\n      <td>0.488372</td>\n      <td>0.722101</td>\n      <td>0.822957</td>\n      <td>0.511628</td>\n      <td>0.32</td>\n      <td>0.000205</td>\n      <td>0.003344</td>\n      <td>0.001204</td>\n      <td>0.329502</td>\n      <td>...</td>\n      <td>0.422794</td>\n      <td>0.25</td>\n      <td>0.0</td>\n      <td>0.000000</td>\n      <td>0.478873</td>\n      <td>0.354839</td>\n      <td>0.350000</td>\n      <td>0.295082</td>\n      <td>0.551020</td>\n      <td>0.653061</td>\n    </tr>\n    <tr>\n      <th>267</th>\n      <td>0.60</td>\n      <td>0.720930</td>\n      <td>0.389497</td>\n      <td>0.486381</td>\n      <td>0.744186</td>\n      <td>0.00</td>\n      <td>0.006674</td>\n      <td>0.093645</td>\n      <td>0.012538</td>\n      <td>0.850575</td>\n      <td>...</td>\n      <td>0.882353</td>\n      <td>0.50</td>\n      <td>1.0</td>\n      <td>0.000000</td>\n      <td>0.788732</td>\n      <td>0.903226</td>\n      <td>0.783333</td>\n      <td>0.868852</td>\n      <td>0.673469</td>\n      <td>0.693878</td>\n    </tr>\n    <tr>\n      <th>4936</th>\n      <td>0.52</td>\n      <td>0.325581</td>\n      <td>0.389497</td>\n      <td>0.486381</td>\n      <td>0.348837</td>\n      <td>0.00</td>\n      <td>0.214579</td>\n      <td>0.003344</td>\n      <td>0.283852</td>\n      <td>0.306513</td>\n      <td>...</td>\n      <td>0.389706</td>\n      <td>0.50</td>\n      <td>0.0</td>\n      <td>0.000000</td>\n      <td>0.549296</td>\n      <td>0.193548</td>\n      <td>0.366667</td>\n      <td>0.573770</td>\n      <td>0.387755</td>\n      <td>0.367347</td>\n    </tr>\n    <tr>\n      <th>4193</th>\n      <td>0.48</td>\n      <td>0.372093</td>\n      <td>0.389497</td>\n      <td>0.371595</td>\n      <td>0.395349</td>\n      <td>0.00</td>\n      <td>0.332649</td>\n      <td>0.006689</td>\n      <td>0.504514</td>\n      <td>0.356322</td>\n      <td>...</td>\n      <td>0.551471</td>\n      <td>0.25</td>\n      <td>0.0</td>\n      <td>0.000000</td>\n      <td>0.746479</td>\n      <td>0.451613</td>\n      <td>0.500000</td>\n      <td>0.672131</td>\n      <td>0.346939</td>\n      <td>0.408163</td>\n    </tr>\n  </tbody>\n</table>\n<p>4923 rows × 61 columns</p>\n</div>"
     },
     "metadata": {},
     "execution_count": 32
    }
   ],
   "source": [
    "X_train"
   ]
  },
  {
   "cell_type": "code",
   "execution_count": 16,
   "metadata": {},
   "outputs": [
    {
     "output_type": "execute_result",
     "data": {
      "text/plain": "RandomForestClassifier(max_features='sqrt', max_leaf_nodes=5)"
     },
     "metadata": {},
     "execution_count": 16
    }
   ],
   "source": [
    "from sklearn.ensemble import RandomForestClassifier\n",
    "RF_Model = RandomForestClassifier(max_features = 'sqrt', max_leaf_nodes = 5)\n",
    "RF_Model.fit(X_train, y_train)"
   ]
  },
  {
   "cell_type": "code",
   "execution_count": 24,
   "metadata": {},
   "outputs": [],
   "source": [
    "from sklearn.metrics import *\n",
    "\n",
    "#Learning curve\n",
    "from sklearn.metrics import precision_recall_fscore_support\n",
    "from sklearn.metrics import f1_score\n",
    "from sklearn.model_selection import learning_curve\n",
    "from sklearn.model_selection import ShuffleSplit\n",
    "from sklearn.model_selection import cross_val_predict\n",
    "from sklearn.model_selection import cross_val_score\n",
    "from sklearn.model_selection import validation_curve\n",
    "\n",
    "# Import Classifiers\n",
    "from sklearn.linear_model import LogisticRegression\n",
    "from sklearn.ensemble import RandomForestClassifier\n",
    "from sklearn.linear_model import Perceptron\n",
    "from sklearn.linear_model import SGDClassifier\n",
    "from sklearn.tree import DecisionTreeClassifier\n",
    "from sklearn.neighbors import KNeighborsClassifier\n",
    "\n",
    "import numpy as np\n",
    "\n",
    "y_train_pred  = RF_Model.predict(X_train)\n",
    "\n",
    "Accuracy = round(np.median(cross_val_score(RF_Model, X_train, y_train, cv = 5)),2)*100\n",
    " \n",
    "Error   = 1 - Accuracy\n",
    "    \n",
    "precision = precision_score(y_train, y_pred) * 100\n",
    "recall = recall_score(y_train, y_pred) * 100\n",
    "f1score = f1_score(y_train, y_pred) * 100"
   ]
  },
  {
   "cell_type": "code",
   "execution_count": 26,
   "metadata": {
    "tags": []
   },
   "outputs": [
    {
     "output_type": "stream",
     "name": "stdout",
     "text": "Scoring Accuracy: 91.00 %\nPrecision: 88.64 %\nRecall: 87.27 %\nf1-score: 87.95 %\n[0 0 0 ... 1 1 1]\n"
    }
   ],
   "source": [
    "print('Scoring Accuracy: %.2f %%'%(Accuracy))\n",
    "print(\"Precision: %.2f %%\"%(precision))\n",
    "print(\"Recall: %.2f %%\"%(recall))\n",
    "print('f1-score: %.2f %%'%(f1score))\n",
    "\n",
    "print(y_train_pred)"
   ]
  },
  {
   "cell_type": "code",
   "execution_count": 27,
   "metadata": {
    "tags": []
   },
   "outputs": [
    {
     "output_type": "stream",
     "name": "stdout",
     "text": "[[2835  210]\n [ 239 1639]]\n"
    }
   ],
   "source": [
    "print(confusion_matrix(y_train, y_pred))"
   ]
  },
  {
   "cell_type": "code",
   "execution_count": 30,
   "metadata": {
    "tags": []
   },
   "outputs": [
    {
     "output_type": "stream",
     "name": "stdout",
     "text": "[[707  57]\n [ 77 390]]\nScoring Accuracy: 92.00 %\nPrecision: 87.25 %\nRecall: 83.51 %\nf1-score: 85.34 %\n"
    }
   ],
   "source": [
    "y_test_pred  = RF_Model.predict(X_test)\n",
    "print(confusion_matrix(y_test, y_test_pred))\n",
    "\n",
    "Accuracy = round(np.median(cross_val_score(RF_Model, X_test, y_test, cv = 5)),2)*100\n",
    " \n",
    "Error   = 1 - Accuracy\n",
    "    \n",
    "precision = precision_score(y_test, y_test_pred) * 100\n",
    "recall = recall_score(y_test, y_test_pred) * 100\n",
    "f1score = f1_score(y_test, y_test_pred) * 100\n",
    "\n",
    "print('Scoring Accuracy: %.2f %%'%(Accuracy))\n",
    "print(\"Precision: %.2f %%\"%(precision))\n",
    "print(\"Recall: %.2f %%\"%(recall))\n",
    "print('f1-score: %.2f %%'%(f1score))"
   ]
  },
  {
   "cell_type": "code",
   "execution_count": 37,
   "metadata": {},
   "outputs": [
    {
     "output_type": "execute_result",
     "data": {
      "text/plain": "       Age  Potential    Height    Weight       BOV  Growth     Value  \\\n4890  0.44   0.325581  0.610503  0.645914  0.372093    0.04  0.255647   \n1190  0.64   0.581395  0.389497  0.354086  0.581395    0.00  0.000924   \n3294  0.20   0.441860  0.498906  0.486381  0.465116    0.28  0.845996   \n2768  0.68   0.465116  0.667396  0.628405  0.488372    0.00  0.358316   \n1104  0.56   0.581395  0.610503  0.583658  0.604651    0.00  0.001540   \n...    ...        ...       ...       ...       ...     ...       ...   \n3309  0.28   0.441860  0.667396  0.548638  0.465116    0.24  0.820329   \n349   0.64   0.697674  0.610503  0.628405  0.744186    0.00  0.005133   \n2062  0.68   0.511628  0.610503  0.628405  0.534884    0.00  0.512320   \n1688  0.36   0.534884  0.776805  0.583658  0.558140    0.20  0.001129   \n761   0.44   0.627907  0.610503  0.566148  0.651163    0.00  0.004107   \n\n          Wage  Release Clause  Attacking  ...  Base Stats   W/F   SM  \\\n4890  0.000000        0.556670   0.444444  ...    0.500000  0.50  0.0   \n1190  0.023411        0.001505   0.624521  ...    0.702206  0.50  0.5   \n3294  0.006689        0.000201   0.536398  ...    0.606618  0.50  0.0   \n2768  0.003344        0.473420   0.417625  ...    0.500000  0.50  0.0   \n1104  0.036789        0.004012   0.666667  ...    0.694853  0.50  0.5   \n...        ...             ...        ...  ...         ...   ...  ...   \n3309  0.003344        0.000301   0.501916  ...    0.533088  0.50  0.0   \n349   0.070234        0.011635   0.758621  ...    0.724265  0.50  0.5   \n2062  0.013378        0.801404   0.616858  ...    0.459559  0.50  0.0   \n1688  0.013378        0.002508   0.310345  ...    0.404412  0.50  0.0   \n761   0.063545        0.009027   0.747126  ...    0.738971  0.25  0.0   \n\n            IR       PAC       SHO       PAS       DRI       DEF       PHY  \n4890  0.000000  0.690141  0.338710  0.450000  0.590164  0.408163  0.448980  \n1190  0.000000  0.704225  0.500000  0.683333  0.721311  0.571429  0.734694  \n3294  0.000000  0.732394  0.419355  0.566667  0.672131  0.448980  0.591837  \n2768  0.000000  0.352113  0.435484  0.516667  0.491803  0.448980  0.816327  \n1104  0.000000  0.591549  0.612903  0.683333  0.704918  0.612245  0.693878  \n...        ...       ...       ...       ...       ...       ...       ...  \n3309  0.000000  0.577465  0.403226  0.633333  0.459016  0.510204  0.551020  \n349   0.333333  0.366197  0.741935  0.716667  0.721311  0.714286  0.857143  \n2062  0.000000  0.098592  0.516129  0.516667  0.508197  0.530612  0.755102  \n1688  0.000000  0.323944  0.258065  0.416667  0.327869  0.591837  0.734694  \n761   0.000000  0.492958  0.822581  0.716667  0.737705  0.693878  0.653061  \n\n[1231 rows x 61 columns]",
      "text/html": "<div>\n<style scoped>\n    .dataframe tbody tr th:only-of-type {\n        vertical-align: middle;\n    }\n\n    .dataframe tbody tr th {\n        vertical-align: top;\n    }\n\n    .dataframe thead th {\n        text-align: right;\n    }\n</style>\n<table border=\"1\" class=\"dataframe\">\n  <thead>\n    <tr style=\"text-align: right;\">\n      <th></th>\n      <th>Age</th>\n      <th>Potential</th>\n      <th>Height</th>\n      <th>Weight</th>\n      <th>BOV</th>\n      <th>Growth</th>\n      <th>Value</th>\n      <th>Wage</th>\n      <th>Release Clause</th>\n      <th>Attacking</th>\n      <th>...</th>\n      <th>Base Stats</th>\n      <th>W/F</th>\n      <th>SM</th>\n      <th>IR</th>\n      <th>PAC</th>\n      <th>SHO</th>\n      <th>PAS</th>\n      <th>DRI</th>\n      <th>DEF</th>\n      <th>PHY</th>\n    </tr>\n  </thead>\n  <tbody>\n    <tr>\n      <th>4890</th>\n      <td>0.44</td>\n      <td>0.325581</td>\n      <td>0.610503</td>\n      <td>0.645914</td>\n      <td>0.372093</td>\n      <td>0.04</td>\n      <td>0.255647</td>\n      <td>0.000000</td>\n      <td>0.556670</td>\n      <td>0.444444</td>\n      <td>...</td>\n      <td>0.500000</td>\n      <td>0.50</td>\n      <td>0.0</td>\n      <td>0.000000</td>\n      <td>0.690141</td>\n      <td>0.338710</td>\n      <td>0.450000</td>\n      <td>0.590164</td>\n      <td>0.408163</td>\n      <td>0.448980</td>\n    </tr>\n    <tr>\n      <th>1190</th>\n      <td>0.64</td>\n      <td>0.581395</td>\n      <td>0.389497</td>\n      <td>0.354086</td>\n      <td>0.581395</td>\n      <td>0.00</td>\n      <td>0.000924</td>\n      <td>0.023411</td>\n      <td>0.001505</td>\n      <td>0.624521</td>\n      <td>...</td>\n      <td>0.702206</td>\n      <td>0.50</td>\n      <td>0.5</td>\n      <td>0.000000</td>\n      <td>0.704225</td>\n      <td>0.500000</td>\n      <td>0.683333</td>\n      <td>0.721311</td>\n      <td>0.571429</td>\n      <td>0.734694</td>\n    </tr>\n    <tr>\n      <th>3294</th>\n      <td>0.20</td>\n      <td>0.441860</td>\n      <td>0.498906</td>\n      <td>0.486381</td>\n      <td>0.465116</td>\n      <td>0.28</td>\n      <td>0.845996</td>\n      <td>0.006689</td>\n      <td>0.000201</td>\n      <td>0.536398</td>\n      <td>...</td>\n      <td>0.606618</td>\n      <td>0.50</td>\n      <td>0.0</td>\n      <td>0.000000</td>\n      <td>0.732394</td>\n      <td>0.419355</td>\n      <td>0.566667</td>\n      <td>0.672131</td>\n      <td>0.448980</td>\n      <td>0.591837</td>\n    </tr>\n    <tr>\n      <th>2768</th>\n      <td>0.68</td>\n      <td>0.465116</td>\n      <td>0.667396</td>\n      <td>0.628405</td>\n      <td>0.488372</td>\n      <td>0.00</td>\n      <td>0.358316</td>\n      <td>0.003344</td>\n      <td>0.473420</td>\n      <td>0.417625</td>\n      <td>...</td>\n      <td>0.500000</td>\n      <td>0.50</td>\n      <td>0.0</td>\n      <td>0.000000</td>\n      <td>0.352113</td>\n      <td>0.435484</td>\n      <td>0.516667</td>\n      <td>0.491803</td>\n      <td>0.448980</td>\n      <td>0.816327</td>\n    </tr>\n    <tr>\n      <th>1104</th>\n      <td>0.56</td>\n      <td>0.581395</td>\n      <td>0.610503</td>\n      <td>0.583658</td>\n      <td>0.604651</td>\n      <td>0.00</td>\n      <td>0.001540</td>\n      <td>0.036789</td>\n      <td>0.004012</td>\n      <td>0.666667</td>\n      <td>...</td>\n      <td>0.694853</td>\n      <td>0.50</td>\n      <td>0.5</td>\n      <td>0.000000</td>\n      <td>0.591549</td>\n      <td>0.612903</td>\n      <td>0.683333</td>\n      <td>0.704918</td>\n      <td>0.612245</td>\n      <td>0.693878</td>\n    </tr>\n    <tr>\n      <th>...</th>\n      <td>...</td>\n      <td>...</td>\n      <td>...</td>\n      <td>...</td>\n      <td>...</td>\n      <td>...</td>\n      <td>...</td>\n      <td>...</td>\n      <td>...</td>\n      <td>...</td>\n      <td>...</td>\n      <td>...</td>\n      <td>...</td>\n      <td>...</td>\n      <td>...</td>\n      <td>...</td>\n      <td>...</td>\n      <td>...</td>\n      <td>...</td>\n      <td>...</td>\n      <td>...</td>\n    </tr>\n    <tr>\n      <th>3309</th>\n      <td>0.28</td>\n      <td>0.441860</td>\n      <td>0.667396</td>\n      <td>0.548638</td>\n      <td>0.465116</td>\n      <td>0.24</td>\n      <td>0.820329</td>\n      <td>0.003344</td>\n      <td>0.000301</td>\n      <td>0.501916</td>\n      <td>...</td>\n      <td>0.533088</td>\n      <td>0.50</td>\n      <td>0.0</td>\n      <td>0.000000</td>\n      <td>0.577465</td>\n      <td>0.403226</td>\n      <td>0.633333</td>\n      <td>0.459016</td>\n      <td>0.510204</td>\n      <td>0.551020</td>\n    </tr>\n    <tr>\n      <th>349</th>\n      <td>0.64</td>\n      <td>0.697674</td>\n      <td>0.610503</td>\n      <td>0.628405</td>\n      <td>0.744186</td>\n      <td>0.00</td>\n      <td>0.005133</td>\n      <td>0.070234</td>\n      <td>0.011635</td>\n      <td>0.758621</td>\n      <td>...</td>\n      <td>0.724265</td>\n      <td>0.50</td>\n      <td>0.5</td>\n      <td>0.333333</td>\n      <td>0.366197</td>\n      <td>0.741935</td>\n      <td>0.716667</td>\n      <td>0.721311</td>\n      <td>0.714286</td>\n      <td>0.857143</td>\n    </tr>\n    <tr>\n      <th>2062</th>\n      <td>0.68</td>\n      <td>0.511628</td>\n      <td>0.610503</td>\n      <td>0.628405</td>\n      <td>0.534884</td>\n      <td>0.00</td>\n      <td>0.512320</td>\n      <td>0.013378</td>\n      <td>0.801404</td>\n      <td>0.616858</td>\n      <td>...</td>\n      <td>0.459559</td>\n      <td>0.50</td>\n      <td>0.0</td>\n      <td>0.000000</td>\n      <td>0.098592</td>\n      <td>0.516129</td>\n      <td>0.516667</td>\n      <td>0.508197</td>\n      <td>0.530612</td>\n      <td>0.755102</td>\n    </tr>\n    <tr>\n      <th>1688</th>\n      <td>0.36</td>\n      <td>0.534884</td>\n      <td>0.776805</td>\n      <td>0.583658</td>\n      <td>0.558140</td>\n      <td>0.20</td>\n      <td>0.001129</td>\n      <td>0.013378</td>\n      <td>0.002508</td>\n      <td>0.310345</td>\n      <td>...</td>\n      <td>0.404412</td>\n      <td>0.50</td>\n      <td>0.0</td>\n      <td>0.000000</td>\n      <td>0.323944</td>\n      <td>0.258065</td>\n      <td>0.416667</td>\n      <td>0.327869</td>\n      <td>0.591837</td>\n      <td>0.734694</td>\n    </tr>\n    <tr>\n      <th>761</th>\n      <td>0.44</td>\n      <td>0.627907</td>\n      <td>0.610503</td>\n      <td>0.566148</td>\n      <td>0.651163</td>\n      <td>0.00</td>\n      <td>0.004107</td>\n      <td>0.063545</td>\n      <td>0.009027</td>\n      <td>0.747126</td>\n      <td>...</td>\n      <td>0.738971</td>\n      <td>0.25</td>\n      <td>0.0</td>\n      <td>0.000000</td>\n      <td>0.492958</td>\n      <td>0.822581</td>\n      <td>0.716667</td>\n      <td>0.737705</td>\n      <td>0.693878</td>\n      <td>0.653061</td>\n    </tr>\n  </tbody>\n</table>\n<p>1231 rows × 61 columns</p>\n</div>"
     },
     "metadata": {},
     "execution_count": 37
    }
   ],
   "source": [
    "X_test"
   ]
  },
  {
   "cell_type": "code",
   "execution_count": 69,
   "metadata": {},
   "outputs": [
    {
     "output_type": "execute_result",
     "data": {
      "text/plain": "array([1, 1, 1, 0, 0, 1, 0, 0, 1, 0])"
     },
     "metadata": {},
     "execution_count": 69
    }
   ],
   "source": [
    "y_test_pred[0:10]"
   ]
  },
  {
   "cell_type": "code",
   "execution_count": 79,
   "metadata": {},
   "outputs": [
    {
     "output_type": "execute_result",
     "data": {
      "text/plain": "array([[ 1.99813451e+00,  9.96501712e-01, -2.59608551e-02, ...,\n        -4.44193878e-16,  9.41531541e-16, -1.30903903e-16],\n       [ 7.63429497e-01,  1.29817745e+00, -4.76778007e-01, ...,\n        -5.68177129e-16,  1.40683862e-15, -1.00611135e-15],\n       [ 2.56714229e+00,  7.35417226e-01,  5.26705517e-04, ...,\n         3.91971819e-17, -3.81654174e-16, -3.57678678e-17],\n       ...,\n       [-1.59042825e+00, -6.80938774e-01, -5.12353199e-01, ...,\n         2.58094458e-18, -1.90634778e-17,  1.10756768e-17],\n       [-1.65119704e+00, -9.81640925e-01, -5.69461984e-01, ...,\n        -2.70022360e-17,  6.96829203e-17,  1.01543591e-17],\n       [-1.80071233e+00, -7.38893392e-01, -5.87198387e-01, ...,\n        -5.13065781e-17,  4.33694690e-17, -6.86005704e-18]])"
     },
     "metadata": {},
     "execution_count": 79
    }
   ],
   "source": [
    "from sklearn.decomposition import PCA\n",
    "\n",
    "pca = PCA()\n",
    "pcad_data = pca.fit_transform(x_variable)\n",
    "#percentage variation on each principal component\n",
    "per_var = np.round(pca.explained_variance_ratio_ * 100, decimals=1)\n",
    "\n",
    "#create lables for eachb principal component\n",
    "labels = ['PC' + str(pc) for pc in range(1, len(per_var)+1)]"
   ]
  },
  {
   "cell_type": "code",
   "execution_count": null,
   "metadata": {},
   "outputs": [],
   "source": []
  }
 ],
 "metadata": {
  "kernelspec": {
   "display_name": "Python 3",
   "language": "python",
   "name": "python3"
  },
  "language_info": {
   "codemirror_mode": {
    "name": "ipython",
    "version": 3
   },
   "file_extension": ".py",
   "mimetype": "text/x-python",
   "name": "python",
   "nbconvert_exporter": "python",
   "pygments_lexer": "ipython3",
   "version": "3.7.6"
  }
 },
 "nbformat": 4,
 "nbformat_minor": 4
}